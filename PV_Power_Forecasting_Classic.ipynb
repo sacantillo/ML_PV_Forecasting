{
  "cells": [
    {
      "attachments": {},
      "cell_type": "markdown",
      "metadata": {},
      "source": [
        "# Libraries"
      ]
    },
    {
      "cell_type": "code",
      "execution_count": 1,
      "metadata": {
        "id": "AiArkc7JOets"
      },
      "outputs": [],
      "source": [
        "import numpy as np\n",
        "import pandas as pd\n",
        "import pathlib, glob, math\n",
        "import warnings\n",
        "\n",
        "from sklearn.metrics import mean_squared_error, mean_absolute_error,  r2_score, explained_variance_score\n",
        "\n",
        "from plotly.subplots import make_subplots\n",
        "import plotly.graph_objects as go\n",
        "\n",
        "from sklearn.multioutput import RegressorChain\n",
        "from sklearn.svm import SVR\n",
        "from xgboost import XGBRegressor, XGBRFRegressor"
      ]
    },
    {
      "attachments": {},
      "cell_type": "markdown",
      "metadata": {},
      "source": [
        "# Data Preprocessing"
      ]
    },
    {
      "cell_type": "code",
      "execution_count": 2,
      "metadata": {
        "id": "8If3Y6FZPNB1"
      },
      "outputs": [],
      "source": [
        "data_dir = \"PV\""
      ]
    },
    {
      "cell_type": "code",
      "execution_count": 3,
      "metadata": {
        "colab": {
          "base_uri": "https://localhost:8080/"
        },
        "id": "awEaxQH9PUxk",
        "outputId": "c9ce6a8f-68d1-460e-9644-6deafd542c35"
      },
      "outputs": [
        {
          "name": "stdout",
          "output_type": "stream",
          "text": [
            "Folder Structure:\n",
            "PV\\2_Feb_SFV_63176617_2016.xlsx\n",
            "PV\\3_Mar_SFV_63176617_2016.xlsx\n",
            "PV\\4_Apr_SFV_63176617_2016.xlsx\n",
            "PV\\5_May_SFV_63176617_2016.xlsx\n",
            "PV\\6_Jun_SFV_63176617_2016.xlsx\n",
            "PV\\7_Jul_SFV_63176617_2016.xlsx\n"
          ]
        }
      ],
      "source": [
        "data_dir = pathlib.Path(data_dir)\n",
        "folder = list(data_dir.glob('*'))\n",
        "print('Folder Structure:')\n",
        "for f in folder:\n",
        "    print(f)"
      ]
    },
    {
      "cell_type": "code",
      "execution_count": 4,
      "metadata": {
        "colab": {
          "base_uri": "https://localhost:8080/",
          "height": 206
        },
        "id": "fiej-FPWPhvN",
        "outputId": "64db0f63-f54b-4429-f7f8-d40f993366f9"
      },
      "outputs": [
        {
          "name": "stdout",
          "output_type": "stream",
          "text": [
            "(16512, 1)\n"
          ]
        },
        {
          "data": {
            "text/html": [
              "<div>\n",
              "<style scoped>\n",
              "    .dataframe tbody tr th:only-of-type {\n",
              "        vertical-align: middle;\n",
              "    }\n",
              "\n",
              "    .dataframe tbody tr th {\n",
              "        vertical-align: top;\n",
              "    }\n",
              "\n",
              "    .dataframe thead th {\n",
              "        text-align: right;\n",
              "    }\n",
              "</style>\n",
              "<table border=\"1\" class=\"dataframe\">\n",
              "  <thead>\n",
              "    <tr style=\"text-align: right;\">\n",
              "      <th></th>\n",
              "      <th>KWHD</th>\n",
              "    </tr>\n",
              "  </thead>\n",
              "  <tbody>\n",
              "    <tr>\n",
              "      <th>2016-02-11 00:00:00</th>\n",
              "      <td>0.0</td>\n",
              "    </tr>\n",
              "    <tr>\n",
              "      <th>2016-02-11 00:15:00</th>\n",
              "      <td>0.0</td>\n",
              "    </tr>\n",
              "    <tr>\n",
              "      <th>2016-02-11 00:30:00</th>\n",
              "      <td>0.0</td>\n",
              "    </tr>\n",
              "    <tr>\n",
              "      <th>2016-02-11 00:45:00</th>\n",
              "      <td>0.0</td>\n",
              "    </tr>\n",
              "    <tr>\n",
              "      <th>2016-02-11 01:00:00</th>\n",
              "      <td>0.0</td>\n",
              "    </tr>\n",
              "  </tbody>\n",
              "</table>\n",
              "</div>"
            ],
            "text/plain": [
              "                     KWHD\n",
              "2016-02-11 00:00:00   0.0\n",
              "2016-02-11 00:15:00   0.0\n",
              "2016-02-11 00:30:00   0.0\n",
              "2016-02-11 00:45:00   0.0\n",
              "2016-02-11 01:00:00   0.0"
            ]
          },
          "execution_count": 4,
          "metadata": {},
          "output_type": "execute_result"
        }
      ],
      "source": [
        "warnings.filterwarnings('ignore', category=UserWarning, module='openpyxl')\n",
        "datosPV = pd.DataFrame()\n",
        "for f in sorted(glob.glob(str(data_dir)+\"/*.xlsx\")):\n",
        "  df = pd.read_excel(f, header=0)\n",
        "  datosPV = pd.concat([datosPV,df], axis=0, sort=False, ignore_index=True)\n",
        "datosPV = datosPV.dropna(axis=1)\n",
        "datosPV = datosPV.drop(range(0, 960, 1),axis=0).reset_index(drop=True)\n",
        "datosPV = datosPV.drop(labels=['MEDIDOR','KWHR','KVARHD','FECHA','INTERVALO'],axis=1)\n",
        "rng = pd.date_range(start = '2016-02-11 00:00', end ='2016-07-31 23:45', freq='15min')\n",
        "datosPV = datosPV.set_index(rng)\n",
        "print(datosPV.shape)\n",
        "datosPV.head(5)"
      ]
    },
    {
      "cell_type": "code",
      "execution_count": 5,
      "metadata": {},
      "outputs": [
        {
          "name": "stdout",
          "output_type": "stream",
          "text": [
            "Fechas train      : 2016-02-11 00:00:00 --- 2016-07-14 19:15:00\n",
            "Fechas test       : 2016-07-14 19:15:00 --- 2016-07-31 23:45:00\n"
          ]
        }
      ],
      "source": [
        "fin_train = '2016-06-10 09:45:00'\n",
        "fin_validacion = '2016-07-14 19:15:00'\n",
        "\n",
        "datosPV_train = datosPV.loc[: fin_validacion, :] \n",
        "datosPV_test = datosPV.loc[fin_validacion:, :]\n",
        "\n",
        "train_size = datosPV_train.shape[0]\n",
        "test_size = datosPV_test.shape[0]\n",
        "\n",
        "print(f\"Fechas train      : {datosPV_train.index.min()} --- {datosPV_train.index.max()}\")\n",
        "print(f\"Fechas test       : {datosPV_test.index.min()} --- {datosPV_test.index.max()}\")"
      ]
    },
    {
      "cell_type": "code",
      "execution_count": 6,
      "metadata": {},
      "outputs": [],
      "source": [
        "def percentage_error(actual, predicted):\n",
        "    res = np.empty(actual.shape)\n",
        "    for j in range(actual.shape[0]):\n",
        "        if actual[j] != 0:\n",
        "            res[j] = (actual[j] - predicted[j]) / actual[j]\n",
        "        else:\n",
        "            res[j] = predicted[j] / np.mean(actual)\n",
        "    return res\n",
        "\n",
        "def MAPE(y_true, y_pred): \n",
        "    return np.mean(np.abs(percentage_error(np.asarray(y_true), np.asarray(y_pred))))*(100)"
      ]
    },
    {
      "attachments": {},
      "cell_type": "markdown",
      "metadata": {},
      "source": [
        "## Data conversion to forecasting windows"
      ]
    },
    {
      "cell_type": "code",
      "execution_count": 7,
      "metadata": {},
      "outputs": [],
      "source": [
        "def convert_dataTS(train,test,lag,window):\n",
        "    train = np.array(train)\n",
        "    test = np.array(test)\n",
        "    X_train, y_train = [], []\n",
        "    X_test, y_test = [], []\n",
        "\n",
        "    for i in range(lag, len(train)-lag):\n",
        "        X_train.append(train[i-lag:i])\n",
        "        y_train.append(train[i:i+window])\n",
        "\n",
        "    for i in range(lag, len(test)-lag):\n",
        "        X_test.append(test[i-lag:i])\n",
        "        y_test.append(test[i:i+window])\n",
        "    \n",
        "    X_train,X_test,y_train,y_test = np.array(X_train), np.array(X_test), np.array(y_train), np.array(y_test) \n",
        "    return X_train,X_test,y_train,y_test\n",
        "    "
      ]
    },
    {
      "cell_type": "code",
      "execution_count": 8,
      "metadata": {},
      "outputs": [
        {
          "name": "stdout",
          "output_type": "stream",
          "text": [
            "(14670, 96) (1459, 96)\n",
            "(14670, 96) (1459, 96)\n",
            "(14670, 96) (1459, 96)\n"
          ]
        }
      ],
      "source": [
        "X_train_15,X_test_15,y_train_15,y_test_15 =  convert_dataTS(datosPV_train.KWHD,datosPV_test.KWHD,96,1)\n",
        "print(X_train_15.shape, X_test_15.shape)\n",
        "X_train_30,X_test_30,y_train_30,y_test_30 =  convert_dataTS(datosPV_train.KWHD,datosPV_test.KWHD,96,2)\n",
        "print(X_train_30.shape, X_test_30.shape) \n",
        "X_train_60,X_test_60,y_train_60,y_test_60 =  convert_dataTS(datosPV_train.KWHD,datosPV_test.KWHD,96,4)\n",
        "print(X_train_60.shape, X_test_60.shape) "
      ]
    },
    {
      "attachments": {},
      "cell_type": "markdown",
      "metadata": {},
      "source": [
        "# ML models"
      ]
    },
    {
      "attachments": {},
      "cell_type": "markdown",
      "metadata": {},
      "source": [
        "## XGB"
      ]
    },
    {
      "attachments": {},
      "cell_type": "markdown",
      "metadata": {
        "tags": [
          "Libraries"
        ]
      },
      "source": [
        "### 15 mins ahead"
      ]
    },
    {
      "cell_type": "code",
      "execution_count": 9,
      "metadata": {},
      "outputs": [],
      "source": [
        "model_XGB = RegressorChain(XGBRegressor(random_state=1, max_depth = 10, n_estimators=600, learning_rate=0.15,  n_jobs = -1))"
      ]
    },
    {
      "cell_type": "code",
      "execution_count": 10,
      "metadata": {},
      "outputs": [],
      "source": [
        "model_XGB.fit(X_train_15,y_train_15)\n",
        "predictionsXGB = model_XGB.predict(X_test_15)"
      ]
    },
    {
      "cell_type": "code",
      "execution_count": 11,
      "metadata": {},
      "outputs": [
        {
          "name": "stdout",
          "output_type": "stream",
          "text": [
            "MSE: 0.0006914321806359537\n",
            "RMSE: 0.026295098034347653\n",
            "MAE: 0.013109873242676621\n",
            "R2: 0.9021421354053611\n",
            "Explained Variance: 0.9023451238707162\n",
            "Mean Absolute Percentage Error: 14.389695011508113\n"
          ]
        }
      ],
      "source": [
        "MAPE1 = MAPE(y_test_15, predictionsXGB)\n",
        "print(\"MSE:\", mean_squared_error(y_test_15, predictionsXGB))\n",
        "print(\"RMSE:\", math.sqrt(mean_squared_error(y_test_15, predictionsXGB)))\n",
        "print(\"MAE:\",mean_absolute_error(y_test_15, predictionsXGB))\n",
        "print(\"R2:\", r2_score(y_test_15, predictionsXGB))\n",
        "print(\"Explained Variance:\", explained_variance_score(y_test_15, predictionsXGB))\n",
        "print(\"Mean Absolute Percentage Error:\",MAPE1)"
      ]
    },
    {
      "attachments": {},
      "cell_type": "markdown",
      "metadata": {},
      "source": [
        "### 30 min ahead"
      ]
    },
    {
      "cell_type": "code",
      "execution_count": 12,
      "metadata": {},
      "outputs": [
        {
          "data": {
            "text/html": [
              "<style>#sk-container-id-1 {color: black;background-color: white;}#sk-container-id-1 pre{padding: 0;}#sk-container-id-1 div.sk-toggleable {background-color: white;}#sk-container-id-1 label.sk-toggleable__label {cursor: pointer;display: block;width: 100%;margin-bottom: 0;padding: 0.3em;box-sizing: border-box;text-align: center;}#sk-container-id-1 label.sk-toggleable__label-arrow:before {content: \"▸\";float: left;margin-right: 0.25em;color: #696969;}#sk-container-id-1 label.sk-toggleable__label-arrow:hover:before {color: black;}#sk-container-id-1 div.sk-estimator:hover label.sk-toggleable__label-arrow:before {color: black;}#sk-container-id-1 div.sk-toggleable__content {max-height: 0;max-width: 0;overflow: hidden;text-align: left;background-color: #f0f8ff;}#sk-container-id-1 div.sk-toggleable__content pre {margin: 0.2em;color: black;border-radius: 0.25em;background-color: #f0f8ff;}#sk-container-id-1 input.sk-toggleable__control:checked~div.sk-toggleable__content {max-height: 200px;max-width: 100%;overflow: auto;}#sk-container-id-1 input.sk-toggleable__control:checked~label.sk-toggleable__label-arrow:before {content: \"▾\";}#sk-container-id-1 div.sk-estimator input.sk-toggleable__control:checked~label.sk-toggleable__label {background-color: #d4ebff;}#sk-container-id-1 div.sk-label input.sk-toggleable__control:checked~label.sk-toggleable__label {background-color: #d4ebff;}#sk-container-id-1 input.sk-hidden--visually {border: 0;clip: rect(1px 1px 1px 1px);clip: rect(1px, 1px, 1px, 1px);height: 1px;margin: -1px;overflow: hidden;padding: 0;position: absolute;width: 1px;}#sk-container-id-1 div.sk-estimator {font-family: monospace;background-color: #f0f8ff;border: 1px dotted black;border-radius: 0.25em;box-sizing: border-box;margin-bottom: 0.5em;}#sk-container-id-1 div.sk-estimator:hover {background-color: #d4ebff;}#sk-container-id-1 div.sk-parallel-item::after {content: \"\";width: 100%;border-bottom: 1px solid gray;flex-grow: 1;}#sk-container-id-1 div.sk-label:hover label.sk-toggleable__label {background-color: #d4ebff;}#sk-container-id-1 div.sk-serial::before {content: \"\";position: absolute;border-left: 1px solid gray;box-sizing: border-box;top: 0;bottom: 0;left: 50%;z-index: 0;}#sk-container-id-1 div.sk-serial {display: flex;flex-direction: column;align-items: center;background-color: white;padding-right: 0.2em;padding-left: 0.2em;position: relative;}#sk-container-id-1 div.sk-item {position: relative;z-index: 1;}#sk-container-id-1 div.sk-parallel {display: flex;align-items: stretch;justify-content: center;background-color: white;position: relative;}#sk-container-id-1 div.sk-item::before, #sk-container-id-1 div.sk-parallel-item::before {content: \"\";position: absolute;border-left: 1px solid gray;box-sizing: border-box;top: 0;bottom: 0;left: 50%;z-index: -1;}#sk-container-id-1 div.sk-parallel-item {display: flex;flex-direction: column;z-index: 1;position: relative;background-color: white;}#sk-container-id-1 div.sk-parallel-item:first-child::after {align-self: flex-end;width: 50%;}#sk-container-id-1 div.sk-parallel-item:last-child::after {align-self: flex-start;width: 50%;}#sk-container-id-1 div.sk-parallel-item:only-child::after {width: 0;}#sk-container-id-1 div.sk-dashed-wrapped {border: 1px dashed gray;margin: 0 0.4em 0.5em 0.4em;box-sizing: border-box;padding-bottom: 0.4em;background-color: white;}#sk-container-id-1 div.sk-label label {font-family: monospace;font-weight: bold;display: inline-block;line-height: 1.2em;}#sk-container-id-1 div.sk-label-container {text-align: center;}#sk-container-id-1 div.sk-container {/* jupyter's `normalize.less` sets `[hidden] { display: none; }` but bootstrap.min.css set `[hidden] { display: none !important; }` so we also need the `!important` here to be able to override the default hidden behavior on the sphinx rendered scikit-learn.org. See: https://github.com/scikit-learn/scikit-learn/issues/21755 */display: inline-block !important;position: relative;}#sk-container-id-1 div.sk-text-repr-fallback {display: none;}</style><div id=\"sk-container-id-1\" class=\"sk-top-container\"><div class=\"sk-text-repr-fallback\"><pre>RegressorChain(base_estimator=XGBRegressor(base_score=None, booster=None,\n",
              "                                           callbacks=None,\n",
              "                                           colsample_bylevel=None,\n",
              "                                           colsample_bynode=None,\n",
              "                                           colsample_bytree=None,\n",
              "                                           early_stopping_rounds=None,\n",
              "                                           enable_categorical=False,\n",
              "                                           eval_metric=None, feature_types=None,\n",
              "                                           gamma=None, gpu_id=None,\n",
              "                                           grow_policy=None,\n",
              "                                           importance_type=None,\n",
              "                                           interaction_constraints=None,\n",
              "                                           learning_rate=0.15, max_bin=None,\n",
              "                                           max_cat_threshold=None,\n",
              "                                           max_cat_to_onehot=None,\n",
              "                                           max_delta_step=None, max_depth=10,\n",
              "                                           max_leaves=None,\n",
              "                                           min_child_weight=None, missing=nan,\n",
              "                                           monotone_constraints=None,\n",
              "                                           n_estimators=600, n_jobs=-1,\n",
              "                                           num_parallel_tree=None,\n",
              "                                           predictor=None, random_state=1, ...))</pre><b>In a Jupyter environment, please rerun this cell to show the HTML representation or trust the notebook. <br />On GitHub, the HTML representation is unable to render, please try loading this page with nbviewer.org.</b></div><div class=\"sk-container\" hidden><div class=\"sk-item sk-dashed-wrapped\"><div class=\"sk-label-container\"><div class=\"sk-label sk-toggleable\"><input class=\"sk-toggleable__control sk-hidden--visually\" id=\"sk-estimator-id-1\" type=\"checkbox\" ><label for=\"sk-estimator-id-1\" class=\"sk-toggleable__label sk-toggleable__label-arrow\">RegressorChain</label><div class=\"sk-toggleable__content\"><pre>RegressorChain(base_estimator=XGBRegressor(base_score=None, booster=None,\n",
              "                                           callbacks=None,\n",
              "                                           colsample_bylevel=None,\n",
              "                                           colsample_bynode=None,\n",
              "                                           colsample_bytree=None,\n",
              "                                           early_stopping_rounds=None,\n",
              "                                           enable_categorical=False,\n",
              "                                           eval_metric=None, feature_types=None,\n",
              "                                           gamma=None, gpu_id=None,\n",
              "                                           grow_policy=None,\n",
              "                                           importance_type=None,\n",
              "                                           interaction_constraints=None,\n",
              "                                           learning_rate=0.15, max_bin=None,\n",
              "                                           max_cat_threshold=None,\n",
              "                                           max_cat_to_onehot=None,\n",
              "                                           max_delta_step=None, max_depth=10,\n",
              "                                           max_leaves=None,\n",
              "                                           min_child_weight=None, missing=nan,\n",
              "                                           monotone_constraints=None,\n",
              "                                           n_estimators=600, n_jobs=-1,\n",
              "                                           num_parallel_tree=None,\n",
              "                                           predictor=None, random_state=1, ...))</pre></div></div></div><div class=\"sk-parallel\"><div class=\"sk-parallel-item\"><div class=\"sk-item\"><div class=\"sk-label-container\"><div class=\"sk-label sk-toggleable\"><input class=\"sk-toggleable__control sk-hidden--visually\" id=\"sk-estimator-id-2\" type=\"checkbox\" ><label for=\"sk-estimator-id-2\" class=\"sk-toggleable__label sk-toggleable__label-arrow\">base_estimator: XGBRegressor</label><div class=\"sk-toggleable__content\"><pre>XGBRegressor(base_score=None, booster=None, callbacks=None,\n",
              "             colsample_bylevel=None, colsample_bynode=None,\n",
              "             colsample_bytree=None, early_stopping_rounds=None,\n",
              "             enable_categorical=False, eval_metric=None, feature_types=None,\n",
              "             gamma=None, gpu_id=None, grow_policy=None, importance_type=None,\n",
              "             interaction_constraints=None, learning_rate=0.15, max_bin=None,\n",
              "             max_cat_threshold=None, max_cat_to_onehot=None,\n",
              "             max_delta_step=None, max_depth=10, max_leaves=None,\n",
              "             min_child_weight=None, missing=nan, monotone_constraints=None,\n",
              "             n_estimators=600, n_jobs=-1, num_parallel_tree=None,\n",
              "             predictor=None, random_state=1, ...)</pre></div></div></div><div class=\"sk-serial\"><div class=\"sk-item\"><div class=\"sk-estimator sk-toggleable\"><input class=\"sk-toggleable__control sk-hidden--visually\" id=\"sk-estimator-id-3\" type=\"checkbox\" ><label for=\"sk-estimator-id-3\" class=\"sk-toggleable__label sk-toggleable__label-arrow\">XGBRegressor</label><div class=\"sk-toggleable__content\"><pre>XGBRegressor(base_score=None, booster=None, callbacks=None,\n",
              "             colsample_bylevel=None, colsample_bynode=None,\n",
              "             colsample_bytree=None, early_stopping_rounds=None,\n",
              "             enable_categorical=False, eval_metric=None, feature_types=None,\n",
              "             gamma=None, gpu_id=None, grow_policy=None, importance_type=None,\n",
              "             interaction_constraints=None, learning_rate=0.15, max_bin=None,\n",
              "             max_cat_threshold=None, max_cat_to_onehot=None,\n",
              "             max_delta_step=None, max_depth=10, max_leaves=None,\n",
              "             min_child_weight=None, missing=nan, monotone_constraints=None,\n",
              "             n_estimators=600, n_jobs=-1, num_parallel_tree=None,\n",
              "             predictor=None, random_state=1, ...)</pre></div></div></div></div></div></div></div></div></div></div>"
            ],
            "text/plain": [
              "RegressorChain(base_estimator=XGBRegressor(base_score=None, booster=None,\n",
              "                                           callbacks=None,\n",
              "                                           colsample_bylevel=None,\n",
              "                                           colsample_bynode=None,\n",
              "                                           colsample_bytree=None,\n",
              "                                           early_stopping_rounds=None,\n",
              "                                           enable_categorical=False,\n",
              "                                           eval_metric=None, feature_types=None,\n",
              "                                           gamma=None, gpu_id=None,\n",
              "                                           grow_policy=None,\n",
              "                                           importance_type=None,\n",
              "                                           interaction_constraints=None,\n",
              "                                           learning_rate=0.15, max_bin=None,\n",
              "                                           max_cat_threshold=None,\n",
              "                                           max_cat_to_onehot=None,\n",
              "                                           max_delta_step=None, max_depth=10,\n",
              "                                           max_leaves=None,\n",
              "                                           min_child_weight=None, missing=nan,\n",
              "                                           monotone_constraints=None,\n",
              "                                           n_estimators=600, n_jobs=-1,\n",
              "                                           num_parallel_tree=None,\n",
              "                                           predictor=None, random_state=1, ...))"
            ]
          },
          "execution_count": 12,
          "metadata": {},
          "output_type": "execute_result"
        }
      ],
      "source": [
        "model_XGB.fit(X_train_30,y_train_30)"
      ]
    },
    {
      "cell_type": "code",
      "execution_count": 13,
      "metadata": {},
      "outputs": [
        {
          "name": "stdout",
          "output_type": "stream",
          "text": [
            "MSE: 0.0008210444663954023\n",
            "RMSE: 0.028653873497232488\n",
            "MAE: 0.014471330501926068\n",
            "R2: 0.8837982083148042\n",
            "Explained Variance: 0.8843747443536426\n",
            "Mean Absolute Percentage Error MLP: 17.41149240355029\n"
          ]
        }
      ],
      "source": [
        "predictionsXGB2 = model_XGB.predict(X_test_30)\n",
        "MAPE_MLP1 = MAPE(y_test_30[:,0], predictionsXGB2[:,0])\n",
        "MAPE_MLP2 = MAPE(y_test_30[:,1], predictionsXGB2[:,1])\n",
        "print(\"MSE:\", mean_squared_error(y_test_30, predictionsXGB2))\n",
        "print(\"RMSE:\", math.sqrt(mean_squared_error(y_test_30, predictionsXGB2)))\n",
        "print(\"MAE:\",mean_absolute_error(y_test_30, predictionsXGB2))\n",
        "print(\"R2:\", r2_score(y_test_30, predictionsXGB2))\n",
        "print(\"Explained Variance:\", explained_variance_score(y_test_30, predictionsXGB2))\n",
        "print(\"Mean Absolute Percentage Error MLP:\",(MAPE_MLP1+MAPE_MLP2)/2)"
      ]
    },
    {
      "attachments": {},
      "cell_type": "markdown",
      "metadata": {},
      "source": [
        "### 1 hour ahead"
      ]
    },
    {
      "cell_type": "code",
      "execution_count": 14,
      "metadata": {},
      "outputs": [
        {
          "data": {
            "text/html": [
              "<style>#sk-container-id-2 {color: black;background-color: white;}#sk-container-id-2 pre{padding: 0;}#sk-container-id-2 div.sk-toggleable {background-color: white;}#sk-container-id-2 label.sk-toggleable__label {cursor: pointer;display: block;width: 100%;margin-bottom: 0;padding: 0.3em;box-sizing: border-box;text-align: center;}#sk-container-id-2 label.sk-toggleable__label-arrow:before {content: \"▸\";float: left;margin-right: 0.25em;color: #696969;}#sk-container-id-2 label.sk-toggleable__label-arrow:hover:before {color: black;}#sk-container-id-2 div.sk-estimator:hover label.sk-toggleable__label-arrow:before {color: black;}#sk-container-id-2 div.sk-toggleable__content {max-height: 0;max-width: 0;overflow: hidden;text-align: left;background-color: #f0f8ff;}#sk-container-id-2 div.sk-toggleable__content pre {margin: 0.2em;color: black;border-radius: 0.25em;background-color: #f0f8ff;}#sk-container-id-2 input.sk-toggleable__control:checked~div.sk-toggleable__content {max-height: 200px;max-width: 100%;overflow: auto;}#sk-container-id-2 input.sk-toggleable__control:checked~label.sk-toggleable__label-arrow:before {content: \"▾\";}#sk-container-id-2 div.sk-estimator input.sk-toggleable__control:checked~label.sk-toggleable__label {background-color: #d4ebff;}#sk-container-id-2 div.sk-label input.sk-toggleable__control:checked~label.sk-toggleable__label {background-color: #d4ebff;}#sk-container-id-2 input.sk-hidden--visually {border: 0;clip: rect(1px 1px 1px 1px);clip: rect(1px, 1px, 1px, 1px);height: 1px;margin: -1px;overflow: hidden;padding: 0;position: absolute;width: 1px;}#sk-container-id-2 div.sk-estimator {font-family: monospace;background-color: #f0f8ff;border: 1px dotted black;border-radius: 0.25em;box-sizing: border-box;margin-bottom: 0.5em;}#sk-container-id-2 div.sk-estimator:hover {background-color: #d4ebff;}#sk-container-id-2 div.sk-parallel-item::after {content: \"\";width: 100%;border-bottom: 1px solid gray;flex-grow: 1;}#sk-container-id-2 div.sk-label:hover label.sk-toggleable__label {background-color: #d4ebff;}#sk-container-id-2 div.sk-serial::before {content: \"\";position: absolute;border-left: 1px solid gray;box-sizing: border-box;top: 0;bottom: 0;left: 50%;z-index: 0;}#sk-container-id-2 div.sk-serial {display: flex;flex-direction: column;align-items: center;background-color: white;padding-right: 0.2em;padding-left: 0.2em;position: relative;}#sk-container-id-2 div.sk-item {position: relative;z-index: 1;}#sk-container-id-2 div.sk-parallel {display: flex;align-items: stretch;justify-content: center;background-color: white;position: relative;}#sk-container-id-2 div.sk-item::before, #sk-container-id-2 div.sk-parallel-item::before {content: \"\";position: absolute;border-left: 1px solid gray;box-sizing: border-box;top: 0;bottom: 0;left: 50%;z-index: -1;}#sk-container-id-2 div.sk-parallel-item {display: flex;flex-direction: column;z-index: 1;position: relative;background-color: white;}#sk-container-id-2 div.sk-parallel-item:first-child::after {align-self: flex-end;width: 50%;}#sk-container-id-2 div.sk-parallel-item:last-child::after {align-self: flex-start;width: 50%;}#sk-container-id-2 div.sk-parallel-item:only-child::after {width: 0;}#sk-container-id-2 div.sk-dashed-wrapped {border: 1px dashed gray;margin: 0 0.4em 0.5em 0.4em;box-sizing: border-box;padding-bottom: 0.4em;background-color: white;}#sk-container-id-2 div.sk-label label {font-family: monospace;font-weight: bold;display: inline-block;line-height: 1.2em;}#sk-container-id-2 div.sk-label-container {text-align: center;}#sk-container-id-2 div.sk-container {/* jupyter's `normalize.less` sets `[hidden] { display: none; }` but bootstrap.min.css set `[hidden] { display: none !important; }` so we also need the `!important` here to be able to override the default hidden behavior on the sphinx rendered scikit-learn.org. See: https://github.com/scikit-learn/scikit-learn/issues/21755 */display: inline-block !important;position: relative;}#sk-container-id-2 div.sk-text-repr-fallback {display: none;}</style><div id=\"sk-container-id-2\" class=\"sk-top-container\"><div class=\"sk-text-repr-fallback\"><pre>RegressorChain(base_estimator=XGBRegressor(base_score=None, booster=None,\n",
              "                                           callbacks=None,\n",
              "                                           colsample_bylevel=None,\n",
              "                                           colsample_bynode=None,\n",
              "                                           colsample_bytree=None,\n",
              "                                           early_stopping_rounds=None,\n",
              "                                           enable_categorical=False,\n",
              "                                           eval_metric=None, feature_types=None,\n",
              "                                           gamma=None, gpu_id=None,\n",
              "                                           grow_policy=None,\n",
              "                                           importance_type=None,\n",
              "                                           interaction_constraints=None,\n",
              "                                           learning_rate=0.15, max_bin=None,\n",
              "                                           max_cat_threshold=None,\n",
              "                                           max_cat_to_onehot=None,\n",
              "                                           max_delta_step=None, max_depth=10,\n",
              "                                           max_leaves=None,\n",
              "                                           min_child_weight=None, missing=nan,\n",
              "                                           monotone_constraints=None,\n",
              "                                           n_estimators=600, n_jobs=-1,\n",
              "                                           num_parallel_tree=None,\n",
              "                                           predictor=None, random_state=1, ...))</pre><b>In a Jupyter environment, please rerun this cell to show the HTML representation or trust the notebook. <br />On GitHub, the HTML representation is unable to render, please try loading this page with nbviewer.org.</b></div><div class=\"sk-container\" hidden><div class=\"sk-item sk-dashed-wrapped\"><div class=\"sk-label-container\"><div class=\"sk-label sk-toggleable\"><input class=\"sk-toggleable__control sk-hidden--visually\" id=\"sk-estimator-id-4\" type=\"checkbox\" ><label for=\"sk-estimator-id-4\" class=\"sk-toggleable__label sk-toggleable__label-arrow\">RegressorChain</label><div class=\"sk-toggleable__content\"><pre>RegressorChain(base_estimator=XGBRegressor(base_score=None, booster=None,\n",
              "                                           callbacks=None,\n",
              "                                           colsample_bylevel=None,\n",
              "                                           colsample_bynode=None,\n",
              "                                           colsample_bytree=None,\n",
              "                                           early_stopping_rounds=None,\n",
              "                                           enable_categorical=False,\n",
              "                                           eval_metric=None, feature_types=None,\n",
              "                                           gamma=None, gpu_id=None,\n",
              "                                           grow_policy=None,\n",
              "                                           importance_type=None,\n",
              "                                           interaction_constraints=None,\n",
              "                                           learning_rate=0.15, max_bin=None,\n",
              "                                           max_cat_threshold=None,\n",
              "                                           max_cat_to_onehot=None,\n",
              "                                           max_delta_step=None, max_depth=10,\n",
              "                                           max_leaves=None,\n",
              "                                           min_child_weight=None, missing=nan,\n",
              "                                           monotone_constraints=None,\n",
              "                                           n_estimators=600, n_jobs=-1,\n",
              "                                           num_parallel_tree=None,\n",
              "                                           predictor=None, random_state=1, ...))</pre></div></div></div><div class=\"sk-parallel\"><div class=\"sk-parallel-item\"><div class=\"sk-item\"><div class=\"sk-label-container\"><div class=\"sk-label sk-toggleable\"><input class=\"sk-toggleable__control sk-hidden--visually\" id=\"sk-estimator-id-5\" type=\"checkbox\" ><label for=\"sk-estimator-id-5\" class=\"sk-toggleable__label sk-toggleable__label-arrow\">base_estimator: XGBRegressor</label><div class=\"sk-toggleable__content\"><pre>XGBRegressor(base_score=None, booster=None, callbacks=None,\n",
              "             colsample_bylevel=None, colsample_bynode=None,\n",
              "             colsample_bytree=None, early_stopping_rounds=None,\n",
              "             enable_categorical=False, eval_metric=None, feature_types=None,\n",
              "             gamma=None, gpu_id=None, grow_policy=None, importance_type=None,\n",
              "             interaction_constraints=None, learning_rate=0.15, max_bin=None,\n",
              "             max_cat_threshold=None, max_cat_to_onehot=None,\n",
              "             max_delta_step=None, max_depth=10, max_leaves=None,\n",
              "             min_child_weight=None, missing=nan, monotone_constraints=None,\n",
              "             n_estimators=600, n_jobs=-1, num_parallel_tree=None,\n",
              "             predictor=None, random_state=1, ...)</pre></div></div></div><div class=\"sk-serial\"><div class=\"sk-item\"><div class=\"sk-estimator sk-toggleable\"><input class=\"sk-toggleable__control sk-hidden--visually\" id=\"sk-estimator-id-6\" type=\"checkbox\" ><label for=\"sk-estimator-id-6\" class=\"sk-toggleable__label sk-toggleable__label-arrow\">XGBRegressor</label><div class=\"sk-toggleable__content\"><pre>XGBRegressor(base_score=None, booster=None, callbacks=None,\n",
              "             colsample_bylevel=None, colsample_bynode=None,\n",
              "             colsample_bytree=None, early_stopping_rounds=None,\n",
              "             enable_categorical=False, eval_metric=None, feature_types=None,\n",
              "             gamma=None, gpu_id=None, grow_policy=None, importance_type=None,\n",
              "             interaction_constraints=None, learning_rate=0.15, max_bin=None,\n",
              "             max_cat_threshold=None, max_cat_to_onehot=None,\n",
              "             max_delta_step=None, max_depth=10, max_leaves=None,\n",
              "             min_child_weight=None, missing=nan, monotone_constraints=None,\n",
              "             n_estimators=600, n_jobs=-1, num_parallel_tree=None,\n",
              "             predictor=None, random_state=1, ...)</pre></div></div></div></div></div></div></div></div></div></div>"
            ],
            "text/plain": [
              "RegressorChain(base_estimator=XGBRegressor(base_score=None, booster=None,\n",
              "                                           callbacks=None,\n",
              "                                           colsample_bylevel=None,\n",
              "                                           colsample_bynode=None,\n",
              "                                           colsample_bytree=None,\n",
              "                                           early_stopping_rounds=None,\n",
              "                                           enable_categorical=False,\n",
              "                                           eval_metric=None, feature_types=None,\n",
              "                                           gamma=None, gpu_id=None,\n",
              "                                           grow_policy=None,\n",
              "                                           importance_type=None,\n",
              "                                           interaction_constraints=None,\n",
              "                                           learning_rate=0.15, max_bin=None,\n",
              "                                           max_cat_threshold=None,\n",
              "                                           max_cat_to_onehot=None,\n",
              "                                           max_delta_step=None, max_depth=10,\n",
              "                                           max_leaves=None,\n",
              "                                           min_child_weight=None, missing=nan,\n",
              "                                           monotone_constraints=None,\n",
              "                                           n_estimators=600, n_jobs=-1,\n",
              "                                           num_parallel_tree=None,\n",
              "                                           predictor=None, random_state=1, ...))"
            ]
          },
          "execution_count": 14,
          "metadata": {},
          "output_type": "execute_result"
        }
      ],
      "source": [
        "model_XGB.fit(X_train_60,y_train_60)"
      ]
    },
    {
      "cell_type": "code",
      "execution_count": 15,
      "metadata": {},
      "outputs": [
        {
          "name": "stdout",
          "output_type": "stream",
          "text": [
            "MSE: 0.0009446787361637862\n",
            "RMSE: 0.03073562649701135\n",
            "MAE: 0.015728716448636125\n",
            "R2: 0.8663003452284723\n",
            "Explained Variance: 0.8673707489125878\n",
            "Mean Absolute Percentage Error MLP: 20.209161054283953\n"
          ]
        }
      ],
      "source": [
        "predictionsXGB3 = model_XGB.predict(X_test_60)\n",
        "MAPE1 = MAPE(y_test_60[:,0], predictionsXGB3[:,0])\n",
        "MAPE2 = MAPE(y_test_60[:,1], predictionsXGB3[:,1])\n",
        "MAPE3 = MAPE(y_test_60[:,2], predictionsXGB3[:,2])\n",
        "MAPE4 = MAPE(y_test_60[:,3], predictionsXGB3[:,3])\n",
        "print(\"MSE:\", mean_squared_error(y_test_60, predictionsXGB3))\n",
        "print(\"RMSE:\", math.sqrt(mean_squared_error(y_test_60, predictionsXGB3)))\n",
        "print(\"MAE:\",mean_absolute_error(y_test_60, predictionsXGB3))\n",
        "print(\"R2:\", r2_score(y_test_60, predictionsXGB3))\n",
        "print(\"Explained Variance:\", explained_variance_score(y_test_60, predictionsXGB3))\n",
        "print(\"Mean Absolute Percentage Error MLP:\",(MAPE1+MAPE2+MAPE3+MAPE4)/4)"
      ]
    },
    {
      "attachments": {},
      "cell_type": "markdown",
      "metadata": {},
      "source": [
        "## SVR"
      ]
    },
    {
      "attachments": {},
      "cell_type": "markdown",
      "metadata": {},
      "source": [
        "### 15 mins ahead"
      ]
    },
    {
      "cell_type": "code",
      "execution_count": 16,
      "metadata": {},
      "outputs": [],
      "source": [
        "model_SVR = RegressorChain(SVR(C=0.065, epsilon=0.01, kernel=\"rbf\"))"
      ]
    },
    {
      "cell_type": "code",
      "execution_count": 17,
      "metadata": {},
      "outputs": [],
      "source": [
        "model_SVR.fit(X_train_15,y_train_15)\n",
        "predictionsSVR = model_SVR.predict(X_test_15)"
      ]
    },
    {
      "cell_type": "code",
      "execution_count": 18,
      "metadata": {},
      "outputs": [
        {
          "name": "stdout",
          "output_type": "stream",
          "text": [
            "MSE: 0.0006964225750348326\n",
            "RMSE: 0.02638981953395727\n",
            "MAE: 0.014282487200424928\n",
            "R2: 0.9014358487252848\n",
            "Explained Variance: 0.9014466137916407\n",
            "Mean Absolute Percentage Error MLP: 18.867948891216017\n"
          ]
        }
      ],
      "source": [
        "MAPE1 = MAPE(y_test_15, predictionsSVR)\n",
        "print(\"MSE:\", mean_squared_error(y_test_15, predictionsSVR))\n",
        "print(\"RMSE:\", math.sqrt(mean_squared_error(y_test_15, predictionsSVR)))\n",
        "print(\"MAE:\",mean_absolute_error(y_test_15, predictionsSVR))\n",
        "print(\"R2:\", r2_score(y_test_15, predictionsSVR))\n",
        "print(\"Explained Variance:\", explained_variance_score(y_test_15, predictionsSVR))\n",
        "print(\"Mean Absolute Percentage Error MLP:\",MAPE1)"
      ]
    },
    {
      "attachments": {},
      "cell_type": "markdown",
      "metadata": {},
      "source": [
        "### 30 min ahead"
      ]
    },
    {
      "cell_type": "code",
      "execution_count": 19,
      "metadata": {},
      "outputs": [
        {
          "data": {
            "text/html": [
              "<style>#sk-container-id-3 {color: black;background-color: white;}#sk-container-id-3 pre{padding: 0;}#sk-container-id-3 div.sk-toggleable {background-color: white;}#sk-container-id-3 label.sk-toggleable__label {cursor: pointer;display: block;width: 100%;margin-bottom: 0;padding: 0.3em;box-sizing: border-box;text-align: center;}#sk-container-id-3 label.sk-toggleable__label-arrow:before {content: \"▸\";float: left;margin-right: 0.25em;color: #696969;}#sk-container-id-3 label.sk-toggleable__label-arrow:hover:before {color: black;}#sk-container-id-3 div.sk-estimator:hover label.sk-toggleable__label-arrow:before {color: black;}#sk-container-id-3 div.sk-toggleable__content {max-height: 0;max-width: 0;overflow: hidden;text-align: left;background-color: #f0f8ff;}#sk-container-id-3 div.sk-toggleable__content pre {margin: 0.2em;color: black;border-radius: 0.25em;background-color: #f0f8ff;}#sk-container-id-3 input.sk-toggleable__control:checked~div.sk-toggleable__content {max-height: 200px;max-width: 100%;overflow: auto;}#sk-container-id-3 input.sk-toggleable__control:checked~label.sk-toggleable__label-arrow:before {content: \"▾\";}#sk-container-id-3 div.sk-estimator input.sk-toggleable__control:checked~label.sk-toggleable__label {background-color: #d4ebff;}#sk-container-id-3 div.sk-label input.sk-toggleable__control:checked~label.sk-toggleable__label {background-color: #d4ebff;}#sk-container-id-3 input.sk-hidden--visually {border: 0;clip: rect(1px 1px 1px 1px);clip: rect(1px, 1px, 1px, 1px);height: 1px;margin: -1px;overflow: hidden;padding: 0;position: absolute;width: 1px;}#sk-container-id-3 div.sk-estimator {font-family: monospace;background-color: #f0f8ff;border: 1px dotted black;border-radius: 0.25em;box-sizing: border-box;margin-bottom: 0.5em;}#sk-container-id-3 div.sk-estimator:hover {background-color: #d4ebff;}#sk-container-id-3 div.sk-parallel-item::after {content: \"\";width: 100%;border-bottom: 1px solid gray;flex-grow: 1;}#sk-container-id-3 div.sk-label:hover label.sk-toggleable__label {background-color: #d4ebff;}#sk-container-id-3 div.sk-serial::before {content: \"\";position: absolute;border-left: 1px solid gray;box-sizing: border-box;top: 0;bottom: 0;left: 50%;z-index: 0;}#sk-container-id-3 div.sk-serial {display: flex;flex-direction: column;align-items: center;background-color: white;padding-right: 0.2em;padding-left: 0.2em;position: relative;}#sk-container-id-3 div.sk-item {position: relative;z-index: 1;}#sk-container-id-3 div.sk-parallel {display: flex;align-items: stretch;justify-content: center;background-color: white;position: relative;}#sk-container-id-3 div.sk-item::before, #sk-container-id-3 div.sk-parallel-item::before {content: \"\";position: absolute;border-left: 1px solid gray;box-sizing: border-box;top: 0;bottom: 0;left: 50%;z-index: -1;}#sk-container-id-3 div.sk-parallel-item {display: flex;flex-direction: column;z-index: 1;position: relative;background-color: white;}#sk-container-id-3 div.sk-parallel-item:first-child::after {align-self: flex-end;width: 50%;}#sk-container-id-3 div.sk-parallel-item:last-child::after {align-self: flex-start;width: 50%;}#sk-container-id-3 div.sk-parallel-item:only-child::after {width: 0;}#sk-container-id-3 div.sk-dashed-wrapped {border: 1px dashed gray;margin: 0 0.4em 0.5em 0.4em;box-sizing: border-box;padding-bottom: 0.4em;background-color: white;}#sk-container-id-3 div.sk-label label {font-family: monospace;font-weight: bold;display: inline-block;line-height: 1.2em;}#sk-container-id-3 div.sk-label-container {text-align: center;}#sk-container-id-3 div.sk-container {/* jupyter's `normalize.less` sets `[hidden] { display: none; }` but bootstrap.min.css set `[hidden] { display: none !important; }` so we also need the `!important` here to be able to override the default hidden behavior on the sphinx rendered scikit-learn.org. See: https://github.com/scikit-learn/scikit-learn/issues/21755 */display: inline-block !important;position: relative;}#sk-container-id-3 div.sk-text-repr-fallback {display: none;}</style><div id=\"sk-container-id-3\" class=\"sk-top-container\"><div class=\"sk-text-repr-fallback\"><pre>RegressorChain(base_estimator=SVR(C=0.065, epsilon=0.01))</pre><b>In a Jupyter environment, please rerun this cell to show the HTML representation or trust the notebook. <br />On GitHub, the HTML representation is unable to render, please try loading this page with nbviewer.org.</b></div><div class=\"sk-container\" hidden><div class=\"sk-item sk-dashed-wrapped\"><div class=\"sk-label-container\"><div class=\"sk-label sk-toggleable\"><input class=\"sk-toggleable__control sk-hidden--visually\" id=\"sk-estimator-id-7\" type=\"checkbox\" ><label for=\"sk-estimator-id-7\" class=\"sk-toggleable__label sk-toggleable__label-arrow\">RegressorChain</label><div class=\"sk-toggleable__content\"><pre>RegressorChain(base_estimator=SVR(C=0.065, epsilon=0.01))</pre></div></div></div><div class=\"sk-parallel\"><div class=\"sk-parallel-item\"><div class=\"sk-item\"><div class=\"sk-label-container\"><div class=\"sk-label sk-toggleable\"><input class=\"sk-toggleable__control sk-hidden--visually\" id=\"sk-estimator-id-8\" type=\"checkbox\" ><label for=\"sk-estimator-id-8\" class=\"sk-toggleable__label sk-toggleable__label-arrow\">base_estimator: SVR</label><div class=\"sk-toggleable__content\"><pre>SVR(C=0.065, epsilon=0.01)</pre></div></div></div><div class=\"sk-serial\"><div class=\"sk-item\"><div class=\"sk-estimator sk-toggleable\"><input class=\"sk-toggleable__control sk-hidden--visually\" id=\"sk-estimator-id-9\" type=\"checkbox\" ><label for=\"sk-estimator-id-9\" class=\"sk-toggleable__label sk-toggleable__label-arrow\">SVR</label><div class=\"sk-toggleable__content\"><pre>SVR(C=0.065, epsilon=0.01)</pre></div></div></div></div></div></div></div></div></div></div>"
            ],
            "text/plain": [
              "RegressorChain(base_estimator=SVR(C=0.065, epsilon=0.01))"
            ]
          },
          "execution_count": 19,
          "metadata": {},
          "output_type": "execute_result"
        }
      ],
      "source": [
        "model_SVR.fit(X_train_30,y_train_30)"
      ]
    },
    {
      "cell_type": "code",
      "execution_count": 20,
      "metadata": {},
      "outputs": [
        {
          "name": "stdout",
          "output_type": "stream",
          "text": [
            "MSE: 0.000831982438788657\n",
            "RMSE: 0.02884410578937501\n",
            "MAE: 0.015894174653200747\n",
            "R2: 0.8822501654967586\n",
            "Explained Variance: 0.8822592896943064\n",
            "Mean Absolute Percentage Error MLP: 21.988460606110188\n"
          ]
        }
      ],
      "source": [
        "predictionsSVR2 = model_SVR.predict(X_test_30)\n",
        "MAPE1 = MAPE(y_test_30[:,0], predictionsSVR2[:,0])\n",
        "MAPE2 = MAPE(y_test_30[:,1], predictionsSVR2[:,1])\n",
        "print(\"MSE:\", mean_squared_error(y_test_30, predictionsSVR2))\n",
        "print(\"RMSE:\", math.sqrt(mean_squared_error(y_test_30, predictionsSVR2)))\n",
        "print(\"MAE:\",mean_absolute_error(y_test_30, predictionsSVR2))\n",
        "print(\"R2:\", r2_score(y_test_30, predictionsSVR2))\n",
        "print(\"Explained Variance:\", explained_variance_score(y_test_30, predictionsSVR2))\n",
        "print(\"Mean Absolute Percentage Error MLP:\",(MAPE1+MAPE2)/2)"
      ]
    },
    {
      "attachments": {},
      "cell_type": "markdown",
      "metadata": {},
      "source": [
        "### 1 hour ahead"
      ]
    },
    {
      "cell_type": "code",
      "execution_count": 21,
      "metadata": {},
      "outputs": [
        {
          "data": {
            "text/html": [
              "<style>#sk-container-id-4 {color: black;background-color: white;}#sk-container-id-4 pre{padding: 0;}#sk-container-id-4 div.sk-toggleable {background-color: white;}#sk-container-id-4 label.sk-toggleable__label {cursor: pointer;display: block;width: 100%;margin-bottom: 0;padding: 0.3em;box-sizing: border-box;text-align: center;}#sk-container-id-4 label.sk-toggleable__label-arrow:before {content: \"▸\";float: left;margin-right: 0.25em;color: #696969;}#sk-container-id-4 label.sk-toggleable__label-arrow:hover:before {color: black;}#sk-container-id-4 div.sk-estimator:hover label.sk-toggleable__label-arrow:before {color: black;}#sk-container-id-4 div.sk-toggleable__content {max-height: 0;max-width: 0;overflow: hidden;text-align: left;background-color: #f0f8ff;}#sk-container-id-4 div.sk-toggleable__content pre {margin: 0.2em;color: black;border-radius: 0.25em;background-color: #f0f8ff;}#sk-container-id-4 input.sk-toggleable__control:checked~div.sk-toggleable__content {max-height: 200px;max-width: 100%;overflow: auto;}#sk-container-id-4 input.sk-toggleable__control:checked~label.sk-toggleable__label-arrow:before {content: \"▾\";}#sk-container-id-4 div.sk-estimator input.sk-toggleable__control:checked~label.sk-toggleable__label {background-color: #d4ebff;}#sk-container-id-4 div.sk-label input.sk-toggleable__control:checked~label.sk-toggleable__label {background-color: #d4ebff;}#sk-container-id-4 input.sk-hidden--visually {border: 0;clip: rect(1px 1px 1px 1px);clip: rect(1px, 1px, 1px, 1px);height: 1px;margin: -1px;overflow: hidden;padding: 0;position: absolute;width: 1px;}#sk-container-id-4 div.sk-estimator {font-family: monospace;background-color: #f0f8ff;border: 1px dotted black;border-radius: 0.25em;box-sizing: border-box;margin-bottom: 0.5em;}#sk-container-id-4 div.sk-estimator:hover {background-color: #d4ebff;}#sk-container-id-4 div.sk-parallel-item::after {content: \"\";width: 100%;border-bottom: 1px solid gray;flex-grow: 1;}#sk-container-id-4 div.sk-label:hover label.sk-toggleable__label {background-color: #d4ebff;}#sk-container-id-4 div.sk-serial::before {content: \"\";position: absolute;border-left: 1px solid gray;box-sizing: border-box;top: 0;bottom: 0;left: 50%;z-index: 0;}#sk-container-id-4 div.sk-serial {display: flex;flex-direction: column;align-items: center;background-color: white;padding-right: 0.2em;padding-left: 0.2em;position: relative;}#sk-container-id-4 div.sk-item {position: relative;z-index: 1;}#sk-container-id-4 div.sk-parallel {display: flex;align-items: stretch;justify-content: center;background-color: white;position: relative;}#sk-container-id-4 div.sk-item::before, #sk-container-id-4 div.sk-parallel-item::before {content: \"\";position: absolute;border-left: 1px solid gray;box-sizing: border-box;top: 0;bottom: 0;left: 50%;z-index: -1;}#sk-container-id-4 div.sk-parallel-item {display: flex;flex-direction: column;z-index: 1;position: relative;background-color: white;}#sk-container-id-4 div.sk-parallel-item:first-child::after {align-self: flex-end;width: 50%;}#sk-container-id-4 div.sk-parallel-item:last-child::after {align-self: flex-start;width: 50%;}#sk-container-id-4 div.sk-parallel-item:only-child::after {width: 0;}#sk-container-id-4 div.sk-dashed-wrapped {border: 1px dashed gray;margin: 0 0.4em 0.5em 0.4em;box-sizing: border-box;padding-bottom: 0.4em;background-color: white;}#sk-container-id-4 div.sk-label label {font-family: monospace;font-weight: bold;display: inline-block;line-height: 1.2em;}#sk-container-id-4 div.sk-label-container {text-align: center;}#sk-container-id-4 div.sk-container {/* jupyter's `normalize.less` sets `[hidden] { display: none; }` but bootstrap.min.css set `[hidden] { display: none !important; }` so we also need the `!important` here to be able to override the default hidden behavior on the sphinx rendered scikit-learn.org. See: https://github.com/scikit-learn/scikit-learn/issues/21755 */display: inline-block !important;position: relative;}#sk-container-id-4 div.sk-text-repr-fallback {display: none;}</style><div id=\"sk-container-id-4\" class=\"sk-top-container\"><div class=\"sk-text-repr-fallback\"><pre>RegressorChain(base_estimator=SVR(C=0.065, epsilon=0.01))</pre><b>In a Jupyter environment, please rerun this cell to show the HTML representation or trust the notebook. <br />On GitHub, the HTML representation is unable to render, please try loading this page with nbviewer.org.</b></div><div class=\"sk-container\" hidden><div class=\"sk-item sk-dashed-wrapped\"><div class=\"sk-label-container\"><div class=\"sk-label sk-toggleable\"><input class=\"sk-toggleable__control sk-hidden--visually\" id=\"sk-estimator-id-10\" type=\"checkbox\" ><label for=\"sk-estimator-id-10\" class=\"sk-toggleable__label sk-toggleable__label-arrow\">RegressorChain</label><div class=\"sk-toggleable__content\"><pre>RegressorChain(base_estimator=SVR(C=0.065, epsilon=0.01))</pre></div></div></div><div class=\"sk-parallel\"><div class=\"sk-parallel-item\"><div class=\"sk-item\"><div class=\"sk-label-container\"><div class=\"sk-label sk-toggleable\"><input class=\"sk-toggleable__control sk-hidden--visually\" id=\"sk-estimator-id-11\" type=\"checkbox\" ><label for=\"sk-estimator-id-11\" class=\"sk-toggleable__label sk-toggleable__label-arrow\">base_estimator: SVR</label><div class=\"sk-toggleable__content\"><pre>SVR(C=0.065, epsilon=0.01)</pre></div></div></div><div class=\"sk-serial\"><div class=\"sk-item\"><div class=\"sk-estimator sk-toggleable\"><input class=\"sk-toggleable__control sk-hidden--visually\" id=\"sk-estimator-id-12\" type=\"checkbox\" ><label for=\"sk-estimator-id-12\" class=\"sk-toggleable__label sk-toggleable__label-arrow\">SVR</label><div class=\"sk-toggleable__content\"><pre>SVR(C=0.065, epsilon=0.01)</pre></div></div></div></div></div></div></div></div></div></div>"
            ],
            "text/plain": [
              "RegressorChain(base_estimator=SVR(C=0.065, epsilon=0.01))"
            ]
          },
          "execution_count": 21,
          "metadata": {},
          "output_type": "execute_result"
        }
      ],
      "source": [
        "model_SVR.fit(X_train_60,y_train_60)"
      ]
    },
    {
      "cell_type": "code",
      "execution_count": 22,
      "metadata": {},
      "outputs": [
        {
          "name": "stdout",
          "output_type": "stream",
          "text": [
            "MSE: 0.0010121268391533422\n",
            "RMSE: 0.031813940956023384\n",
            "MAE: 0.01790589088786486\n",
            "R2: 0.8567544671013556\n",
            "Explained Variance: 0.8567599447885471\n",
            "Mean Absolute Percentage Error: 25.700703013807498\n"
          ]
        }
      ],
      "source": [
        "predictionsSVR3 = model_SVR.predict(X_test_60)\n",
        "MAPE1 = MAPE(y_test_60[:,0], predictionsSVR3[:,0])\n",
        "MAPE2 = MAPE(y_test_60[:,1], predictionsSVR3[:,1])\n",
        "MAPE3 = MAPE(y_test_60[:,2], predictionsSVR3[:,2])\n",
        "MAPE4 = MAPE(y_test_60[:,3], predictionsSVR3[:,3])\n",
        "print(\"MSE:\", mean_squared_error(y_test_60, predictionsSVR3))\n",
        "print(\"RMSE:\", math.sqrt(mean_squared_error(y_test_60, predictionsSVR3)))\n",
        "print(\"MAE:\",mean_absolute_error(y_test_60, predictionsSVR3))\n",
        "print(\"R2:\", r2_score(y_test_60, predictionsSVR3))\n",
        "print(\"Explained Variance:\", explained_variance_score(y_test_60, predictionsSVR3))\n",
        "print(\"Mean Absolute Percentage Error:\",(MAPE1+MAPE2+MAPE3+MAPE4)/4)"
      ]
    },
    {
      "attachments": {},
      "cell_type": "markdown",
      "metadata": {},
      "source": [
        "## Random Forest"
      ]
    },
    {
      "attachments": {},
      "cell_type": "markdown",
      "metadata": {},
      "source": [
        "### 15 min ahead"
      ]
    },
    {
      "cell_type": "code",
      "execution_count": 23,
      "metadata": {},
      "outputs": [],
      "source": [
        "model_RF = RegressorChain(XGBRFRegressor(n_estimators=600, max_depth=6, n_jobs = -1))"
      ]
    },
    {
      "cell_type": "code",
      "execution_count": 24,
      "metadata": {},
      "outputs": [],
      "source": [
        "model_RF.fit(X_train_15,y_train_15)\n",
        "predictionsRF = model_RF.predict(X_test_15)"
      ]
    },
    {
      "cell_type": "code",
      "execution_count": 25,
      "metadata": {},
      "outputs": [
        {
          "name": "stdout",
          "output_type": "stream",
          "text": [
            "MSE: 0.0006328766325692346\n",
            "RMSE: 0.02515703942377232\n",
            "MAE: 0.012139269103705271\n",
            "R2: 0.9104294570754453\n",
            "Explained Variance: 0.9106820159262868\n",
            "Mean Absolute Percentage Error: 14.491684041059216\n"
          ]
        }
      ],
      "source": [
        "MAPE1 = MAPE(y_test_15[:,0], predictionsRF[:,0])\n",
        "print(\"MSE:\", mean_squared_error(y_test_15, predictionsRF))\n",
        "print(\"RMSE:\", math.sqrt(mean_squared_error(y_test_15, predictionsRF)))\n",
        "print(\"MAE:\",mean_absolute_error(y_test_15, predictionsRF))\n",
        "print(\"R2:\", r2_score(y_test_15, predictionsRF))\n",
        "print(\"Explained Variance:\", explained_variance_score(y_test_15, predictionsRF))\n",
        "print(\"Mean Absolute Percentage Error:\",MAPE1)"
      ]
    },
    {
      "attachments": {},
      "cell_type": "markdown",
      "metadata": {},
      "source": [
        "### 30 min ahead"
      ]
    },
    {
      "cell_type": "code",
      "execution_count": 26,
      "metadata": {},
      "outputs": [],
      "source": [
        "model_RF.fit(X_train_30,y_train_30)\n",
        "predictionsRF2 = model_RF.predict(X_test_30)"
      ]
    },
    {
      "cell_type": "code",
      "execution_count": 27,
      "metadata": {},
      "outputs": [
        {
          "name": "stdout",
          "output_type": "stream",
          "text": [
            "MSE: 0.0007504643579842197\n",
            "RMSE: 0.02739460454148261\n",
            "MAE: 0.01344053875669809\n",
            "R2: 0.8937873567597374\n",
            "Explained Variance: 0.8944353146220834\n",
            "Mean Absolute Percentage Error MLP: 16.91994717443821\n"
          ]
        }
      ],
      "source": [
        "MAPE1 = MAPE(y_test_30[:,0], predictionsRF2[:,0])\n",
        "MAPE2 = MAPE(y_test_30[:,1], predictionsRF2[:,1])\n",
        "print(\"MSE:\", mean_squared_error(y_test_30, predictionsRF2))\n",
        "print(\"RMSE:\", math.sqrt(mean_squared_error(y_test_30, predictionsRF2)))\n",
        "print(\"MAE:\",mean_absolute_error(y_test_30, predictionsRF2))\n",
        "print(\"R2:\", r2_score(y_test_30, predictionsRF2))\n",
        "print(\"Explained Variance:\", explained_variance_score(y_test_30, predictionsRF2))\n",
        "print(\"Mean Absolute Percentage Error MLP:\",(MAPE1+MAPE2)/2)"
      ]
    },
    {
      "attachments": {},
      "cell_type": "markdown",
      "metadata": {},
      "source": [
        "### 1 hour ahead"
      ]
    },
    {
      "cell_type": "code",
      "execution_count": 28,
      "metadata": {},
      "outputs": [],
      "source": [
        "model_RF.fit(X_train_60,y_train_60)\n",
        "predictionsRF3 = model_RF.predict(X_test_60)"
      ]
    },
    {
      "cell_type": "code",
      "execution_count": 29,
      "metadata": {},
      "outputs": [
        {
          "name": "stdout",
          "output_type": "stream",
          "text": [
            "MSE: 0.0008756216592817383\n",
            "RMSE: 0.029590905009508214\n",
            "MAE: 0.014862913748175211\n",
            "R2: 0.8760739401927817\n",
            "Explained Variance: 0.8776476171424598\n",
            "Mean Absolute Percentage Error MLP: 19.674571660211157\n"
          ]
        }
      ],
      "source": [
        "MAPE1 = MAPE(y_test_60[:,0], predictionsRF3[:,0])\n",
        "MAPE2 = MAPE(y_test_60[:,1], predictionsRF3[:,1])\n",
        "MAPE3 = MAPE(y_test_60[:,2], predictionsRF3[:,2])\n",
        "MAPE4 = MAPE(y_test_60[:,3], predictionsRF3[:,3])\n",
        "print(\"MSE:\", mean_squared_error(y_test_60, predictionsRF3))\n",
        "print(\"RMSE:\", math.sqrt(mean_squared_error(y_test_60, predictionsRF3)))\n",
        "print(\"MAE:\",mean_absolute_error(y_test_60, predictionsRF3))\n",
        "print(\"R2:\", r2_score(y_test_60, predictionsRF3))\n",
        "print(\"Explained Variance:\", explained_variance_score(y_test_60, predictionsRF3))\n",
        "print(\"Mean Absolute Percentage Error MLP:\",(MAPE1+MAPE2+MAPE3+MAPE4)/4)"
      ]
    },
    {
      "attachments": {},
      "cell_type": "markdown",
      "metadata": {},
      "source": [
        "# Comparison"
      ]
    },
    {
      "cell_type": "code",
      "execution_count": 30,
      "metadata": {},
      "outputs": [
        {
          "data": {
            "image/svg+xml": [
              "<svg class=\"main-svg\" xmlns=\"http://www.w3.org/2000/svg\" xmlns:xlink=\"http://www.w3.org/1999/xlink\" width=\"1500\" height=\"2400\" style=\"\" viewBox=\"0 0 1500 2400\"><rect x=\"0\" y=\"0\" width=\"1500\" height=\"2400\" style=\"fill: rgb(0, 0, 0); fill-opacity: 0;\"/><defs id=\"defs-487ab8\"><g class=\"clips\"><clipPath id=\"clip487ab8xyplot\" class=\"plotclip\"><rect width=\"1314\" height=\"563.94\"/></clipPath><clipPath id=\"clip487ab8x2y2plot\" class=\"plotclip\"><rect width=\"1314\" height=\"563.94\"/></clipPath><clipPath id=\"clip487ab8x3y3plot\" class=\"plotclip\"><rect width=\"1314\" height=\"563.94\"/></clipPath><clipPath class=\"axesclip\" id=\"clip487ab8x\"><rect x=\"106\" y=\"0\" width=\"1314\" height=\"2400\"/></clipPath><clipPath class=\"axesclip\" id=\"clip487ab8y\"><rect x=\"0\" y=\"101\" width=\"1500\" height=\"563.94\"/></clipPath><clipPath class=\"axesclip\" id=\"clip487ab8xy\"><rect x=\"106\" y=\"101\" width=\"1314\" height=\"563.94\"/></clipPath><clipPath class=\"axesclip\" id=\"clip487ab8y2\"><rect x=\"0\" y=\"903.53\" width=\"1500\" height=\"563.94\"/></clipPath><clipPath class=\"axesclip\" id=\"clip487ab8xy2\"><rect x=\"106\" y=\"903.53\" width=\"1314\" height=\"563.94\"/></clipPath><clipPath class=\"axesclip\" id=\"clip487ab8y3\"><rect x=\"0\" y=\"1706.06\" width=\"1500\" height=\"563.94\"/></clipPath><clipPath class=\"axesclip\" id=\"clip487ab8xy3\"><rect x=\"106\" y=\"1706.06\" width=\"1314\" height=\"563.94\"/></clipPath><clipPath class=\"axesclip\" id=\"clip487ab8x2\"><rect x=\"106\" y=\"0\" width=\"1314\" height=\"2400\"/></clipPath><clipPath class=\"axesclip\" id=\"clip487ab8x2y\"><rect x=\"106\" y=\"101\" width=\"1314\" height=\"563.94\"/></clipPath><clipPath class=\"axesclip\" id=\"clip487ab8x2y2\"><rect x=\"106\" y=\"903.53\" width=\"1314\" height=\"563.94\"/></clipPath><clipPath class=\"axesclip\" id=\"clip487ab8x2y3\"><rect x=\"106\" y=\"1706.06\" width=\"1314\" height=\"563.94\"/></clipPath><clipPath class=\"axesclip\" id=\"clip487ab8x3\"><rect x=\"106\" y=\"0\" width=\"1314\" height=\"2400\"/></clipPath><clipPath class=\"axesclip\" id=\"clip487ab8x3y\"><rect x=\"106\" y=\"101\" width=\"1314\" height=\"563.94\"/></clipPath><clipPath class=\"axesclip\" id=\"clip487ab8x3y2\"><rect x=\"106\" y=\"903.53\" width=\"1314\" height=\"563.94\"/></clipPath><clipPath class=\"axesclip\" id=\"clip487ab8x3y3\"><rect x=\"106\" y=\"1706.06\" width=\"1314\" height=\"563.94\"/></clipPath></g><g class=\"gradients\"/><g class=\"patterns\"/></defs><g class=\"bglayer\"><rect class=\"bg\" x=\"106\" y=\"101\" width=\"1314\" height=\"563.94\" style=\"fill: rgb(0, 0, 0); fill-opacity: 0; stroke-width: 0;\"/><rect class=\"bg\" x=\"106\" y=\"903.53\" width=\"1314\" height=\"563.94\" style=\"fill: rgb(0, 0, 0); fill-opacity: 0; stroke-width: 0;\"/><rect class=\"bg\" x=\"106\" y=\"1706.06\" width=\"1314\" height=\"563.94\" style=\"fill: rgb(0, 0, 0); fill-opacity: 0; stroke-width: 0;\"/></g><g class=\"layer-below\"><g class=\"imagelayer\"/><g class=\"shapelayer\"/></g><g class=\"cartesianlayer\"><g class=\"subplot xy\"><g class=\"layer-subplot\"><g class=\"shapelayer\"/><g class=\"imagelayer\"/></g><g class=\"minor-gridlayer\"><g class=\"x\"/><g class=\"y\"/></g><g class=\"gridlayer\"><g class=\"x\"><path class=\"xgrid crisp\" transform=\"translate(270.25,0)\" d=\"M0,101v563.94\" style=\"stroke: rgb(211, 211, 211); stroke-opacity: 1; stroke-width: 1px;\"/><path class=\"xgrid crisp\" transform=\"translate(434.5,0)\" d=\"M0,101v563.94\" style=\"stroke: rgb(211, 211, 211); stroke-opacity: 1; stroke-width: 1px;\"/><path class=\"xgrid crisp\" transform=\"translate(598.75,0)\" d=\"M0,101v563.94\" style=\"stroke: rgb(211, 211, 211); stroke-opacity: 1; stroke-width: 1px;\"/><path class=\"xgrid crisp\" transform=\"translate(763,0)\" d=\"M0,101v563.94\" style=\"stroke: rgb(211, 211, 211); stroke-opacity: 1; stroke-width: 1px;\"/><path class=\"xgrid crisp\" transform=\"translate(927.25,0)\" d=\"M0,101v563.94\" style=\"stroke: rgb(211, 211, 211); stroke-opacity: 1; stroke-width: 1px;\"/><path class=\"xgrid crisp\" transform=\"translate(1091.5,0)\" d=\"M0,101v563.94\" style=\"stroke: rgb(211, 211, 211); stroke-opacity: 1; stroke-width: 1px;\"/><path class=\"xgrid crisp\" transform=\"translate(1255.75,0)\" d=\"M0,101v563.94\" style=\"stroke: rgb(211, 211, 211); stroke-opacity: 1; stroke-width: 1px;\"/></g><g class=\"y\"><path class=\"ygrid crisp\" transform=\"translate(0,542.88)\" d=\"M106,0h1314\" style=\"stroke: rgb(211, 211, 211); stroke-opacity: 1; stroke-width: 1px;\"/><path class=\"ygrid crisp\" transform=\"translate(0,465.12)\" d=\"M106,0h1314\" style=\"stroke: rgb(211, 211, 211); stroke-opacity: 1; stroke-width: 1px;\"/><path class=\"ygrid crisp\" transform=\"translate(0,387.36)\" d=\"M106,0h1314\" style=\"stroke: rgb(211, 211, 211); stroke-opacity: 1; stroke-width: 1px;\"/><path class=\"ygrid crisp\" transform=\"translate(0,309.6)\" d=\"M106,0h1314\" style=\"stroke: rgb(211, 211, 211); stroke-opacity: 1; stroke-width: 1px;\"/><path class=\"ygrid crisp\" transform=\"translate(0,231.84)\" d=\"M106,0h1314\" style=\"stroke: rgb(211, 211, 211); stroke-opacity: 1; stroke-width: 1px;\"/><path class=\"ygrid crisp\" transform=\"translate(0,154.07999999999998)\" d=\"M106,0h1314\" style=\"stroke: rgb(211, 211, 211); stroke-opacity: 1; stroke-width: 1px;\"/></g></g><g class=\"zerolinelayer\"><path class=\"yzl zl crisp\" transform=\"translate(0,620.64)\" d=\"M106,0h1314\" style=\"stroke: rgb(255, 255, 255); stroke-opacity: 1; stroke-width: 2px;\"/></g><path class=\"xlines-below\"/><path class=\"ylines-below\"/><g class=\"overlines-below\"/><g class=\"xaxislayer-below\"/><g class=\"yaxislayer-below\"/><g class=\"overaxes-below\"/><g class=\"plot\" transform=\"translate(106,101)\" clip-path=\"url(#clip487ab8xyplot)\"><g class=\"scatterlayer mlayer\"><g class=\"trace scatter trace4838f8\" style=\"stroke-miterlimit: 2; opacity: 1;\"><g class=\"fills\"/><g class=\"errorbars\"/><g class=\"lines\"><path class=\"js-line\" d=\"M-1444.03,519.64L-1136.06,514.98L-1129.22,504.09L-1115.53,474.54L-1108.69,434.11L-1101.84,412.34L-1095,432.55L-1088.16,426.33L-1081.31,407.67L-1067.62,365.68L-1060.78,390.56L-1053.94,278.59L-1047.09,315.91L-1040.25,401.45L-1033.41,337.68L-1026.56,289.47L-1019.72,315.91L-1012.87,322.13L-1006.03,306.58L-999.19,328.35L-992.34,303.47L-985.5,283.25L-978.66,217.93L-971.81,168.17L-964.97,174.39L-958.12,157.28L-951.28,77.96L-944.44,54.64L-937.59,138.62L-923.91,280.14L-917.06,287.92L-903.37,393.67L-896.53,403L-882.84,452.77L-876,455.88L-855.47,454.33L-848.62,463.66L-828.09,497.87L-821.25,504.09L-807.56,519.64L-800.72,519.64L-485.91,518.09L-479.06,510.31L-458.53,486.99L-451.69,485.43L-438,457.44L-431.16,415.45L-410.62,295.69L-403.78,272.37L-396.94,275.48L-390.09,228.82L-376.41,175.94L-369.56,244.37L-362.72,236.6L-355.87,270.81L-349.03,207.05L-342.19,325.24L-335.34,331.46L-328.5,331.46L-321.66,362.57L-314.81,241.26L-307.97,217.93L-301.12,249.04L-294.28,101.29L-287.44,124.62L-280.59,124.62L-273.75,133.95L-266.91,127.73L-260.06,270.81L-253.22,193.05L-246.37,182.16L-232.69,208.6L-225.84,207.05L-219,444.99L-212.16,387.45L-205.31,357.9L-198.47,407.67L-191.62,466.77L-184.78,468.32L-177.94,454.33L-171.09,479.21L-164.25,510.31L-157.41,519.64L171.09,519.64L177.94,516.53L184.78,511.87L191.63,502.54L198.47,488.54L205.31,466.77L212.16,460.55L219,463.66L225.84,469.88L232.69,457.44L239.53,454.33L246.38,432.55L253.22,396.78L260.06,392.12L266.91,379.68L273.75,308.14L280.59,325.24L287.44,280.14L294.28,157.28L301.13,141.73L307.97,270.81L314.81,231.93L321.66,289.47L328.5,253.7L335.34,235.04L342.19,267.7L349.03,252.15L355.88,239.71L362.72,242.82L369.56,133.95L376.41,286.36L383.25,253.7L390.09,228.82L396.94,227.26L403.78,216.38L410.63,305.03L417.47,242.82L424.31,222.6L431.16,286.36L438,286.36L444.84,291.03L451.69,315.91L458.53,364.12L465.38,370.34L472.22,424.78L479.06,420.11L485.91,462.1L492.75,488.54L499.59,511.87L506.44,519.64L841.78,519.64L848.63,507.2L855.47,508.76L862.31,499.43L869.16,502.54L876,490.1L882.84,469.88L889.69,462.1L903.38,317.47L910.22,357.9L917.06,373.45L923.91,348.57L930.75,214.82L937.59,104.4L944.44,129.29L951.28,110.62L958.13,105.96L964.97,130.84L971.81,123.07L978.66,301.91L985.5,292.58L992.34,261.48L999.19,261.48L1006.03,236.6L1019.72,371.9L1026.56,368.79L1033.41,362.57L1040.25,351.68L1047.09,306.58L1053.94,314.36L1060.78,351.68L1067.63,253.7L1074.47,216.38L1081.31,345.46L1088.16,249.04L1095,239.71L1101.84,329.91L1108.69,306.58L1115.53,325.24L1122.38,354.79L1129.22,415.45L1136.06,466.77L1142.91,474.54L1149.75,497.87L1156.59,516.53L1163.44,519.64L1491.94,519.64L1498.78,511.87L1512.47,497.87L1519.31,494.76L1526.16,483.88L1533,468.32L1539.84,466.77L1546.69,458.99L1560.38,446.55L1567.22,404.56L1574.06,392.12L1580.91,353.24L1587.75,264.59L1594.59,194.61L1601.44,200.83L1608.28,133.95L1615.13,188.38L1621.97,113.73L1628.81,165.06L1635.66,112.18L1642.5,107.51L1649.34,231.93L1656.19,81.07L1663.03,308.14L1669.88,84.18L1676.72,121.51L1683.56,113.73L1690.41,81.07L1697.25,269.26L1704.09,315.91L1710.94,292.58L1717.78,403L1724.63,286.36L1731.47,221.04L1738.31,314.36L1745.16,211.71L1752,236.6L1758.84,250.59L1765.69,393.67L1772.53,370.34L1779.38,460.55L1786.22,482.32L1813.59,519.64L1820.44,519.64L2148.94,516.53L2155.78,513.42L2162.63,508.76L2169.47,496.32L2196.84,466.77L2203.69,444.99L2210.53,435.66L2217.38,399.89L2224.22,297.25L2231.06,343.91L2237.91,387.45L2244.75,340.8L2251.59,222.6L2258.44,373.45L2272.13,207.05L2278.97,219.49L2285.81,329.91L2292.66,250.59L2299.5,245.93L2306.34,323.69L2326.88,126.18L2333.72,177.5L2340.56,249.04L2347.41,152.61L2354.25,119.95L2361.09,127.73L2367.94,311.25L2374.78,166.61L2388.47,396.78L2395.31,348.57L2402.16,418.56L2409,273.92L2422.69,500.98L2429.53,493.21L2436.38,486.99L2443.22,500.98L2484.28,519.64L2491.13,519.64L2805.94,514.98L2812.78,505.65L2819.63,497.87L2826.47,474.54L2860.69,396.78L2867.53,403L2894.91,256.81L2901.75,249.04L2922.28,323.69L2929.13,294.14L2942.81,137.06L2949.66,273.92L2963.34,74.85L2970.19,98.18L2977.03,102.85L2983.88,174.39L2990.72,99.74L2997.56,140.17L3004.41,79.52L3018.09,371.9L3024.94,298.8L3045.47,365.68L3052.31,319.02L3059.16,256.81L3066,329.91L3072.84,284.81L3079.69,351.68L3086.53,339.24L3093.38,396.78L3100.22,403L3107.06,437.22L3134.44,519.64L3141.28,519.64L3469.78,507.2L3476.63,490.1L3510.84,443.44L3517.69,437.22L3531.38,441.88L3538.22,323.69L3558.75,375.01L3565.59,381.23L3579.28,258.37L3586.13,339.24L3592.97,353.24L3599.81,339.24L3606.66,337.68L3613.5,367.23L3620.34,336.13L3627.19,356.35L3634.03,364.12L3640.88,328.35L3647.72,266.14L3654.56,362.57L3668.25,188.38L3675.09,373.45L3688.78,412.34L3695.63,403L3702.47,228.82L3709.31,320.58L3716.16,213.27L3736.69,465.21L3743.53,365.68L3770.91,500.98L3777.75,504.09L3805.13,519.64L3811.97,519.64L4126.78,508.76L4133.63,497.87L4161,454.33L4167.84,482.32L4181.53,337.68L4188.38,263.03L4195.22,294.14L4202.06,205.49L4208.91,213.27L4215.75,334.57L4236.28,135.51L4243.13,256.81L4249.97,247.48L4256.81,267.7L4263.66,311.25L4270.5,325.24L4277.34,291.03L4304.72,76.41L4311.56,99.74L4325.25,270.81L4332.09,417L4338.94,426.33L4345.78,395.23L4352.63,361.01L4359.47,222.6L4386.84,303.47L4393.69,382.79L4400.53,368.79L4407.38,404.56L4434.75,508.76L4441.59,518.09L4530.56,519.64L4537.41,519.64L4797.47,507.2L4804.31,497.87L4824.84,472.99L4831.69,381.23L4852.22,401.45L4859.06,437.22L4865.91,424.78L4872.75,239.71L4879.59,107.51L4886.44,281.7L4893.28,429.44L4920.66,119.95L4927.5,143.28L4934.34,147.95L4941.19,57.75L4948.03,236.6L4954.88,161.95L4961.72,28.2L4968.56,200.83L4975.41,109.07L4982.25,123.07L5009.63,249.04L5016.47,188.38L5030.16,203.94L5037,287.92L5057.53,477.65L5064.38,421.67L5071.22,426.33L5098.59,518.09L5105.44,519.64L5447.63,500.98L5454.47,491.65L5481.84,413.89L5488.69,376.57L5536.59,177.5L5543.44,163.5L5577.66,105.96L5584.5,126.18L5591.34,147.95L5605.03,85.74L5611.88,168.17L5625.56,124.62L5632.41,161.95L5639.25,241.26L5646.09,133.95L5666.63,172.83L5673.47,174.39L5707.69,292.58L5714.53,384.34L5769.28,519.64L5776.13,519.64L6104.63,496.32L6111.47,485.43L6166.22,309.69L6173.06,281.7L6200.44,182.16L6207.28,239.71L6214.13,291.03L6220.97,280.14L6227.81,179.05L6248.34,95.07L6268.88,359.46L6275.72,295.69L6282.56,81.07L6303.09,250.59L6309.94,202.38L6323.63,161.95L6330.47,427.89L6351,404.56L6405.75,518.09L6412.59,519.64L6761.63,494.76L6768.47,482.32L6789,418.56L6795.84,376.57L6802.69,395.23L6809.53,379.68L6816.38,284.81L6823.22,186.83L6836.91,325.24L6843.75,305.03L6850.59,280.14L6864.28,295.69L6871.13,200.83L6884.81,171.28L6891.66,305.03L6898.5,219.49L6905.34,144.84L6912.19,98.18L6919.03,161.95L6925.88,104.4L6932.72,185.27L6939.56,84.18L6946.41,205.49L6966.94,102.85L6973.78,151.06L6987.47,340.8L7014.84,301.91L7021.69,295.69L7028.53,298.8L7035.38,351.68L7042.22,361.01L7049.06,474.54L7117.5,519.64L7124.34,519.64L7418.63,497.87L7425.47,480.76L7493.91,354.79L7500.75,247.48L7541.81,179.05L7548.66,193.05L7555.5,196.16L7576.03,82.63L7589.72,197.72L7596.56,214.82L7637.63,375.01L7644.47,361.01L7651.31,228.82L7658.16,221.04L7665,287.92L7712.91,497.87L7719.75,508.76L7767.66,519.64L7774.5,519.64L8089.31,480.76L8096.16,463.66L8137.22,347.02L8144.06,287.92L8164.59,263.03L8178.28,317.47L8185.13,199.27L8198.81,292.58L8226.19,110.62L8233.03,152.61L8267.25,127.73L8280.94,379.68L8287.78,370.34L8315.16,448.11L8322,241.26L8328.84,266.14L8335.69,298.8L8349.38,390.56L8356.22,460.55L8410.97,519.64L8417.81,519.64L8739.47,483.88L8746.31,469.88L8787.38,423.22L8794.22,370.34L8842.13,249.04L8848.97,253.7L8855.81,261.48L8862.66,275.48L8883.19,235.04L8890.03,110.62L8910.56,289.47L8931.09,216.38L8937.94,135.51L8979,379.68L8992.69,347.02L8999.53,317.47L9074.81,519.64L9081.66,519.64L9198,519.64\" style=\"vector-effect: non-scaling-stroke; fill: none; stroke: rgb(0, 0, 255); stroke-opacity: 1; stroke-width: 2px; opacity: 1;\"/></g><g class=\"points\"/><g class=\"text\"/></g><g class=\"trace scatter tracef1fa1a\" style=\"stroke-miterlimit: 2; opacity: 1;\"><g class=\"fills\"/><g class=\"errorbars\"/><g class=\"lines\"><path class=\"js-line\" d=\"M-1444.03,519.57L-1142.91,517.24L-1136.06,507.6L-1129.22,498.56L-1122.37,477.11L-1115.53,461.55L-1108.69,425.23L-1101.84,388.15L-1095,417.78L-1081.31,381.16L-1074.47,350.62L-1067.62,333.3L-1060.78,343.75L-1053.94,274.61L-1047.09,298.41L-1040.25,352.72L-1033.41,332.96L-1019.72,223.14L-1012.87,283.88L-1006.03,279.22L-999.19,299.22L-985.5,263.68L-978.66,177.26L-958.12,204.56L-951.28,155.03L-944.44,75.77L-937.59,208.76L-930.75,183.96L-923.91,255.78L-917.06,250.19L-910.22,404.43L-903.37,374.28L-896.53,408.12L-889.69,448.35L-882.84,424.41L-869.16,470.69L-862.31,472.68L-855.47,476.1L-848.62,473.15L-834.94,507.68L-828.09,509.87L-807.56,519.64L-800.72,520.1L-725.44,519.65L-718.59,519.65L-492.75,519.1L-485.91,510.23L-479.06,500.25L-472.22,497.83L-451.69,460.85L-444.84,454.91L-431.16,382.08L-424.31,344.26L-417.47,275.72L-410.62,280.67L-403.78,271.96L-396.94,245.17L-390.09,237.03L-383.25,157.79L-376.41,143.47L-369.56,170.26L-362.72,184.17L-355.87,223.06L-349.03,180.03L-342.19,270.08L-335.34,259.61L-328.5,288.26L-321.66,362.18L-314.81,221.71L-307.97,218.65L-301.12,189.53L-294.28,132.64L-287.44,162.48L-273.75,229.16L-266.91,219.36L-260.06,246.8L-253.22,230.39L-239.53,266.37L-232.69,259.38L-225.84,232.12L-219,401.42L-212.16,356.55L-205.31,414.89L-198.47,440.01L-191.62,484.76L-184.78,484.16L-177.94,478.3L-164.25,517.52L-157.41,518.23L-150.56,519.87L-143.72,519.51L-88.97,519.65L-82.12,519.65L150.56,519.97L157.41,518.14L164.25,517.53L171.09,515.75L177.94,503.3L184.78,506.42L191.63,495.31L198.47,482.29L205.31,448.59L212.16,439.39L219,438.24L225.84,456.37L232.69,431.83L239.53,429.22L246.38,420.39L253.22,384.6L260.06,373.35L266.91,354.62L273.75,278.35L280.59,286.53L287.44,234.09L294.28,226.32L301.13,192.57L307.97,184.01L314.81,216.86L321.66,230.32L328.5,190.18L335.34,212.94L342.19,213.81L349.03,201.03L355.88,234.18L362.72,255.24L369.56,168.11L376.41,262.34L383.25,227.28L390.09,209.58L396.94,241.46L403.78,223.98L410.63,313.27L417.47,291.5L424.31,297.47L431.16,355.92L438,336.78L444.84,350.94L451.69,370.64L458.53,428.14L465.38,432.58L472.22,455.79L479.06,459.53L485.91,485.03L492.75,502.54L499.59,515.24L506.44,519.95L513.28,519.63L533.81,519.66L540.66,519.6L629.63,519.65L636.47,519.65L821.25,519.47L828.09,518.29L834.94,516.86L841.78,513.49L848.63,497.79L855.47,497L862.31,491.85L869.16,495.75L876,476.81L882.84,448.1L889.69,431.58L896.53,380.55L903.38,284.43L910.22,332.05L917.06,346.85L923.91,266.81L930.75,235.6L937.59,176.28L944.44,150.67L951.28,143.94L958.13,105.61L964.97,76.89L971.81,75.97L978.66,195.21L985.5,245.16L992.34,201.56L999.19,231.15L1006.03,191.51L1012.88,266.1L1019.72,316.8L1026.56,334.57L1033.41,303.6L1040.25,285.64L1047.09,261.47L1053.94,332.2L1060.78,342.55L1067.63,234.91L1074.47,279.35L1081.31,359.59L1088.16,291.15L1095,292.88L1101.84,350.69L1108.69,367.47L1115.53,344.75L1122.38,380.39L1129.22,421.74L1136.06,479.35L1142.91,491.24L1156.59,520.82L1163.44,520.41L1170.28,520.7L1177.13,519.6L1204.5,519.71L1211.34,519.66L1485.09,519.97L1491.94,517.1L1512.47,485.33L1519.31,490.49L1526.16,459.06L1533,454.97L1539.84,454.74L1546.69,429.87L1553.53,428.6L1560.38,399.87L1567.22,360.96L1574.06,370.29L1580.91,311.1L1587.75,271.28L1594.59,253.66L1601.44,211.82L1608.28,199.62L1615.13,181.99L1621.97,198.31L1628.81,161.98L1635.66,120L1642.5,102.39L1649.34,143.27L1656.19,164.92L1663.03,236.33L1669.88,96.2L1676.72,133.52L1683.56,147.77L1690.41,104.1L1697.25,205.24L1704.09,265.18L1710.94,261.16L1717.78,399.42L1724.63,226.83L1731.47,213.68L1738.31,337.77L1745.16,251.49L1752,277.97L1765.69,367.01L1772.53,385.4L1779.38,469.01L1786.22,489.63L1793.06,496.63L1799.91,509.58L1806.75,520.22L1813.59,519.04L1820.44,521.72L1827.28,519.79L2142.09,519.73L2148.94,511.69L2169.47,491.94L2176.31,469.39L2183.16,474.61L2190,457.28L2210.53,411.1L2217.38,368.71L2224.22,262.57L2231.06,300.75L2237.91,333.96L2244.75,263.16L2258.44,205.17L2265.28,240.57L2272.13,196.39L2278.97,202.4L2285.81,264.92L2292.66,224.97L2299.5,170.88L2306.34,253.58L2313.19,210.6L2320.03,209.81L2326.88,129.11L2333.72,158.7L2340.56,198.32L2347.41,181.18L2354.25,162.89L2361.09,169.34L2367.94,273.83L2374.78,210.98L2388.47,380.06L2395.31,348.7L2402.16,402.1L2409,320.58L2422.69,500.58L2429.53,492.14L2436.38,490.41L2443.22,506.45L2463.75,521.2L2470.59,520.59L2532.19,519.65L2539.03,519.65L2799.09,518.5L2805.94,510.92L2833.31,445.68L2840.16,426.28L2853.84,379.29L2860.69,360.63L2867.53,368.84L2874.38,280.25L2881.22,287.12L2888.06,265.15L2894.91,268.96L2901.75,220.99L2908.59,244.14L2915.44,209.55L2922.28,254.56L2929.13,237.34L2935.97,226.08L2942.81,160.9L2949.66,211.69L2956.5,183.31L2963.34,187.92L2970.19,170.25L2977.03,110.46L2983.88,227.03L2990.72,115.5L2997.56,190.39L3004.41,105.32L3011.25,253.14L3018.09,353.19L3024.94,245.28L3031.78,347.07L3038.63,333.92L3045.47,370.54L3052.31,342.06L3059.16,347.01L3066,373.18L3072.84,312.48L3079.69,397.28L3086.53,367.99L3093.38,436.93L3134.44,519.94L3141.28,519.95L3319.22,519.65L3326.06,519.65L3462.94,508.33L3469.78,495.29L3510.84,412.22L3517.69,376.64L3531.38,415.49L3538.22,294.84L3551.91,305.64L3558.75,349.38L3579.28,246.23L3586.13,285.15L3592.97,325.96L3599.81,308.74L3606.66,298.32L3613.5,332.64L3620.34,289.78L3634.03,349.47L3640.88,287.05L3647.72,201.04L3654.56,345.65L3661.41,230.04L3668.25,235.74L3675.09,295.68L3688.78,408.56L3695.63,359.41L3702.47,225.71L3723,381.73L3729.84,312.21L3736.69,476.27L3743.53,405.48L3750.38,431.77L3770.91,509.19L3777.75,517.42L3818.81,520.63L3825.66,519.62L3859.88,519.65L3866.72,519.65L4119.94,511.09L4126.78,495.21L4161,430.41L4167.84,465.28L4188.38,215.34L4202.06,234.07L4208.91,213.43L4215.75,270.09L4222.59,218.58L4229.44,188.91L4243.13,138.16L4249.97,232.96L4256.81,257.18L4263.66,218.86L4270.5,230.21L4277.34,242.91L4284.19,177.24L4304.72,78.79L4311.56,119.84L4345.78,371.45L4352.63,342.88L4359.47,279.51L4373.16,284.66L4380,299.79L4441.59,521.93L4448.44,519.79L4797.47,498.26L4804.31,487.29L4824.84,451.82L4831.69,348.42L4859.06,394.35L4865.91,335.32L4879.59,186.91L4886.44,276.75L4893.28,346.68L4900.13,204.06L4906.97,217.93L4913.81,207.39L4920.66,139.85L4927.5,185.68L4941.19,154.86L4948.03,175.06L4954.88,175.32L4961.72,124.11L4968.56,167.56L4989.09,163.18L4995.94,196.23L5002.78,196.64L5009.63,268.66L5016.47,228.84L5030.16,244.96L5037,324.27L5078.06,503.34L5084.91,516.22L5146.5,519.6L5153.34,519.66L5433.94,507.69L5440.78,499.23L5461.31,466.36L5468.16,428.84L5475,422.7L5481.84,376.65L5543.44,141.42L5550.28,156.15L5557.13,164.68L5570.81,74L5591.34,90.39L5598.19,153.39L5611.88,176.56L5618.72,121.89L5625.56,152.56L5632.41,144.34L5639.25,204.63L5652.94,189.18L5659.78,232.93L5680.31,218.64L5687.16,298.76L5735.06,484.75L5741.91,512.09L5796.66,519.6L5803.5,519.6L6097.78,501.17L6104.63,487.64L6132,405.52L6138.84,416.97L6145.69,361.02L6186.75,201.09L6193.59,203.22L6200.44,160.68L6234.66,259.18L6241.5,192.23L6248.34,150.65L6255.19,181.04L6262.03,286.6L6268.88,304.72L6275.72,247.18L6282.56,157.88L6289.41,280.38L6309.94,216.39L6316.78,214.14L6323.63,242.33L6330.47,410.5L6337.31,385.72L6351,401.94L6357.84,441.1L6405.75,518.24L6412.59,519.46L6604.22,519.15L6611.06,519.64L6754.78,495.13L6761.63,482.12L6789,391.78L6795.84,353.67L6809.53,352.11L6816.38,270.64L6823.22,189.51L6836.91,308.79L6850.59,237.73L6857.44,222.38L6864.28,226.51L6871.13,191.65L6891.66,273.73L6898.5,162.93L6905.34,142.66L6932.72,203.73L6939.56,126.37L6994.31,348.39L7001.16,389.25L7028.53,339.56L7035.38,414.84L7042.22,406.21L7049.06,488.33L7096.97,519.72L7103.81,519.66L7411.78,494.04L7418.63,482.23L7507.59,230.27L7514.44,143.72L7528.13,180.42L7555.5,168.7L7562.34,133.47L7576.03,93.74L7582.88,133.69L7589.72,183.96L7637.63,398.77L7644.47,345.14L7651.31,268.83L7733.44,519.6L7740.28,519.45L8075.63,486.69L8082.47,473.34L8103,418.47L8109.84,430.52L8116.69,368.42L8144.06,254.05L8171.44,271.21L8178.28,279.39L8185.13,162.32L8198.81,290.3L8219.34,190.99L8226.19,156.53L8239.88,294.34L8246.72,147.16L8315.16,455.87L8322,329.81L8342.53,365.84L8349.38,431.8L8390.44,521.2L8397.28,520L8404.13,518.98L8534.16,519.65\" style=\"vector-effect: non-scaling-stroke; fill: none; stroke: rgb(255, 215, 0); stroke-opacity: 1; stroke-width: 2px; opacity: 1;\"/></g><g class=\"points\"/><g class=\"text\"/></g><g class=\"trace scatter tracecf38c3\" style=\"stroke-miterlimit: 2; opacity: 1;\"><g class=\"fills\"/><g class=\"errorbars\"/><g class=\"lines\"><path class=\"js-line\" d=\"M-1444.03,526.03L-1437.19,527.91L-1430.34,520.1L-1416.66,521.08L-1409.81,525.3L-1402.97,527.78L-1396.12,519.68L-1375.59,522.33L-1368.75,525.18L-1341.37,524.66L-1334.53,526.67L-1245.56,523.41L-1238.72,525.59L-1204.5,523.97L-1197.66,521.11L-1170.28,522.87L-1163.44,520.45L-1129.22,496.31L-1122.37,477.6L-1108.69,432.91L-1101.84,396.5L-1088.16,406.26L-1081.31,373.65L-1074.47,366.66L-1067.62,329L-1060.78,350.13L-1053.94,258.61L-1047.09,284.54L-1040.25,363.63L-1026.56,272.88L-1019.72,285.73L-1012.87,306.79L-1006.03,273.21L-999.19,295.99L-992.34,296.31L-985.5,278.64L-978.66,217.57L-971.81,190.53L-964.97,206.72L-958.12,184.96L-951.28,129.24L-944.44,101.51L-937.59,172.69L-923.91,292.43L-917.06,294.51L-903.37,408.12L-896.53,407.35L-882.84,469.27L-876,470.14L-855.47,474.95L-848.62,485.01L-834.94,509.53L-828.09,514.79L-821.25,516.23L-814.41,524.28L-807.56,528.52L-800.72,525.83L-787.03,523.62L-780.19,523.7L-732.28,525.08L-725.44,524.93L-636.47,523.04L-629.62,524.17L-602.25,524.81L-595.41,523.67L-513.28,518.05L-506.44,514.06L-499.59,510.27L-492.75,511.8L-485.91,508.34L-479.06,500.86L-438,443.35L-431.16,400.45L-403.78,253.63L-396.94,244.55L-390.09,210.28L-383.25,180.23L-376.41,157.85L-369.56,197.35L-362.72,193.68L-355.87,221.02L-349.03,173.56L-342.19,267.83L-328.5,293.22L-321.66,330.7L-314.81,241.52L-307.97,231.15L-301.12,250.71L-294.28,144.89L-287.44,175.69L-280.59,163.34L-273.75,175.57L-266.91,171.1L-260.06,271.82L-253.22,230.15L-246.37,234.06L-239.53,240.95L-232.69,265.12L-225.84,268.19L-219,441.19L-212.16,414.6L-205.31,408.7L-198.47,439.53L-191.62,482.95L-184.78,493.76L-177.94,484.85L-171.09,496.52L-164.25,520.75L-157.41,521.56L-150.56,522.83L-143.72,526.87L-136.87,528.26L-130.03,525.5L-109.5,522.37L-102.66,521.97L-95.81,521.23L-88.97,518.28L-82.12,516.62L-75.28,517.86L-68.44,516.24L-61.59,517.78L-47.91,517.15L-41.06,518.37L-34.22,519.33L-27.37,519.24L-13.69,519.25L-6.84,518.79L6.84,518.4L13.69,518.82L34.22,519.94L41.06,519.93L47.91,520.89L54.75,520.65L75.28,522.22L82.13,521.97L116.34,522.46L123.19,521.26L136.88,520.31L143.72,518.24L157.41,516.12L164.25,509.89L171.09,507.19L177.94,503.16L184.78,501.17L191.63,486.67L198.47,476.83L205.31,454.89L212.16,439.88L219,433.13L225.84,435.14L232.69,424.46L239.53,419.84L246.38,403.38L253.22,381.47L260.06,376.46L266.91,357.63L273.75,296.85L280.59,313.66L287.44,264.79L294.28,167L301.13,160.75L307.97,233.87L314.81,195.85L321.66,241.81L328.5,214.89L335.34,219.71L342.19,235.1L349.03,225.68L355.88,234.56L362.72,220.85L369.56,136.77L376.41,272.42L383.25,258.1L390.09,241L396.94,234.69L403.78,229.91L410.63,316.44L417.47,270.47L424.31,265.03L431.16,317.45L438,322.77L444.84,333.26L451.69,347.15L458.53,389.21L465.38,412.85L472.22,453.71L479.06,457.61L485.91,492.87L492.75,504.2L499.59,525.69L506.44,533.08L513.28,528.67L520.13,531.12L526.97,525.16L533.81,531.6L540.66,534.11L547.5,530.53L554.34,534.24L561.19,530.8L574.88,531.85L581.72,530.11L595.41,529.45L602.25,528.01L615.94,529.33L622.78,529.05L629.63,529.98L636.47,529.58L704.91,532.03L711.75,531.57L718.59,531.69L725.44,532.76L752.81,534.42L759.66,533.62L766.5,534.33L773.34,534.05L780.19,535.74L787.03,535.08L793.88,534.52L800.72,531.43L807.56,527.25L814.41,527.33L821.25,524.58L828.09,523.32L834.94,522.1L841.78,517.36L848.63,506.91L855.47,503.09L862.31,493.05L869.16,494.07L882.84,460.4L889.69,449L903.38,312.78L910.22,330.23L917.06,338.56L923.91,312.99L937.59,122.29L944.44,140.05L951.28,115.82L958.13,100.74L964.97,106.61L971.81,96.21L978.66,217.76L985.5,219.42L992.34,211.94L999.19,220.07L1006.03,210.91L1012.88,261.82L1019.72,322.63L1026.56,339.99L1033.41,356.73L1040.25,349.86L1047.09,311.87L1053.94,324.19L1060.78,354.59L1067.63,297.34L1074.47,284.07L1081.31,370L1088.16,307.96L1095,305.94L1101.84,366L1108.69,358.96L1115.53,384.08L1122.38,398.95L1136.06,481.92L1142.91,488.59L1149.75,504.34L1156.59,513.94L1163.44,511.31L1170.28,512.42L1177.13,517.95L1183.97,516.91L1190.81,513.95L1197.66,513.88L1204.5,516.57L1211.34,516.41L1218.19,515.32L1225.03,515.38L1231.88,512.26L1238.72,512.02L1252.41,509.65L1259.25,510.54L1272.94,509.87L1279.78,511.07L1320.84,513.85L1327.69,515.3L1334.53,515.89L1341.38,515.11L1368.75,514.49L1375.59,514.66L1389.28,517.68L1396.13,517.89L1409.81,516.71L1416.66,517.75L1437.19,523.39L1444.03,524.24L1450.88,523.85L1457.72,519.89L1464.56,514.04L1471.41,513.46L1491.94,504.87L1498.78,498.31L1512.47,471.37L1519.31,472.76L1526.16,466.11L1533,446.22L1546.69,425.07L1553.53,419.33L1560.38,406.41L1567.22,371.88L1574.06,364.67L1580.91,340.37L1594.59,211.81L1601.44,215.9L1608.28,157.41L1615.13,172.98L1621.97,120.31L1628.81,158.08L1635.66,105.26L1642.5,95.66L1649.34,187.1L1656.19,76.69L1663.03,245.18L1669.88,85.7L1676.72,143.19L1683.56,121.79L1690.41,96.94L1697.25,241.56L1704.09,269.11L1710.94,274.51L1717.78,363.56L1724.63,296.8L1731.47,260.58L1738.31,336.61L1745.16,260.43L1752,289.62L1758.84,294.21L1765.69,390.34L1772.53,400.07L1779.38,455.31L1793.06,498.71L1799.91,497.96L1806.75,512.39L1813.59,503.48L1820.44,516.37L1827.28,510.7L1840.97,519.65L1847.81,515.55L1854.66,513.48L1861.5,518.58L1868.34,511.72L1875.19,513.5L2059.97,516.28L2066.81,517.61L2107.88,520.93L2114.72,516.77L2142.09,510.94L2148.94,504.32L2155.78,507.21L2162.63,495.9L2169.47,489.17L2176.31,471.26L2183.16,471.2L2190,454.22L2196.84,449.25L2203.69,429.98L2210.53,416.85L2217.38,385L2224.22,302.08L2231.06,321L2237.91,349L2244.75,308.79L2251.59,221.21L2258.44,336.47L2278.97,205.59L2285.81,301.26L2299.5,204.76L2306.34,303.41L2326.88,143.75L2333.72,184.89L2340.56,234.58L2347.41,168.37L2354.25,153.82L2361.09,161.03L2367.94,309.06L2374.78,199.05L2388.47,385.8L2395.31,381.7L2402.16,426.02L2409,313.26L2422.69,501.21L2429.53,497.27L2443.22,502.08L2450.06,502.72L2463.75,518.77L2470.59,522.21L2504.81,520.37L2511.66,525.7L2525.34,524.22L2532.19,519.82L2566.41,521.94L2573.25,521.71L2621.16,521.76L2628,521.19L2771.72,519.36L2778.56,516.72L2812.78,501.33L2819.63,488.85L2853.84,372.72L2860.69,379.48L2867.53,372.76L2894.91,236.22L2901.75,217.15L2922.28,263.23L2929.13,244.28L2935.97,223.29L2942.81,145.98L2949.66,248.75L2956.5,185.84L2963.34,114.43L2970.19,129.91L2977.03,127.29L2983.88,187.2L2990.72,126.28L2997.56,152.94L3004.41,100.66L3018.09,352.38L3024.94,318.06L3045.47,397.35L3052.31,351.88L3059.16,306.47L3066,364.21L3072.84,335.19L3079.69,397.45L3086.53,397.01L3093.38,440.46L3107.06,482.22L3113.91,502.85L3134.44,527.17L3141.28,531.01L3202.88,521.2L3209.72,522.03L3456.09,522.36L3462.94,514.13L3504,442.6L3510.84,417.28L3524.53,404.94L3531.38,411.93L3538.22,318.6L3545.06,330.42L3551.91,309.81L3565.59,341L3572.44,293.11L3579.28,250.83L3586.13,309.41L3592.97,329.94L3599.81,318.1L3606.66,312.14L3627.19,346.65L3634.03,350.76L3640.88,343.8L3647.72,273.76L3654.56,357.9L3661.41,253.01L3668.25,221.3L3675.09,371.17L3688.78,427.82L3695.63,400.19L3702.47,258.8L3716.16,253.96L3723,392.73L3729.84,328.56L3736.69,462.5L3750.38,452.77L3757.22,493.85L3777.75,517.04L3784.59,521.05L3818.81,533.8L3825.66,524.62L3846.19,526.58L3853.03,527.86L3900.94,525.43L3907.78,527.2L3989.91,528.11L3996.75,526.28L4072.03,524.95L4078.88,524.59L4147.31,467.2L4154.16,453.78L4174.69,418.61L4181.53,341.19L4208.91,205.96L4215.75,275.49L4236.28,113.3L4243.13,225.91L4249.97,197.71L4256.81,215.92L4263.66,272.62L4277.34,266.03L4284.19,170.42L4311.56,119.23L4318.41,178.13L4338.94,408.21L4345.78,385.15L4352.63,376.37L4359.47,271.17L4373.16,272.43L4380,307.39L4434.75,506.85L4441.59,510.42L4475.81,520.55L4482.66,516.27L4735.88,520.63L4742.72,515.09L4797.47,493.98L4804.31,477.5L4824.84,449.42L4831.69,381.43L4865.91,373.89L4872.75,254.81L4879.59,145.81L4886.44,254.07L4893.28,342.51L4927.5,159.93L4934.34,167.18L4948.03,215.21L4961.72,97.57L4968.56,193.79L4975.41,137.63L4989.09,167.9L4995.94,174.13L5009.63,266.42L5023.31,249.11L5030.16,225.65L5057.53,478.04L5064.38,436.97L5071.22,445.95L5091.75,523.08L5098.59,513.16L5105.44,511L5125.97,524.85L5132.81,518.61L5139.66,511.92L5201.25,515.48L5208.09,514.49L5406.56,515.66L5413.41,518.76L5454.47,484.65L5461.31,470.57L5481.84,394.19L5488.69,364.43L5550.28,123.85L5557.13,118.78L5570.81,83.25L5584.5,105.67L5591.34,125.4L5605.03,78.18L5611.88,142.84L5618.72,120.73L5632.41,156.5L5639.25,223.39L5646.09,164.51L5666.63,200.29L5673.47,211.16L5714.53,414.45L5721.38,442.52L5769.28,527.36L5776.13,526.23L6097.78,503.6L6104.63,493.07L6138.84,403.51L6145.69,357.12L6200.44,157.27L6207.28,203.12L6214.13,228.93L6220.97,218.64L6227.81,154.93L6248.34,110.59L6268.88,307.6L6275.72,258.43L6282.56,126.72L6289.41,292.39L6303.09,259.72L6309.94,223.2L6316.78,206.72L6323.63,212.89L6330.47,416.71L6412.59,524.29L6419.44,519.15L6747.94,508.35L6754.78,494.03L6789,404.7L6795.84,360.74L6809.53,355.43L6816.38,275.76L6823.22,195.9L6836.91,288.15L6850.59,236.4L6857.44,246.17L6864.28,251.22L6871.13,184.59L6884.81,171.89L6891.66,245.6L6898.5,201.87L6905.34,166.28L6919.03,175.94L6925.88,134.62L6932.72,205.1L6939.56,122.67L6946.41,221.81L6966.94,154.07L6973.78,190.35L7021.69,359.88L7028.53,364.32L7076.44,531.99L7083.28,530.34L7090.13,533.19L7165.41,521.47L7172.25,521.98L7404.94,511.13L7411.78,500.59L7439.16,442.55L7446,416.11L7493.91,323.87L7500.75,245.8L7548.66,155.11L7555.5,177.19L7576.03,98.27L7589.72,179.19L7596.56,191.55L7644.47,377.12L7651.31,271.09L7658.16,262.39L7665,314.98L7712.91,514.59L7719.75,519.24L7774.5,523.55L7781.34,524.5L8068.78,503.18L8075.63,493.45L8185.13,190.19L8191.97,144.41L8226.19,127.53L8239.88,276.52L8246.72,153.71L8287.78,390.55L8294.63,299.05L8301.47,269.9L8315.16,456.29L8349.38,433.8L8356.22,478.62L8397.28,527.99L8404.13,525.71L8410.97,525.72L8534.16,520.82\" style=\"vector-effect: non-scaling-stroke; fill: none; stroke: rgb(255, 0, 255); stroke-opacity: 1; stroke-width: 2px; opacity: 1;\"/></g><g class=\"points\"/><g class=\"text\"/></g><g class=\"trace scatter trace7bff29\" style=\"stroke-miterlimit: 2; opacity: 1;\"><g class=\"fills\"/><g class=\"errorbars\"/><g class=\"lines\"><path class=\"js-line\" d=\"M-1444.03,519.6L-1136.06,512.8L-1129.22,498.69L-1115.53,462.86L-1108.69,420.05L-1101.84,385.82L-1095,417.93L-1074.47,362.01L-1067.62,325.7L-1060.78,369.02L-1053.94,261.31L-1047.09,283.69L-1040.25,370.38L-1026.56,262.2L-1019.72,283.24L-1006.03,282.04L-999.19,303.1L-985.5,259.2L-978.66,190.23L-964.97,182.18L-958.12,179.18L-951.28,132.54L-944.44,130.94L-930.75,221.52L-923.91,268.39L-917.06,277.66L-910.22,332.08L-903.37,377.9L-896.53,380.58L-882.84,447.32L-876,457.57L-862.31,463.03L-855.47,463.99L-848.62,468.85L-841.78,493.82L-814.41,519.57L-807.56,519.6L-492.75,519.45L-485.91,513.6L-465.37,481.65L-458.53,476.36L-451.69,472.25L-444.84,458.67L-438,433.02L-431.16,390.08L-424.31,359.42L-417.47,285.78L-403.78,246.94L-396.94,260.22L-383.25,188.74L-376.41,179.41L-369.56,216.15L-362.72,219.94L-355.87,226.75L-349.03,172.05L-342.19,272.25L-335.34,295.12L-328.5,303.83L-321.66,322.39L-314.81,226.23L-307.97,189.42L-301.12,212.37L-294.28,149.01L-287.44,169.77L-280.59,160.77L-273.75,175.55L-266.91,164.5L-260.06,231.1L-253.22,238.54L-246.37,243.08L-239.53,244.07L-232.69,251.51L-225.84,251.31L-219,445.28L-212.16,389.79L-205.31,397.23L-198.47,432.22L-191.62,468.68L-184.78,475.72L-177.94,482.97L-171.09,500.55L-164.25,515.15L-157.41,519.6L157.41,519.57L164.25,518.26L171.09,512.5L177.94,508.73L191.63,496.14L198.47,478.55L205.31,448.1L212.16,441.65L219,442.1L225.84,444.33L232.69,432.24L239.53,432.25L246.38,416.87L253.22,369.93L260.06,368.73L266.91,356.82L273.75,282.76L280.59,285.01L287.44,260.03L294.28,189.26L301.13,161.19L307.97,214.19L314.81,218.04L321.66,253.7L328.5,222.35L335.34,220.71L342.19,230.44L349.03,222.91L355.88,223L362.72,223.92L369.56,160.97L376.41,254.26L383.25,226.31L390.09,211.65L396.94,217.68L403.78,222.13L410.63,305.31L417.47,256.74L424.31,257.72L431.16,322.11L438,323.44L444.84,335.4L451.69,355.42L458.53,394.04L465.38,410.9L472.22,448.11L479.06,449.75L485.91,482.82L492.75,503.93L499.59,517.75L506.44,519.6L513.28,519.6L821.25,519.55L828.09,516.16L834.94,512.58L841.78,511.9L848.63,498.53L855.47,497.72L862.31,484.79L869.16,495.85L876,477.85L882.84,447.67L889.69,441.6L896.53,370.46L903.38,286.42L910.22,321.99L917.06,355.08L923.91,308.04L930.75,218.09L937.59,157.35L944.44,146.43L951.28,132.22L958.13,124.39L964.97,131.07L971.81,127.55L978.66,255L985.5,257.2L992.34,224.54L999.19,227.98L1006.03,225.85L1012.88,280.73L1019.72,324.45L1026.56,327.01L1033.41,323.94L1040.25,311.27L1047.09,288.75L1053.94,292.58L1060.78,311.48L1067.63,239.03L1074.47,254.71L1081.31,323.54L1088.16,274.36L1095,284.19L1101.84,346.63L1108.69,343.76L1115.53,366.15L1122.38,397.13L1129.22,435.91L1136.06,476.96L1142.91,490.07L1149.75,505.98L1156.59,519.46L1485.09,519.48L1491.94,518.57L1498.78,505.81L1505.63,499.08L1512.47,484.29L1519.31,481.53L1526.16,473.07L1533,447.28L1539.84,443.98L1546.69,438.01L1560.38,425.57L1567.22,371.76L1574.06,368.86L1580.91,307.02L1587.75,246.55L1594.59,213.02L1601.44,198.78L1608.28,155.18L1615.13,182.57L1621.97,136.16L1628.81,170.72L1635.66,129.71L1642.5,127.49L1649.34,211.26L1656.19,114.68L1663.03,242.6L1669.88,115.29L1676.72,148.92L1690.41,111.59L1697.25,218.14L1704.09,285.56L1710.94,273.59L1717.78,371.41L1724.63,277.13L1731.47,238.14L1738.31,314.28L1745.16,247.37L1752,280.62L1758.84,290.55L1765.69,397.41L1772.53,385.58L1779.38,464.08L1786.22,488.82L1793.06,497.96L1806.75,515.66L1813.59,519.49L2135.25,519.48L2142.09,519.08L2190,458.94L2196.84,444.14L2210.53,417.84L2217.38,370.91L2224.22,270.62L2231.06,305.52L2237.91,354.81L2244.75,303.52L2251.59,208.31L2258.44,331.31L2265.28,281.38L2272.13,179.08L2278.97,185.1L2285.81,296.64L2299.5,209.17L2306.34,281.73L2326.88,140.73L2333.72,174.99L2340.56,217.85L2347.41,173.18L2354.25,151.83L2361.09,154.73L2367.94,278.77L2374.78,218.72L2381.63,247.58L2388.47,361.51L2395.31,328.86L2402.16,401.27L2409,314.15L2415.84,389.78L2429.53,492.65L2436.38,491.86L2456.91,514.94L2463.75,519.47L2792.25,519.44L2799.09,516.38L2812.78,499.81L2819.63,484.19L2860.69,372.89L2867.53,371.79L2888.06,246.91L2894.91,243.05L2901.75,235.22L2908.59,256.6L2915.44,237.54L2922.28,283.42L2935.97,221.71L2942.81,156.56L2949.66,227.23L2956.5,176.21L2970.19,121.15L2977.03,124.31L2983.88,181.19L2990.72,126.06L2997.56,165.53L3004.41,130.33L3018.09,330.25L3024.94,289.31L3031.78,321.61L3038.63,325.26L3045.47,350.47L3052.31,340.99L3059.16,305.38L3066,375.05L3072.84,333.04L3093.38,442.15L3100.22,446.09L3127.59,519.58L3134.44,519.6L3462.94,510.22L3469.78,497.3L3510.84,421.34L3517.69,417.27L3531.38,420.9L3538.22,286.48L3558.75,354.9L3565.59,355.68L3579.28,237.21L3586.13,301.94L3613.5,313.74L3620.34,304.17L3634.03,323.71L3640.88,303.7L3647.72,227.5L3654.56,322.81L3668.25,188.67L3675.09,319.66L3688.78,383.21L3695.63,373.26L3702.47,264.37L3716.16,261L3723,355.12L3729.84,335.49L3736.69,460.55L3743.53,389.63L3750.38,440.71L3770.91,509.17L3777.75,516.09L3811.97,519.6L3818.81,519.6L4119.94,508.78L4126.78,497.48L4161,433.61L4167.84,470.44L4208.91,204.95L4215.75,292.35L4236.28,150.02L4243.13,220.37L4256.81,225.65L4263.66,281.18L4270.5,284.16L4277.34,259.4L4304.72,107.3L4311.56,112.88L4325.25,220.02L4332.09,364.83L4338.94,388.43L4345.78,367.35L4352.63,325.51L4373.16,260.08L4380,295.78L4427.91,504.14L4434.75,514.93L4468.97,519.6L4475.81,519.6L4790.63,510.42L4797.47,497.64L4824.84,459.16L4831.69,360.98L4852.22,369.82L4859.06,416.43L4865.91,392.13L4872.75,242.73L4879.59,166.23L4886.44,252.09L4893.28,404.78L4920.66,146.36L4927.5,157.66L4934.34,153.33L4941.19,116.98L4948.03,201.84L4961.72,121.23L4975.41,133.05L4982.25,151.47L5023.31,248.5L5030.16,248.5L5057.53,483.34L5064.38,435.6L5071.22,450.03L5098.59,519.47L5105.44,519.48L5440.78,509.36L5447.63,488.34L5475,433.37L5481.84,386.19L5557.13,141.42L5563.97,127.04L5584.5,125.11L5591.34,142.06L5605.03,109.32L5611.88,173.7L5618.72,128.77L5632.41,177.56L5639.25,220.96L5652.94,178.89L5659.78,218.96L5666.63,230.9L5680.31,238.17L5687.16,286.11L5707.69,346.87L5714.53,424.06L5769.28,519.6L5776.13,519.6L6097.78,497.31L6104.63,483.03L6132,409.74L6138.84,420.8L6145.69,367.63L6186.75,198.05L6193.59,190.31L6200.44,176.8L6207.28,214.04L6214.13,252.21L6220.97,250.74L6227.81,170.9L6248.34,122.46L6268.88,318.54L6275.72,268.78L6282.56,137.84L6303.09,229.3L6309.94,207.2L6323.63,224.32L6330.47,405.03L6351,394.09L6392.06,511.39L6398.91,513.94L6501.56,519.6L6508.41,519.6L6754.78,497.33L6761.63,482.55L6789,390.07L6795.84,357.85L6802.69,369.93L6809.53,356.37L6816.38,261.44L6823.22,217.32L6836.91,281.36L6850.59,251.5L6857.44,256.11L6864.28,266.67L6871.13,177.78L6891.66,267.99L6898.5,185.87L6905.34,158.53L6912.19,123.36L6919.03,174.04L6939.56,133.56L6946.41,184.16L6960.09,210.36L6966.94,159.7L6973.78,209.39L7021.69,356.98L7028.53,358.59L7083.28,519.6L7090.13,519.6L7411.78,497.3L7418.63,483.75L7493.91,314.24L7500.75,242.46L7569.19,120.71L7576.03,107.44L7637.63,358.05L7644.47,334.28L7651.31,259.72L7733.44,519.6L7740.28,519.6L8075.63,482.81L8082.47,472.51L8137.22,308.33L8144.06,261.78L8164.59,241.75L8178.28,282.93L8185.13,177.77L8198.81,251.54L8226.19,143.46L8233.03,176.75L8246.72,148.57L8280.94,347.54L8287.78,336.63L8301.47,251.46L8308.31,382.63L8315.16,443.64L8328.84,309.99L8349.38,435.42L8356.22,479.88L8410.97,519.6L8417.81,519.6L8534.16,519.6\" style=\"vector-effect: non-scaling-stroke; fill: none; stroke: rgb(144, 238, 144); stroke-opacity: 1; stroke-width: 2px; opacity: 1;\"/></g><g class=\"points\"/><g class=\"text\"/></g></g></g><g class=\"overplot\"/><path class=\"xlines-above crisp\" d=\"M105,665.44H1420\" style=\"fill: none; stroke-width: 1px; stroke: rgb(0, 0, 0); stroke-opacity: 1;\"/><path class=\"ylines-above crisp\" d=\"M105.5,101V664.94\" style=\"fill: none; stroke-width: 1px; stroke: rgb(0, 0, 0); stroke-opacity: 1;\"/><g class=\"overlines-above\"/><g class=\"xaxislayer-above\"><g class=\"xtick\"><text text-anchor=\"middle\" x=\"0\" y=\"699.5400000000001\" transform=\"translate(106,0)\" style=\"font-family: 'Fira Sans', Condensed; font-size: 28px; fill: rgb(0, 0, 0); fill-opacity: 1; white-space: pre; opacity: 1;\"><tspan class=\"line\" dy=\"0em\" x=\"0\" y=\"699.5400000000001\">00:00</tspan><tspan class=\"line\" dy=\"1.3em\" x=\"0\" y=\"699.5400000000001\">Jul 17, 2016</tspan></text></g><g class=\"xtick\"><text text-anchor=\"middle\" x=\"0\" y=\"699.5400000000001\" style=\"font-family: 'Fira Sans', Condensed; font-size: 28px; fill: rgb(0, 0, 0); fill-opacity: 1; white-space: pre; opacity: 1;\" transform=\"translate(270.25,0)\">06:00</text></g><g class=\"xtick\"><text text-anchor=\"middle\" x=\"0\" y=\"699.5400000000001\" style=\"font-family: 'Fira Sans', Condensed; font-size: 28px; fill: rgb(0, 0, 0); fill-opacity: 1; white-space: pre; opacity: 1;\" transform=\"translate(434.5,0)\">12:00</text></g><g class=\"xtick\"><text text-anchor=\"middle\" x=\"0\" y=\"699.5400000000001\" style=\"font-family: 'Fira Sans', Condensed; font-size: 28px; fill: rgb(0, 0, 0); fill-opacity: 1; white-space: pre; opacity: 1;\" transform=\"translate(598.75,0)\">18:00</text></g><g class=\"xtick\"><text text-anchor=\"middle\" x=\"0\" y=\"699.5400000000001\" style=\"font-family: 'Fira Sans', Condensed; font-size: 28px; fill: rgb(0, 0, 0); fill-opacity: 1; white-space: pre; opacity: 1;\" transform=\"translate(763,0)\"><tspan class=\"line\" dy=\"0em\" x=\"0\" y=\"699.5400000000001\">00:00</tspan><tspan class=\"line\" dy=\"1.3em\" x=\"0\" y=\"699.5400000000001\">Jul 18, 2016</tspan></text></g><g class=\"xtick\"><text text-anchor=\"middle\" x=\"0\" y=\"699.5400000000001\" style=\"font-family: 'Fira Sans', Condensed; font-size: 28px; fill: rgb(0, 0, 0); fill-opacity: 1; white-space: pre; opacity: 1;\" transform=\"translate(927.25,0)\">06:00</text></g><g class=\"xtick\"><text text-anchor=\"middle\" x=\"0\" y=\"699.5400000000001\" style=\"font-family: 'Fira Sans', Condensed; font-size: 28px; fill: rgb(0, 0, 0); fill-opacity: 1; white-space: pre; opacity: 1;\" transform=\"translate(1091.5,0)\">12:00</text></g><g class=\"xtick\"><text text-anchor=\"middle\" x=\"0\" y=\"699.5400000000001\" style=\"font-family: 'Fira Sans', Condensed; font-size: 28px; fill: rgb(0, 0, 0); fill-opacity: 1; white-space: pre; opacity: 1;\" transform=\"translate(1255.75,0)\">18:00</text></g><g class=\"xtick\"><text text-anchor=\"middle\" x=\"0\" y=\"699.5400000000001\" style=\"font-family: 'Fira Sans', Condensed; font-size: 28px; fill: rgb(0, 0, 0); fill-opacity: 1; white-space: pre; opacity: 1;\" transform=\"translate(1420,0)\"><tspan class=\"line\" dy=\"0em\" x=\"0\" y=\"699.5400000000001\">00:00</tspan><tspan class=\"line\" dy=\"1.3em\" x=\"0\" y=\"699.5400000000001\">Jul 19, 2016</tspan></text></g></g><g class=\"yaxislayer-above\"><g class=\"ytick\"><text text-anchor=\"end\" x=\"99.4\" y=\"9.799999999999999\" transform=\"translate(0,620.64)\" style=\"font-family: 'Fira Sans', Condensed; font-size: 28px; fill: rgb(0, 0, 0); fill-opacity: 1; white-space: pre; opacity: 1;\">0</text></g><g class=\"ytick\"><text text-anchor=\"end\" x=\"99.4\" y=\"9.799999999999999\" style=\"font-family: 'Fira Sans', Condensed; font-size: 28px; fill: rgb(0, 0, 0); fill-opacity: 1; white-space: pre; opacity: 1;\" transform=\"translate(0,542.88)\">0.05</text></g><g class=\"ytick\"><text text-anchor=\"end\" x=\"99.4\" y=\"9.799999999999999\" style=\"font-family: 'Fira Sans', Condensed; font-size: 28px; fill: rgb(0, 0, 0); fill-opacity: 1; white-space: pre; opacity: 1;\" transform=\"translate(0,465.12)\">0.1</text></g><g class=\"ytick\"><text text-anchor=\"end\" x=\"99.4\" y=\"9.799999999999999\" style=\"font-family: 'Fira Sans', Condensed; font-size: 28px; fill: rgb(0, 0, 0); fill-opacity: 1; white-space: pre; opacity: 1;\" transform=\"translate(0,387.36)\">0.15</text></g><g class=\"ytick\"><text text-anchor=\"end\" x=\"99.4\" y=\"9.799999999999999\" style=\"font-family: 'Fira Sans', Condensed; font-size: 28px; fill: rgb(0, 0, 0); fill-opacity: 1; white-space: pre; opacity: 1;\" transform=\"translate(0,309.6)\">0.2</text></g><g class=\"ytick\"><text text-anchor=\"end\" x=\"99.4\" y=\"9.799999999999999\" style=\"font-family: 'Fira Sans', Condensed; font-size: 28px; fill: rgb(0, 0, 0); fill-opacity: 1; white-space: pre; opacity: 1;\" transform=\"translate(0,231.84)\">0.25</text></g><g class=\"ytick\"><text text-anchor=\"end\" x=\"99.4\" y=\"9.799999999999999\" style=\"font-family: 'Fira Sans', Condensed; font-size: 28px; fill: rgb(0, 0, 0); fill-opacity: 1; white-space: pre; opacity: 1;\" transform=\"translate(0,154.07999999999998)\">0.3</text></g></g><g class=\"overaxes-above\"/></g><g class=\"subplot x2y2\"><g class=\"layer-subplot\"><g class=\"shapelayer\"/><g class=\"imagelayer\"/></g><g class=\"minor-gridlayer\"><g class=\"x2\"/><g class=\"y2\"/></g><g class=\"gridlayer\"><g class=\"x2\"><path class=\"x2grid crisp\" transform=\"translate(270.25,0)\" d=\"M0,903.53v563.94\" style=\"stroke: rgb(211, 211, 211); stroke-opacity: 1; stroke-width: 1px;\"/><path class=\"x2grid crisp\" transform=\"translate(434.5,0)\" d=\"M0,903.53v563.94\" style=\"stroke: rgb(211, 211, 211); stroke-opacity: 1; stroke-width: 1px;\"/><path class=\"x2grid crisp\" transform=\"translate(598.75,0)\" d=\"M0,903.53v563.94\" style=\"stroke: rgb(211, 211, 211); stroke-opacity: 1; stroke-width: 1px;\"/><path class=\"x2grid crisp\" transform=\"translate(763,0)\" d=\"M0,903.53v563.94\" style=\"stroke: rgb(211, 211, 211); stroke-opacity: 1; stroke-width: 1px;\"/><path class=\"x2grid crisp\" transform=\"translate(927.25,0)\" d=\"M0,903.53v563.94\" style=\"stroke: rgb(211, 211, 211); stroke-opacity: 1; stroke-width: 1px;\"/><path class=\"x2grid crisp\" transform=\"translate(1091.5,0)\" d=\"M0,903.53v563.94\" style=\"stroke: rgb(211, 211, 211); stroke-opacity: 1; stroke-width: 1px;\"/><path class=\"x2grid crisp\" transform=\"translate(1255.75,0)\" d=\"M0,903.53v563.94\" style=\"stroke: rgb(211, 211, 211); stroke-opacity: 1; stroke-width: 1px;\"/></g><g class=\"y2\"><path class=\"y2grid crisp\" transform=\"translate(0,1341.97)\" d=\"M106,0h1314\" style=\"stroke: rgb(211, 211, 211); stroke-opacity: 1; stroke-width: 1px;\"/><path class=\"y2grid crisp\" transform=\"translate(0,1264.86)\" d=\"M106,0h1314\" style=\"stroke: rgb(211, 211, 211); stroke-opacity: 1; stroke-width: 1px;\"/><path class=\"y2grid crisp\" transform=\"translate(0,1187.74)\" d=\"M106,0h1314\" style=\"stroke: rgb(211, 211, 211); stroke-opacity: 1; stroke-width: 1px;\"/><path class=\"y2grid crisp\" transform=\"translate(0,1110.6299999999999)\" d=\"M106,0h1314\" style=\"stroke: rgb(211, 211, 211); stroke-opacity: 1; stroke-width: 1px;\"/><path class=\"y2grid crisp\" transform=\"translate(0,1033.52)\" d=\"M106,0h1314\" style=\"stroke: rgb(211, 211, 211); stroke-opacity: 1; stroke-width: 1px;\"/><path class=\"y2grid crisp\" transform=\"translate(0,956.4)\" d=\"M106,0h1314\" style=\"stroke: rgb(211, 211, 211); stroke-opacity: 1; stroke-width: 1px;\"/></g></g><g class=\"zerolinelayer\"><path class=\"y2zl zl crisp\" transform=\"translate(0,1419.08)\" d=\"M106,0h1314\" style=\"stroke: rgb(255, 255, 255); stroke-opacity: 1; stroke-width: 2px;\"/></g><path class=\"xlines-below\"/><path class=\"ylines-below\"/><g class=\"overlines-below\"/><g class=\"xaxislayer-below\"/><g class=\"yaxislayer-below\"/><g class=\"overaxes-below\"/><g class=\"plot\" transform=\"translate(106,903.53)\" clip-path=\"url(#clip487ab8x2y2plot)\"><g class=\"scatterlayer mlayer\"><g class=\"trace scatter trace91a71f\" style=\"stroke-miterlimit: 2; opacity: 1;\"><g class=\"fills\"/><g class=\"errorbars\"/><g class=\"lines\"><path class=\"js-line\" d=\"M-1444.03,515.55L-1142.91,510.93L-1136.06,500.13L-1122.37,470.83L-1115.53,430.73L-1108.69,409.14L-1101.84,429.19L-1095,423.02L-1088.16,404.51L-1074.47,362.87L-1067.62,387.54L-1060.78,276.5L-1053.94,313.52L-1047.09,398.34L-1040.25,335.11L-1033.41,287.3L-1026.56,313.52L-1019.72,319.69L-1012.87,304.26L-1006.03,325.85L-999.19,301.18L-992.34,281.13L-985.5,216.35L-978.66,167L-971.81,173.17L-964.97,156.21L-958.12,77.55L-951.28,54.42L-944.44,137.7L-930.75,278.04L-923.91,285.76L-910.22,390.63L-903.37,399.88L-889.69,449.24L-882.84,452.32L-862.31,450.78L-855.47,460.03L-834.94,493.96L-828.09,500.13L-814.41,515.55L-807.56,515.55L-492.75,514.01L-485.91,506.3L-465.37,483.17L-458.53,481.62L-444.84,453.86L-438,412.22L-417.47,293.47L-410.62,270.33L-403.78,273.42L-396.94,227.15L-383.25,174.71L-376.41,242.57L-369.56,234.86L-362.72,268.79L-355.87,205.56L-349.03,322.77L-342.19,328.94L-335.34,328.94L-328.5,359.78L-321.66,239.49L-314.81,216.35L-307.97,247.2L-301.12,100.68L-294.28,123.82L-287.44,123.82L-280.59,133.07L-273.75,126.9L-266.91,268.79L-260.06,191.68L-253.22,180.88L-239.53,207.1L-232.69,205.56L-225.84,441.52L-219,384.46L-212.16,355.16L-205.31,404.51L-198.47,463.12L-191.62,464.66L-184.78,450.78L-177.94,475.45L-171.09,506.3L-164.25,515.55L164.25,515.55L171.09,512.47L177.94,507.84L184.78,498.59L191.63,484.71L198.47,463.12L205.31,456.95L212.16,460.03L219,466.2L225.84,453.86L232.69,450.78L239.53,429.19L246.38,393.71L253.22,389.09L260.06,376.75L266.91,305.8L273.75,322.77L280.59,278.04L287.44,156.21L294.28,140.78L301.13,268.79L307.97,230.23L314.81,287.3L321.66,251.83L328.5,233.32L335.34,265.71L342.19,250.28L349.03,237.95L355.88,241.03L362.72,133.07L369.56,284.21L376.41,251.83L383.25,227.15L390.09,225.61L396.94,214.81L403.78,302.72L410.63,241.03L417.47,220.98L424.31,284.21L431.16,284.21L438,288.84L444.84,313.52L451.69,361.33L458.53,367.5L465.38,421.47L472.22,416.85L479.06,458.49L485.91,484.71L492.75,507.84L499.59,515.55L834.94,515.55L841.78,503.21L848.63,504.76L855.47,495.5L862.31,498.59L869.16,486.25L876,466.2L882.84,458.49L896.53,315.06L903.38,355.16L910.22,370.58L917.06,345.9L923.91,213.27L930.75,103.77L937.59,128.44L944.44,109.94L951.28,105.31L958.13,129.99L964.97,122.28L971.81,299.64L978.66,290.38L985.5,259.54L992.34,259.54L999.19,234.86L1012.88,369.04L1019.72,365.95L1026.56,359.78L1033.41,348.99L1040.25,304.26L1047.09,311.97L1053.94,348.99L1060.78,251.83L1067.63,214.81L1074.47,342.82L1081.31,247.2L1088.16,237.95L1095,327.4L1101.84,304.26L1108.69,322.77L1115.53,352.07L1122.38,412.22L1129.22,463.12L1136.06,470.83L1142.91,493.96L1149.75,512.47L1156.59,515.55L1485.09,515.55L1491.94,507.84L1505.63,493.96L1512.47,490.88L1519.31,480.08L1526.16,464.66L1533,463.12L1539.84,455.4L1553.53,443.07L1560.38,401.43L1567.22,389.09L1574.06,350.53L1580.91,262.62L1587.75,193.22L1594.59,199.39L1601.44,133.07L1608.28,187.05L1615.13,113.02L1621.97,163.92L1628.81,111.48L1635.66,106.85L1642.5,230.23L1649.34,80.63L1656.19,305.8L1663.03,83.72L1669.88,120.73L1676.72,113.02L1683.56,80.63L1690.41,267.25L1697.25,313.52L1704.09,290.38L1710.94,399.88L1717.78,284.21L1724.63,219.44L1731.47,311.97L1738.31,210.18L1745.16,234.86L1752,248.74L1758.84,390.63L1765.69,367.5L1772.53,456.95L1779.38,478.54L1806.75,515.55L1813.59,515.55L2142.09,512.47L2148.94,509.38L2155.78,504.76L2162.63,492.42L2190,463.12L2196.84,441.52L2203.69,432.27L2210.53,396.8L2217.38,295.01L2224.22,341.28L2231.06,384.46L2237.91,338.19L2244.75,220.98L2251.59,370.58L2265.28,205.56L2272.13,217.9L2278.97,327.4L2285.81,248.74L2292.66,244.11L2299.5,321.23L2320.03,125.36L2326.88,176.25L2333.72,247.2L2340.56,151.58L2347.41,119.19L2354.25,126.9L2361.09,308.89L2367.94,165.46L2381.63,393.71L2388.47,345.9L2395.31,415.31L2402.16,271.87L2415.84,497.05L2422.69,489.33L2429.53,483.17L2436.38,497.05L2477.44,515.55L2484.28,515.55L2799.09,510.93L2805.94,501.67L2812.78,493.96L2819.63,470.83L2853.84,393.71L2860.69,399.88L2888.06,254.91L2894.91,247.2L2915.44,321.23L2922.28,291.92L2935.97,136.16L2942.81,271.87L2956.5,74.46L2963.34,97.6L2970.19,102.23L2977.03,173.17L2983.88,99.14L2990.72,139.24L2997.56,79.09L3011.25,369.04L3018.09,296.55L3038.63,362.87L3045.47,316.6L3052.31,254.91L3059.16,327.4L3066,282.67L3072.84,348.99L3079.69,336.65L3086.53,393.71L3093.38,399.88L3100.22,433.81L3127.59,515.55L3134.44,515.55L3462.94,503.21L3469.78,486.25L3504,439.98L3510.84,433.81L3524.53,438.44L3531.38,321.23L3551.91,372.12L3558.75,378.29L3572.44,256.45L3579.28,336.65L3586.13,350.53L3592.97,336.65L3599.81,335.11L3606.66,364.41L3613.5,333.57L3620.34,353.62L3627.19,361.33L3634.03,325.85L3640.88,264.16L3647.72,359.78L3661.41,187.05L3668.25,370.58L3681.94,409.14L3688.78,399.88L3695.63,227.15L3702.47,318.14L3709.31,211.73L3729.84,461.57L3736.69,362.87L3764.06,497.05L3770.91,500.13L3798.28,515.55L3805.13,515.55L4119.94,504.76L4126.78,493.96L4154.16,450.78L4161,478.54L4174.69,335.11L4181.53,261.08L4188.38,291.92L4195.22,204.02L4202.06,211.73L4208.91,332.02L4229.44,134.61L4236.28,254.91L4243.13,245.66L4249.97,265.71L4256.81,308.89L4263.66,322.77L4270.5,288.84L4291.03,83.72L4297.88,76.01L4311.56,143.87L4318.41,268.79L4332.09,423.02L4338.94,392.17L4345.78,358.24L4366.31,219.44L4373.16,254.91L4421.06,486.25L4427.91,504.76L4455.28,515.55L4462.13,515.55L4790.63,503.21L4797.47,493.96L4818,469.28L4824.84,378.29L4845.38,398.34L4852.22,433.81L4859.06,421.47L4865.91,237.95L4872.75,106.85L4879.59,279.59L4886.44,426.1L4913.81,119.19L4920.66,142.32L4927.5,146.95L4934.34,57.5L4941.19,234.86L4948.03,160.83L4954.88,28.2L4961.72,199.39L4968.56,108.39L4975.41,122.28L5002.78,247.2L5009.63,187.05L5023.31,202.47L5030.16,285.76L5050.69,473.91L5057.53,418.39L5064.38,423.02L5091.75,514.01L5098.59,515.55L5440.78,497.05L5447.63,487.79L5475,410.68L5481.84,373.66L5529.75,176.25L5536.59,162.37L5570.81,105.31L5577.66,125.36L5584.5,146.95L5598.19,85.26L5605.03,167L5618.72,123.82L5625.56,160.83L5632.41,239.49L5639.25,133.07L5659.78,171.63L5666.63,173.17L5700.84,290.38L5707.69,381.38L5762.44,515.55L5769.28,515.55L6097.78,492.42L6104.63,481.62L6159.38,307.35L6166.22,279.59L6193.59,180.88L6200.44,237.95L6207.28,288.84L6214.13,278.04L6220.97,177.8L6241.5,94.51L6262.03,356.7L6268.88,293.47L6275.72,80.63L6296.25,248.74L6303.09,200.93L6316.78,160.83L6323.63,424.56L6344.16,401.43L6398.91,514.01L6405.75,515.55L6754.78,490.88L6761.63,478.54L6782.16,415.31L6789,373.66L6795.84,392.17L6802.69,376.75L6809.53,282.67L6816.38,185.51L6830.06,322.77L6836.91,302.72L6843.75,278.04L6857.44,293.47L6864.28,199.39L6877.97,170.09L6884.81,302.72L6891.66,217.9L6898.5,143.87L6905.34,97.6L6912.19,160.83L6919.03,103.77L6925.88,183.97L6932.72,83.72L6939.56,204.02L6960.09,102.23L6966.94,150.04L6980.63,338.19L7008,299.64L7014.84,293.47L7021.69,296.55L7028.53,348.99L7035.38,358.24L7042.22,470.83L7110.66,515.55L7117.5,515.55L7411.78,493.96L7418.63,477L7487.06,352.07L7493.91,245.66L7534.97,177.8L7541.81,191.68L7548.66,194.76L7569.19,82.18L7582.88,196.3L7589.72,213.27L7630.78,372.12L7637.63,358.24L7644.47,227.15L7651.31,219.44L7658.16,285.76L7706.06,493.96L7712.91,504.76L7760.81,515.55L7767.66,515.55L8082.47,477L8089.31,460.03L8130.38,344.36L8137.22,285.76L8157.75,261.08L8171.44,315.06L8178.28,197.85L8191.97,290.38L8219.34,109.94L8226.19,151.58L8260.41,126.9L8274.09,376.75L8280.94,367.5L8308.31,444.61L8315.16,239.49L8322,264.16L8328.84,296.55L8342.53,387.54L8349.38,456.95L8404.13,515.55L8410.97,515.55L8732.63,480.08L8739.47,466.2L8780.53,419.93L8787.38,367.5L8835.28,247.2L8842.13,251.83L8848.97,259.54L8855.81,273.42L8876.34,233.32L8883.19,109.94L8903.72,287.3L8924.25,214.81L8931.09,134.61L8972.16,376.75L8985.84,344.36L8992.69,315.06L9067.97,515.55L9074.81,515.55L9191.16,515.55\" style=\"vector-effect: non-scaling-stroke; fill: none; stroke: rgb(0, 0, 255); stroke-opacity: 1; stroke-width: 2px; opacity: 1;\"/></g><g class=\"points\"/><g class=\"text\"/></g><g class=\"trace scatter trace42bdb6\" style=\"stroke-miterlimit: 2; opacity: 1;\"><g class=\"fills\"/><g class=\"errorbars\"/><g class=\"lines\"><path class=\"js-line\" d=\"M-1444.03,515.6L-1149.75,510.99L-1142.91,503.2L-1129.22,484L-1122.37,467.76L-1108.69,402.7L-1101.84,365.03L-1095,388.77L-1088.16,359.97L-1081.31,347.64L-1074.47,301.16L-1067.62,277.58L-1060.78,302.31L-1047.09,269.2L-1040.25,296.75L-1033.41,280.06L-1026.56,239.35L-1019.72,202.17L-1012.87,249.11L-1006.03,258.44L-999.19,209.62L-992.34,238.22L-985.5,210.1L-971.81,179.39L-964.97,193.47L-958.12,200.83L-951.28,167.56L-944.44,164.93L-937.59,191.95L-930.75,161.97L-923.91,230.03L-917.06,250.55L-910.22,376.03L-903.37,361.93L-896.53,387.19L-889.69,447.42L-882.84,424.03L-869.16,467.13L-862.31,477.81L-848.62,484.82L-841.78,501.08L-828.09,515.02L-821.25,514.68L-780.19,515.56L-773.34,515.56L-513.28,515.09L-506.44,507.67L-499.59,503.85L-492.75,511.05L-479.06,485.54L-472.22,479.8L-465.37,468.99L-458.53,449.58L-451.69,424.1L-444.84,414.29L-431.16,340.09L-424.31,301.67L-410.62,242.94L-403.78,260.23L-396.94,208.71L-390.09,180.42L-383.25,169.48L-376.41,116.39L-369.56,135.89L-362.72,181.65L-355.87,185.8L-349.03,169.11L-342.19,202.85L-335.34,276.91L-321.66,300L-314.81,205.9L-307.97,183.39L-301.12,207.83L-294.28,195.72L-287.44,195.67L-280.59,195.52L-273.75,208.12L-266.91,244.53L-260.06,268.54L-253.22,242.01L-246.37,284.66L-239.53,281.82L-232.69,291.23L-225.84,290.08L-219,377.72L-212.16,365.11L-205.31,436.99L-191.62,489.21L-184.78,503.89L-177.94,499.42L-171.09,502.72L-164.25,515.14L-157.41,515.37L-102.66,515.56L-95.81,515.56L150.56,515.26L157.41,510.34L164.25,505.51L171.09,503.94L177.94,494.41L184.78,491.6L198.47,470.23L205.31,424.1L219,408L225.84,420.78L232.69,400.19L239.53,416.38L246.38,400.2L253.22,348.58L260.06,351.66L266.91,337.75L273.75,259.88L280.59,237.5L287.44,253.21L294.28,196.8L301.13,208.7L307.97,211.59L314.81,161.43L321.66,213.45L328.5,171.16L335.34,206.5L342.19,179.96L349.03,207.06L355.88,241.97L362.72,254.12L369.56,207.21L376.41,228.64L383.25,221.2L390.09,240.97L396.94,256.02L403.78,295.67L410.63,278.54L417.47,338.72L424.31,348.26L431.16,349.43L438,369.39L444.84,369.68L458.53,452.7L465.38,468.85L472.22,474.49L479.06,477.87L485.91,501.33L492.75,511.18L499.59,515.1L506.44,515.51L581.72,515.56L588.56,515.56L698.06,514.82L704.91,515.62L814.41,515.16L821.25,514.67L828.09,510.86L834.94,502.32L841.78,497L848.63,478.66L855.47,480.39L862.31,474.59L869.16,479.11L876,454.78L882.84,422.14L889.69,406.75L896.53,362.96L903.38,287.35L910.22,310.36L917.06,279.59L923.91,245.08L930.75,259.14L937.59,227.1L944.44,151.33L951.28,133.21L958.13,96.57L964.97,80.49L971.81,105.26L978.66,105.04L985.5,221.19L992.34,146.64L999.19,208.06L1006.03,152.22L1012.88,240.85L1019.72,259.85L1026.56,297.87L1033.41,300.94L1040.25,232.87L1047.09,248L1053.94,334.92L1060.78,282.14L1067.63,276.58L1074.47,298.46L1081.31,348.13L1088.16,288.93L1095,324.76L1101.84,370.18L1108.69,390.52L1115.53,371.51L1122.38,414.1L1136.06,495.88L1142.91,497.92L1149.75,514.86L1156.59,515.58L1163.44,515.72L1170.28,516.72L1177.13,515.21L1183.97,516.72L1190.81,515.63L1197.66,515.5L1252.41,515.56L1259.25,515.56L1464.56,515.34L1471.41,515.17L1485.09,514.77L1491.94,510.3L1505.63,482.49L1512.47,482.23L1519.31,454.6L1526.16,436.03L1533,423.12L1539.84,425.42L1546.69,407.68L1553.53,398.6L1567.22,307.74L1574.06,320.37L1587.75,284.6L1594.59,246.07L1601.44,234.39L1608.28,214.44L1615.13,157.19L1621.97,140.68L1628.81,143.42L1635.66,111.29L1642.5,99.48L1649.34,131.96L1663.03,196.34L1669.88,139.95L1676.72,141.13L1683.56,135.08L1690.41,154.67L1697.25,184.2L1704.09,252.26L1710.94,222.79L1717.78,367.97L1724.63,206.31L1731.47,268.22L1738.31,360.61L1745.16,274.86L1752,320.51L1758.84,336.42L1765.69,377.9L1786.22,496.28L1793.06,497.88L1799.91,514.25L1806.75,516.65L1847.81,515.56L1854.66,515.56L1868.34,515.56L1875.19,515.56L2142.09,513.31L2148.94,496.99L2155.78,495.23L2162.63,500.34L2176.31,449.92L2183.16,452.43L2196.84,411.62L2203.69,408.21L2217.38,344.24L2224.22,255.89L2231.06,267.83L2237.91,267.15L2244.75,243.57L2251.59,245.08L2258.44,164.44L2265.28,222.14L2272.13,199.24L2278.97,123.67L2285.81,241.2L2292.66,149L2299.5,174.08L2306.34,242.06L2320.03,182.44L2326.88,163.3L2333.72,170.98L2340.56,147.13L2347.41,175.43L2354.25,161.37L2367.94,264.2L2374.78,226.38L2381.63,272.62L2388.47,365.96L2395.31,369.78L2402.16,393.29L2409,367.03L2415.84,432.26L2422.69,494.03L2429.53,488.32L2436.38,485.48L2443.22,512.03L2477.44,515.54L2484.28,515.6L2799.09,507.87L2805.94,495.32L2826.47,447.08L2833.31,429.98L2881.22,231.62L2888.06,242.97L2894.91,245.56L2901.75,186.07L2908.59,222.22L2915.44,171.76L2922.28,194.06L2929.13,217.76L2935.97,182.74L2942.81,195.98L2949.66,209.75L2963.34,200.19L2970.19,177.83L2977.03,147.13L2983.88,184.4L2990.72,153.12L2997.56,181.77L3004.41,186.07L3011.25,275.78L3018.09,296.79L3024.94,275.98L3045.47,388.69L3052.31,349.6L3066,388.09L3072.84,366.83L3079.69,437.41L3086.53,419.54L3093.38,460.93L3120.75,515.67L3127.59,516.03L3291.84,515.55L3298.69,515.56L3449.25,507.18L3456.09,501.61L3462.94,499.59L3469.78,480.95L3517.69,341.36L3524.53,382.55L3531.38,392.9L3538.22,246.75L3558.75,326.23L3565.59,275.04L3572.44,284.37L3579.28,230.69L3586.13,269.22L3592.97,264.1L3599.81,217.2L3627.19,336.4L3634.03,313.6L3647.72,179.15L3654.56,353.04L3661.41,232.32L3668.25,235.11L3675.09,262.45L3688.78,369.97L3695.63,308.2L3702.47,283.49L3709.31,334.35L3716.16,324.35L3723,367.99L3729.84,326.91L3736.69,483.32L3743.53,434.14L3750.38,459.28L3757.22,497.52L3777.75,515.5L3784.59,515.79L4085.72,515.54L4092.56,515.75L4154.16,434.18L4161,410.39L4167.84,429.05L4174.69,397.76L4188.38,225.81L4195.22,252.63L4202.06,214.32L4208.91,193.75L4215.75,221.83L4222.59,209.11L4236.28,149.71L4243.13,157.94L4249.97,188.77L4256.81,201.02L4263.66,173.96L4270.5,182.01L4277.34,221.83L4304.72,133.6L4311.56,145.5L4325.25,213.3L4332.09,331.49L4345.78,344.79L4359.47,300.12L4366.31,308.67L4441.59,515.58L4448.44,515.59L4770.09,502.56L4776.94,497.28L4783.78,505.58L4790.63,497.46L4797.47,477.91L4824.84,423.72L4831.69,336.22L4838.53,345.92L4845.38,330.21L4852.22,285.94L4859.06,313.17L4865.91,275.44L4872.75,260.7L4879.59,270.1L4886.44,210.49L4893.28,273.4L4900.13,176.76L4906.97,144.65L4927.5,198.39L4934.34,153.99L4948.03,206.77L4954.88,179.91L4961.72,141.26L5009.63,205.68L5016.47,288.06L5023.31,211.62L5030.16,280.55L5037,370.87L5043.84,363.25L5050.69,453.87L5098.59,515.39L5105.44,515.69L5427.09,505.83L5433.94,486.83L5454.47,468.48L5461.31,423.47L5475,386.66L5481.84,347.81L5495.53,245.69L5502.38,255.64L5509.22,305.17L5543.44,121.53L5550.28,162.36L5557.13,160.62L5563.97,91.73L5584.5,76.32L5591.34,117.89L5605.03,106.19L5625.56,176.72L5632.41,162.47L5659.78,275.54L5666.63,238.54L5673.47,255.93L5680.31,251.43L5687.16,371.39L5700.84,344.51L5707.69,378.78L5714.53,445.28L5755.59,516.19L5762.44,515.64L6090.94,496.24L6097.78,485.02L6125.16,416.39L6132,364.97L6138.84,383.49L6145.69,330.2L6152.53,320.97L6166.22,269.97L6173.06,279.09L6179.91,199.83L6207.28,144.58L6214.13,210.33L6220.97,222.64L6234.66,199.08L6241.5,172.48L6255.19,151.28L6262.03,257.45L6275.72,237.98L6282.56,198.1L6303.09,294.44L6316.78,254.07L6323.63,235.07L6364.69,472.27L6371.53,479.3L6385.22,500.82L6392.06,514.92L6754.78,481.95L6761.63,470.64L6823.22,239.62L6830.06,266.86L6836.91,300.21L6864.28,178.02L6871.13,211.81L6877.97,247.34L6912.19,166.36L6919.03,201.42L6925.88,203.74L6932.72,147.08L6939.56,142.04L6946.41,202.83L6980.63,282.32L6987.47,374.79L7042.22,450.9L7049.06,498.2L7090.13,515.54L7096.97,515.59L7404.94,489.29L7411.78,477.53L7452.84,373.91L7459.69,352.95L7466.53,356.02L7473.38,299.45L7480.22,312.73L7493.91,293.94L7500.75,247.58L7514.44,108.93L7541.81,125.16L7548.66,138.21L7582.88,125.48L7589.72,185.13L7630.78,285.93L7637.63,362.71L7644.47,358.48L7651.31,286.33L7706.06,501.83L7712.91,510.79L7781.34,515.56L7788.19,515.56L8068.78,482.83L8075.63,471.87L8185.13,196.47L8191.97,199.87L8198.81,263.72L8219.34,162.86L8233.03,165.28L8239.88,263.4L8246.72,164.03L8274.09,257.05L8280.94,306.12L8294.63,289.82L8315.16,462.79L8335.69,416.53L8342.53,434.72L8397.28,515.85L8404.13,515.96L8534.16,515.55\" style=\"vector-effect: non-scaling-stroke; fill: none; stroke: rgb(255, 215, 0); stroke-opacity: 1; stroke-width: 2px; opacity: 1;\"/></g><g class=\"points\"/><g class=\"text\"/></g><g class=\"trace scatter trace7f30fc\" style=\"stroke-miterlimit: 2; opacity: 1;\"><g class=\"fills\"/><g class=\"errorbars\"/><g class=\"lines\"><path class=\"js-line\" d=\"M-1444.03,526.18L-1430.34,521.87L-1423.5,519.95L-1409.81,525.85L-1402.97,517.39L-1355.06,522.16L-1348.22,521.59L-1327.69,522.92L-1320.84,523.09L-1266.09,521.06L-1259.25,521.17L-1183.97,524.89L-1177.12,522.53L-1136.06,491.14L-1129.22,480L-1115.53,449.78L-1108.69,408.47L-1101.84,371.7L-1095,383.87L-1074.47,328.46L-1067.62,300.03L-1060.78,312.28L-1053.94,239.65L-1040.25,322.68L-1033.41,281.15L-1026.56,247.04L-1019.72,279.15L-1012.87,273.01L-1006.03,250.02L-999.19,287.13L-992.34,285L-971.81,221.02L-964.97,217.5L-958.12,208.2L-951.28,153.23L-944.44,143.21L-937.59,186.7L-923.91,301.65L-917.06,297.39L-903.37,412.55L-896.53,424.81L-889.69,472.28L-882.84,474.33L-855.47,488.94L-848.62,501.09L-834.94,517.15L-828.09,517.9L-807.56,525.91L-800.72,521.35L-745.97,520.99L-739.12,521.63L-691.22,520.13L-684.37,519.64L-650.16,519.48L-643.31,520.22L-609.09,522.13L-602.25,521.16L-520.12,513.37L-513.28,509.5L-506.44,503.12L-499.59,502.39L-485.91,496.07L-479.06,486.18L-465.37,469.84L-458.53,452.35L-451.69,439.41L-444.84,434.6L-438,418.51L-431.16,378.47L-424.31,349.27L-417.47,305.67L-410.62,262.71L-403.78,227.59L-396.94,219.44L-390.09,187.12L-376.41,140.2L-369.56,167.06L-362.72,167.75L-355.87,183.81L-349.03,159.98L-342.19,231.78L-328.5,273.84L-321.66,311.8L-314.81,247.35L-307.97,232.27L-301.12,258.03L-294.28,194.4L-287.44,206.13L-280.59,195.85L-273.75,204.12L-266.91,196.16L-260.06,286.56L-253.22,265.62L-246.37,262.96L-239.53,283.14L-232.69,304.75L-225.84,306.59L-219,445.96L-212.16,443.28L-205.31,435.99L-198.47,462.57L-191.62,499.97L-184.78,504.71L-177.94,497.67L-171.09,511.49L-164.25,518.74L-157.41,518.93L-150.56,524.42L-143.72,526.49L-130.03,522.35L-123.19,521.46L-109.5,518.25L-102.66,516.94L-88.97,511.59L-82.12,512.8L-75.28,511.69L-68.44,513.08L-54.75,512.4L-47.91,513.72L-34.22,515.16L-27.37,515.16L0,514.35L6.84,515.11L68.44,518.9L75.28,518.32L95.81,518.67L102.66,519.02L109.5,519.26L116.34,517.66L123.19,517.42L130.03,515.98L143.72,511.78L150.56,510.91L164.25,498.42L171.09,494.02L177.94,492.23L184.78,481.54L191.63,472.07L198.47,458.3L205.31,433.25L212.16,414.77L219,404.82L225.84,404.64L232.69,392.43L239.53,389.24L246.38,382.91L253.22,365.59L260.06,352.25L266.91,332.67L273.75,291.15L280.59,287.92L287.44,243L294.28,174.85L301.13,162.45L307.97,195.94L314.81,177.11L321.66,205.24L328.5,204.88L335.34,200.13L342.19,212.47L349.03,222.69L355.88,214.92L362.72,198.22L369.56,157.12L376.41,270.24L383.25,262.93L390.09,245.29L396.94,242.44L403.78,249.77L410.63,328.73L417.47,304.66L424.31,305.81L431.16,339.41L438,353.11L444.84,358.43L451.69,373.22L458.53,421.94L465.38,441.02L472.22,476.86L479.06,486.38L485.91,503.64L492.75,517.41L499.59,533.37L513.28,531.21L520.13,526.04L526.97,529.23L533.81,534.45L540.66,531.01L547.5,533.1L554.34,530.59L561.19,529.97L568.03,530.42L574.88,528.86L588.56,527.52L595.41,526.07L609.09,526.66L615.94,526.43L650.16,528.47L657,528.44L677.53,530.34L684.38,530.55L704.91,530.46L711.75,530.15L718.59,531.47L725.44,531.9L739.13,533.99L745.97,534.03L752.81,533.47L759.66,533.72L766.5,533.98L773.34,535.74L787.03,535.39L793.88,532.07L800.72,527.35L807.56,525.9L814.41,522.96L821.25,521.15L828.09,519.6L834.94,514.27L841.78,508.38L848.63,496.87L862.31,481.66L869.16,474.69L876,461.44L882.84,443.85L889.69,427L896.53,363.9L903.38,293.36L910.22,301.82L917.06,302.52L923.91,291.58L930.75,200.37L937.59,133.57L944.44,134.78L951.28,108.15L958.13,87.3L964.97,85.83L971.81,85.5L978.66,165.43L985.5,182.09L992.34,184.3L999.19,197.55L1006.03,188.73L1012.88,235.15L1019.72,305L1026.56,336.71L1033.41,350.82L1040.25,343.37L1047.09,319.09L1053.94,330.66L1060.78,370.35L1067.63,341.23L1074.47,323.22L1081.31,391.15L1088.16,351.06L1095,348.52L1101.84,397.13L1108.69,402.46L1115.53,412.64L1122.38,425.16L1129.22,462.05L1136.06,488.11L1142.91,496.06L1149.75,505.35L1156.59,504.79L1163.44,505.08L1170.28,511.74L1177.13,512.31L1183.97,508.75L1190.81,507.98L1197.66,510.55L1204.5,511.48L1211.34,510.22L1218.19,510.27L1225.03,507.15L1238.72,505.77L1245.56,503.93L1252.41,504.66L1259.25,503.71L1266.09,503.6L1272.94,504.78L1307.16,509.1L1314,508.93L1327.69,511.43L1334.53,511.14L1361.91,509.42L1368.75,510.16L1389.28,513.73L1396.13,512.91L1409.81,512.85L1416.66,514.91L1437.19,520.93L1444.03,521.11L1450.88,516.78L1457.72,509.15L1478.25,499.73L1485.09,494.26L1491.94,491.11L1498.78,476.72L1505.63,459.35L1512.47,453.65L1519.31,454.37L1526.16,441.52L1533,416.41L1539.84,404.63L1546.69,397.34L1553.53,383.96L1560.38,371.51L1567.22,347.41L1574.06,347.12L1580.91,334.98L1587.75,276.81L1594.59,225.85L1601.44,215.64L1608.28,153.95L1615.13,159.35L1621.97,132.76L1628.81,133.34L1635.66,93.21L1642.5,97.92L1649.34,144.15L1656.19,92.38L1663.03,194.78L1669.88,119.83L1676.72,140.46L1683.56,122.98L1690.41,122.07L1697.25,210.07L1704.09,253.51L1710.94,257.66L1717.78,353.75L1724.63,318.09L1731.47,289.02L1738.31,352.61L1745.16,305.84L1752,318.58L1758.84,319.59L1765.69,410.08L1772.53,414.8L1786.22,491.95L1793.06,493.28L1799.91,502.29L1806.75,498.2L1813.59,506.44L1820.44,505.47L1827.28,506.09L1834.13,513.2L1847.81,508.03L1854.66,512.61L1861.5,507.26L1868.34,507.3L1888.88,508.93L1895.72,507.45L2053.13,511.83L2059.97,513.5L2080.5,516.26L2087.34,518.38L2114.72,510.09L2121.56,506.05L2135.25,503.9L2142.09,497.3L2148.94,498.77L2155.78,490.55L2162.63,484.53L2169.47,467.77L2196.84,430.68L2203.69,409.27L2210.53,396.29L2217.38,363.5L2224.22,287.51L2231.06,297.32L2237.91,312.72L2244.75,281.48L2251.59,225.81L2258.44,296.39L2272.13,207.68L2278.97,212.19L2285.81,273.7L2292.66,199.23L2299.5,213.82L2306.34,285.88L2326.88,160.92L2333.72,184.82L2340.56,232.83L2347.41,190.01L2354.25,176.84L2361.09,188.78L2367.94,308.78L2374.78,219.01L2388.47,405.31L2395.31,394.33L2402.16,430.5L2409,359.55L2422.69,499.76L2429.53,506.01L2443.22,498.49L2450.06,505.82L2463.75,518.09L2470.59,518.48L2532.19,516.96L2539.03,520.46L2559.56,518.06L2566.41,517.57L2593.78,517.92L2600.63,517.58L2669.06,520.08L2675.91,518.58L2771.72,511.49L2778.56,509.1L2805.94,498.73L2812.78,487.9L2833.31,441.26L2840.16,410.09L2853.84,359.89L2860.69,351.79L2867.53,342.86L2874.38,303.35L2881.22,293.38L2888.06,237.85L2901.75,199.8L2908.59,211.8L2915.44,194.81L2922.28,220.25L2929.13,225.57L2935.97,204.06L2942.81,157.99L2949.66,222.38L2963.34,138.64L2970.19,142.38L2977.03,155.91L2983.88,185.87L2990.72,140.12L2997.56,151.17L3004.41,135.36L3018.09,350.73L3024.94,341.53L3031.78,369.86L3045.47,409.53L3052.31,370.8L3059.16,349.31L3066,391.19L3072.84,383.52L3079.69,433.18L3086.53,438.71L3093.38,473.36L3120.75,522.72L3127.59,525.16L3148.13,529.28L3154.97,526.74L3209.72,518.07L3216.56,519.19L3435.56,519.07L3442.41,515.55L3456.09,511.9L3462.94,503.88L3504,412.36L3510.84,389.86L3524.53,378.64L3531.38,386.4L3551.91,288.76L3558.75,307.89L3572.44,274.59L3579.28,240.03L3592.97,311.82L3599.81,292.35L3606.66,297.04L3627.19,336.84L3634.03,359.73L3647.72,281.05L3654.56,368.39L3668.25,241.52L3675.09,383.97L3688.78,416.83L3695.63,397.16L3702.47,298.15L3716.16,306.27L3723,405.31L3729.84,353.9L3736.69,473.78L3743.53,435.54L3750.38,465.68L3757.22,508.32L3784.59,524.85L3791.44,527.6L3825.66,529.27L3832.5,527.74L3873.56,526.32L3880.41,525.74L3955.69,527.25L3962.53,527.98L4106.25,506.76L4113.09,499.67L4154.16,426.42L4161,410.41L4167.84,421.37L4174.69,400.54L4181.53,316L4208.91,182.67L4215.75,228.47L4236.28,129.55L4243.13,181.99L4249.97,164.87L4256.81,200.63L4277.34,262.92L4284.19,184.3L4304.72,130.18L4311.56,158.4L4345.78,386.45L4352.63,385.42L4373.16,312.92L4380,342.42L4427.91,499.45L4434.75,502.57L4468.97,515.84L4475.81,511.83L4770.09,498.47L4776.94,494.42L4831.69,375.44L4838.53,356.25L4859.06,337.22L4865.91,351.02L4879.59,161.5L4886.44,220.21L4893.28,297.64L4920.66,170.13L4927.5,172.72L4934.34,179.15L4961.72,132.4L4968.56,198.77L4982.25,160.39L4989.09,168.74L4995.94,210.34L5009.63,277.35L5023.31,258.93L5030.16,257.08L5057.53,471.51L5064.38,448.77L5071.22,466.01L5084.91,514.39L5098.59,504.05L5105.44,513.69L5146.5,509.32L5153.34,508.33L5214.94,508.7L5221.78,508.43L5440.78,491.71L5447.63,482.48L5481.84,371.09L5488.69,344.32L5543.44,127.89L5550.28,113.15L5563.97,80.47L5577.66,93.91L5584.5,100.97L5632.41,161.19L5639.25,225.4L5646.09,188.66L5659.78,212.3L5666.63,230.7L5700.84,360.47L5707.69,387.24L5748.75,522.68L5755.59,524.38L5926.69,516.1L5933.53,516.43L6090.94,500.02L6097.78,492.7L6132,381.15L6138.84,363.35L6200.44,147.52L6207.28,168.14L6227.81,150.09L6234.66,191.7L6241.5,153.2L6248.34,121.96L6255.19,167.1L6262.03,226.64L6268.88,265.97L6275.72,254.97L6282.56,166.37L6289.41,279.45L6309.94,242.74L6316.78,243.52L6323.63,249.62L6330.47,409.95L6378.38,485.36L6385.22,504.44L6426.28,518.52L6433.13,513.6L6515.25,515.76L6522.09,516.3L6727.41,509.23L6734.25,502.76L6754.78,479.18L6761.63,461.69L6789,380.41L6795.84,331.16L6802.69,338.06L6809.53,327.98L6816.38,259.32L6823.22,199.16L6850.59,211.54L6857.44,213.77L6864.28,218.26L6871.13,178.67L6877.97,220.45L6884.81,149.72L6905.34,190.7L6912.19,162.39L6960.09,237.26L6966.94,194.93L7055.91,517.94L7062.75,527.71L7110.66,524.6L7117.5,523.21L7233.84,519.34L7240.69,519.82L7398.09,506.68L7404.94,498.94L7439.16,412L7446,385.31L7500.75,227.66L7507.59,192.51L7541.81,130.88L7548.66,147.93L7555.5,159.82L7576.03,105.45L7589.72,166L7596.56,183.09L7644.47,388.46L7651.31,297L7658.16,293.14L7719.75,523.04L7726.59,523.32L8055.09,517.18L8061.94,505.84L8137.22,293.44L8144.06,244.13L8178.28,247.45L8185.13,181.36L8198.81,223.3L8226.19,142.95L8233.03,151.87L8287.78,389.12L8294.63,301.42L8301.47,311.53L8308.31,428.52L8322,345.87L8363.06,514.58L8369.91,510.25L8438.34,518.02L8445.19,515.98L8534.16,517.87\" style=\"vector-effect: non-scaling-stroke; fill: none; stroke: rgb(255, 0, 255); stroke-opacity: 1; stroke-width: 2px; opacity: 1;\"/></g><g class=\"points\"/><g class=\"text\"/></g><g class=\"trace scatter traceb3625f\" style=\"stroke-miterlimit: 2; opacity: 1;\"><g class=\"fills\"/><g class=\"errorbars\"/><g class=\"lines\"><path class=\"js-line\" d=\"M-1444.03,515.51L-1142.91,508.71L-1136.06,500.66L-1115.53,443.29L-1108.69,389.63L-1101.84,361.2L-1095,388.12L-1074.47,320.27L-1067.62,283.61L-1060.78,323.44L-1053.94,241.85L-1047.09,259.71L-1040.25,323.76L-1026.56,226.65L-1019.72,255.95L-1012.87,260.11L-1006.03,256.27L-999.19,279.01L-992.34,258.36L-978.66,181.24L-971.81,180.83L-958.12,179.61L-951.28,151.65L-944.44,152.4L-937.59,186.48L-923.91,235.78L-917.06,279.8L-896.53,378L-889.69,407.83L-882.84,451.77L-876,457.88L-855.47,465.49L-848.62,479.13L-834.94,510.32L-828.09,512.63L-807.56,515.51L-800.72,515.51L-499.59,515.31L-492.75,511.01L-465.37,468.67L-458.53,461.98L-451.69,454.83L-444.84,436.15L-438,413.61L-431.16,367.57L-417.47,259.19L-410.62,245.18L-403.78,239.71L-396.94,238.68L-390.09,198.92L-383.25,178.45L-376.41,175.37L-369.56,180.24L-362.72,182.17L-355.87,199.35L-349.03,171.27L-342.19,224.3L-335.34,264.53L-328.5,276.76L-321.66,282.49L-314.81,194.46L-307.97,182.51L-301.12,181.56L-294.28,178.51L-287.44,182.08L-280.59,191.31L-273.75,192.72L-266.91,207.87L-260.06,240.69L-246.37,244.53L-239.53,258.01L-232.69,284.45L-225.84,293.95L-219,449.39L-212.16,404.85L-184.78,493.32L-177.94,496.41L-164.25,515.48L-157.41,515.51L150.56,515.48L157.41,514.26L177.94,493.11L184.78,492.12L198.47,465.72L205.31,422.86L212.16,417.79L219,417.61L225.84,420.58L232.69,413.39L239.53,413.39L246.38,388.07L253.22,326.48L260.06,325.57L266.91,312.45L273.75,258.32L280.59,258.27L287.44,240.21L294.28,185.02L301.13,175.91L307.97,178.69L314.81,184.37L321.66,221.58L328.5,185.42L335.34,188.59L342.19,204.1L349.03,191.29L355.88,187.6L362.72,188.33L369.56,179.75L376.41,225.07L383.25,202.48L390.09,199.86L396.94,220.58L403.78,252.09L410.63,308.92L417.47,269.23L424.31,282.9L431.16,340.93L438,354.47L444.84,371.15L451.69,380.74L458.53,414.6L465.38,441.28L472.22,476.9L479.06,478.04L485.91,497.81L492.75,512.57L499.59,515.51L506.44,515.51L814.41,515.45L821.25,511.96L828.09,505.85L834.94,500.76L841.78,500.05L848.63,479.04L855.47,478.85L862.31,469.22L869.16,477.89L876,462.13L882.84,421.92L889.69,418.14L896.53,325.53L903.38,257.97L910.22,283.49L917.06,311.94L923.91,280.36L930.75,205.09L937.59,201.03L944.44,148.87L951.28,129.65L958.13,129.07L971.81,124.6L978.66,220.43L985.5,223.56L992.34,188.04L999.19,202.99L1006.03,193L1012.88,257.65L1019.72,283.54L1026.56,285.34L1033.41,289.59L1040.25,288.67L1047.09,273.05L1053.94,280.28L1060.78,293.03L1067.63,247.48L1074.47,253.16L1081.31,331.3L1088.16,304.96L1095,321.62L1101.84,354.85L1108.69,379.53L1115.53,398.61L1122.38,425.09L1129.22,460.87L1136.06,490.13L1142.91,499L1149.75,512.45L1156.59,515.38L1197.66,515.51L1204.5,515.51L1485.09,514.48L1491.94,507.33L1512.47,469.73L1519.31,466.73L1526.16,455.7L1533,422.03L1539.84,417.89L1546.69,417.34L1553.53,413.46L1560.38,397.08L1567.22,326.01L1574.06,325.4L1587.75,238.52L1594.59,200.15L1601.44,185.41L1608.28,180.2L1615.13,173.88L1621.97,145.97L1628.81,169.78L1635.66,131.42L1642.5,123.95L1649.34,171.85L1656.19,135.7L1663.03,220.64L1669.88,146.26L1676.72,151.32L1683.56,131.53L1690.41,133.2L1697.25,193.69L1704.09,269.85L1710.94,246.35L1717.78,331.1L1724.63,289.75L1731.47,254.78L1738.31,333.3L1745.16,278.2L1752,323.54L1758.84,331.68L1765.69,401.35L1772.53,406.2L1779.38,472.32L1786.22,493.3L1806.75,515.34L1813.59,515.51L2135.25,514.95L2142.09,508.72L2183.16,455.14L2190,436.87L2210.53,387.51L2217.38,326.15L2224.22,244.98L2231.06,280.09L2237.91,311.22L2244.75,279.4L2251.59,186.1L2258.44,296.16L2278.97,174.7L2285.81,266.34L2299.5,174.92L2306.34,256.81L2320.03,177.59L2326.88,146.83L2340.56,182.71L2347.41,181.77L2354.25,181.47L2361.09,206.48L2367.94,277.06L2374.78,242.72L2381.63,254.75L2388.47,332.3L2395.31,347.36L2402.16,379.69L2409,346.03L2415.84,390.45L2429.53,491.6L2436.38,493.91L2450.06,510.76L2456.91,515.33L2785.41,515.34L2792.25,512.22L2805.94,501.07L2812.78,482.29L2826.47,445.6L2833.31,423.68L2853.84,358.09L2860.69,354.44L2894.91,233.93L2901.75,224.58L2915.44,219.77L2922.28,250.98L2942.81,178.81L2949.66,200.58L2970.19,132.14L2977.03,129.26L2983.88,175.28L2990.72,150.46L2997.56,194.05L3004.41,161.21L3018.09,310.36L3024.94,288.15L3031.78,311.35L3038.63,321.81L3045.47,353.25L3052.31,370.34L3059.16,350.32L3079.69,437.1L3086.53,438.37L3100.22,478.25L3107.06,490.48L3134.44,515.51L3141.28,515.51L3456.09,504.45L3462.94,497.88L3510.84,389.69L3517.69,388.37L3531.38,389.62L3538.22,257.45L3558.75,311.28L3565.59,302.33L3579.28,226.06L3586.13,276.46L3620.34,279.47L3627.19,282.02L3640.88,280.08L3647.72,208.16L3654.56,287.85L3661.41,188.68L3668.25,197.14L3675.09,290.55L3695.63,362.07L3702.47,273.53L3723,363.77L3729.84,369.68L3750.38,472.05L3757.22,496.69L3784.59,515.51L3791.44,515.51L4113.09,506.64L4119.94,493.31L4161,414.73L4167.84,443.42L4208.91,193.75L4215.75,257.67L4236.28,157.54L4243.13,184.97L4256.81,190.98L4263.66,256.26L4270.5,256.94L4277.34,228.14L4304.72,125.34L4311.56,137.2L4338.94,358.47L4345.78,334.36L4352.63,309.03L4359.47,265.88L4373.16,293.6L4380,331.62L4421.06,496.25L4427.91,510.62L4462.13,515.51L4468.97,515.51L4790.63,498.05L4797.47,478.77L4824.84,435.43L4831.69,321.42L4838.53,312.85L4852.22,325.19L4859.06,387.55L4865.91,366.58L4872.75,238.7L4879.59,199.45L4886.44,233.22L4893.28,364.99L4920.66,156.44L4927.5,175.47L4934.34,169.11L4941.19,130.26L4968.56,174L4975.41,150.74L5043.84,382.62L5050.69,456.88L5084.91,512.9L5091.75,515.36L5440.78,493.1L5447.63,475.03L5475,414.65L5481.84,360.07L5529.75,177.52L5536.59,174.63L5584.5,124.17L5591.34,135.8L5605.03,122.53L5611.88,173.2L5618.72,148.6L5632.41,186.16L5639.25,201.73L5652.94,216.35L5659.78,248.56L5673.47,275.67L5680.31,283.36L5735.06,499.1L5741.91,512.93L5824.03,515.51L5830.88,515.51L6090.94,492.71L6097.78,480.09L6132,376.25L6138.84,387.67L6145.69,324.23L6193.59,176.35L6200.44,176.95L6207.28,172.88L6214.13,219.21L6220.97,219.26L6227.81,174.04L6241.5,176.58L6248.34,131.14L6268.88,285.4L6275.72,229.62L6282.56,170.09L6309.94,244.74L6316.78,242.95L6323.63,245.93L6364.69,461.14L6371.53,474.92L6378.38,470.32L6385.22,502.24L6433.13,515.51L6439.97,515.51L6747.94,492.77L6754.78,479.99L6789,364.77L6795.84,319.3L6802.69,325.21L6809.53,312.28L6816.38,242.54L6836.91,256.85L6857.44,225.28L6864.28,225.63L6898.5,171.45L6905.34,175.73L6912.19,142.41L6919.03,178.7L6939.56,169.81L6946.41,197.3L6980.63,274.78L6987.47,355.81L6994.31,343.82L7008,385.15L7014.84,395.92L7028.53,407.24L7035.38,441L7042.22,446.23L7049.06,499.45L7103.81,515.51L7110.66,515.51L7411.78,479.98L7418.63,469.02L7541.81,170.06L7548.66,169.65L7576.03,121.08L7582.88,140.26L7589.72,172.29L7623.94,219.66L7630.78,284.78L7692.38,467.38L7699.22,492.59L7753.97,515.51L7760.81,515.51L8068.78,479.33L8075.63,468.65L8137.22,280.57L8144.06,242.8L8178.28,251.76L8185.13,178.87L8198.81,218.68L8219.34,172.4L8226.19,145.26L8287.78,317.94L8294.63,300.8L8301.47,272.93L8356.22,494.17L8363.06,504.35L8424.66,515.51L8431.5,515.51L8534.16,515.51\" style=\"vector-effect: non-scaling-stroke; fill: none; stroke: rgb(144, 238, 144); stroke-opacity: 1; stroke-width: 2px; opacity: 1;\"/></g><g class=\"points\"/><g class=\"text\"/></g></g></g><g class=\"overplot\"/><path class=\"xlines-above crisp\" d=\"M105,1467.97H1420\" style=\"fill: none; stroke-width: 1px; stroke: rgb(0, 0, 0); stroke-opacity: 1;\"/><path class=\"ylines-above crisp\" d=\"M105.5,903.53V1467.47\" style=\"fill: none; stroke-width: 1px; stroke: rgb(0, 0, 0); stroke-opacity: 1;\"/><g class=\"overlines-above\"/><g class=\"xaxislayer-above\"><g class=\"x2tick\"><text text-anchor=\"middle\" x=\"0\" y=\"1502.07\" transform=\"translate(106,0)\" style=\"font-family: 'Fira Sans', Condensed; font-size: 28px; fill: rgb(0, 0, 0); fill-opacity: 1; white-space: pre; opacity: 1;\"><tspan class=\"line\" dy=\"0em\" x=\"0\" y=\"1502.07\">00:00</tspan><tspan class=\"line\" dy=\"1.3em\" x=\"0\" y=\"1502.07\">Jul 17, 2016</tspan></text></g><g class=\"x2tick\"><text text-anchor=\"middle\" x=\"0\" y=\"1502.07\" style=\"font-family: 'Fira Sans', Condensed; font-size: 28px; fill: rgb(0, 0, 0); fill-opacity: 1; white-space: pre; opacity: 1;\" transform=\"translate(270.25,0)\">06:00</text></g><g class=\"x2tick\"><text text-anchor=\"middle\" x=\"0\" y=\"1502.07\" style=\"font-family: 'Fira Sans', Condensed; font-size: 28px; fill: rgb(0, 0, 0); fill-opacity: 1; white-space: pre; opacity: 1;\" transform=\"translate(434.5,0)\">12:00</text></g><g class=\"x2tick\"><text text-anchor=\"middle\" x=\"0\" y=\"1502.07\" style=\"font-family: 'Fira Sans', Condensed; font-size: 28px; fill: rgb(0, 0, 0); fill-opacity: 1; white-space: pre; opacity: 1;\" transform=\"translate(598.75,0)\">18:00</text></g><g class=\"x2tick\"><text text-anchor=\"middle\" x=\"0\" y=\"1502.07\" style=\"font-family: 'Fira Sans', Condensed; font-size: 28px; fill: rgb(0, 0, 0); fill-opacity: 1; white-space: pre; opacity: 1;\" transform=\"translate(763,0)\"><tspan class=\"line\" dy=\"0em\" x=\"0\" y=\"1502.07\">00:00</tspan><tspan class=\"line\" dy=\"1.3em\" x=\"0\" y=\"1502.07\">Jul 18, 2016</tspan></text></g><g class=\"x2tick\"><text text-anchor=\"middle\" x=\"0\" y=\"1502.07\" style=\"font-family: 'Fira Sans', Condensed; font-size: 28px; fill: rgb(0, 0, 0); fill-opacity: 1; white-space: pre; opacity: 1;\" transform=\"translate(927.25,0)\">06:00</text></g><g class=\"x2tick\"><text text-anchor=\"middle\" x=\"0\" y=\"1502.07\" style=\"font-family: 'Fira Sans', Condensed; font-size: 28px; fill: rgb(0, 0, 0); fill-opacity: 1; white-space: pre; opacity: 1;\" transform=\"translate(1091.5,0)\">12:00</text></g><g class=\"x2tick\"><text text-anchor=\"middle\" x=\"0\" y=\"1502.07\" style=\"font-family: 'Fira Sans', Condensed; font-size: 28px; fill: rgb(0, 0, 0); fill-opacity: 1; white-space: pre; opacity: 1;\" transform=\"translate(1255.75,0)\">18:00</text></g><g class=\"x2tick\"><text text-anchor=\"middle\" x=\"0\" y=\"1502.07\" style=\"font-family: 'Fira Sans', Condensed; font-size: 28px; fill: rgb(0, 0, 0); fill-opacity: 1; white-space: pre; opacity: 1;\" transform=\"translate(1420,0)\"><tspan class=\"line\" dy=\"0em\" x=\"0\" y=\"1502.07\">00:00</tspan><tspan class=\"line\" dy=\"1.3em\" x=\"0\" y=\"1502.07\">Jul 19, 2016</tspan></text></g></g><g class=\"yaxislayer-above\"><g class=\"y2tick\"><text text-anchor=\"end\" x=\"99.4\" y=\"9.799999999999999\" transform=\"translate(0,1419.08)\" style=\"font-family: 'Fira Sans', Condensed; font-size: 28px; fill: rgb(0, 0, 0); fill-opacity: 1; white-space: pre; opacity: 1;\">0</text></g><g class=\"y2tick\"><text text-anchor=\"end\" x=\"99.4\" y=\"9.799999999999999\" style=\"font-family: 'Fira Sans', Condensed; font-size: 28px; fill: rgb(0, 0, 0); fill-opacity: 1; white-space: pre; opacity: 1;\" transform=\"translate(0,1341.97)\">0.05</text></g><g class=\"y2tick\"><text text-anchor=\"end\" x=\"99.4\" y=\"9.799999999999999\" style=\"font-family: 'Fira Sans', Condensed; font-size: 28px; fill: rgb(0, 0, 0); fill-opacity: 1; white-space: pre; opacity: 1;\" transform=\"translate(0,1264.86)\">0.1</text></g><g class=\"y2tick\"><text text-anchor=\"end\" x=\"99.4\" y=\"9.799999999999999\" style=\"font-family: 'Fira Sans', Condensed; font-size: 28px; fill: rgb(0, 0, 0); fill-opacity: 1; white-space: pre; opacity: 1;\" transform=\"translate(0,1187.74)\">0.15</text></g><g class=\"y2tick\"><text text-anchor=\"end\" x=\"99.4\" y=\"9.799999999999999\" style=\"font-family: 'Fira Sans', Condensed; font-size: 28px; fill: rgb(0, 0, 0); fill-opacity: 1; white-space: pre; opacity: 1;\" transform=\"translate(0,1110.6299999999999)\">0.2</text></g><g class=\"y2tick\"><text text-anchor=\"end\" x=\"99.4\" y=\"9.799999999999999\" style=\"font-family: 'Fira Sans', Condensed; font-size: 28px; fill: rgb(0, 0, 0); fill-opacity: 1; white-space: pre; opacity: 1;\" transform=\"translate(0,1033.52)\">0.25</text></g><g class=\"y2tick\"><text text-anchor=\"end\" x=\"99.4\" y=\"9.799999999999999\" style=\"font-family: 'Fira Sans', Condensed; font-size: 28px; fill: rgb(0, 0, 0); fill-opacity: 1; white-space: pre; opacity: 1;\" transform=\"translate(0,956.4)\">0.3</text></g></g><g class=\"overaxes-above\"/></g><g class=\"subplot x3y3\"><g class=\"layer-subplot\"><g class=\"shapelayer\"/><g class=\"imagelayer\"/></g><g class=\"minor-gridlayer\"><g class=\"x3\"/><g class=\"y3\"/></g><g class=\"gridlayer\"><g class=\"x3\"><path class=\"x3grid crisp\" transform=\"translate(270.25,0)\" d=\"M0,1706.06v563.94\" style=\"stroke: rgb(211, 211, 211); stroke-opacity: 1; stroke-width: 1px;\"/><path class=\"x3grid crisp\" transform=\"translate(434.5,0)\" d=\"M0,1706.06v563.94\" style=\"stroke: rgb(211, 211, 211); stroke-opacity: 1; stroke-width: 1px;\"/><path class=\"x3grid crisp\" transform=\"translate(598.75,0)\" d=\"M0,1706.06v563.94\" style=\"stroke: rgb(211, 211, 211); stroke-opacity: 1; stroke-width: 1px;\"/><path class=\"x3grid crisp\" transform=\"translate(763,0)\" d=\"M0,1706.06v563.94\" style=\"stroke: rgb(211, 211, 211); stroke-opacity: 1; stroke-width: 1px;\"/><path class=\"x3grid crisp\" transform=\"translate(927.25,0)\" d=\"M0,1706.06v563.94\" style=\"stroke: rgb(211, 211, 211); stroke-opacity: 1; stroke-width: 1px;\"/><path class=\"x3grid crisp\" transform=\"translate(1091.5,0)\" d=\"M0,1706.06v563.94\" style=\"stroke: rgb(211, 211, 211); stroke-opacity: 1; stroke-width: 1px;\"/><path class=\"x3grid crisp\" transform=\"translate(1255.75,0)\" d=\"M0,1706.06v563.94\" style=\"stroke: rgb(211, 211, 211); stroke-opacity: 1; stroke-width: 1px;\"/></g><g class=\"y3\"><path class=\"y3grid crisp\" transform=\"translate(0,2141.36)\" d=\"M106,0h1314\" style=\"stroke: rgb(211, 211, 211); stroke-opacity: 1; stroke-width: 1px;\"/><path class=\"y3grid crisp\" transform=\"translate(0,2064.84)\" d=\"M106,0h1314\" style=\"stroke: rgb(211, 211, 211); stroke-opacity: 1; stroke-width: 1px;\"/><path class=\"y3grid crisp\" transform=\"translate(0,1988.32)\" d=\"M106,0h1314\" style=\"stroke: rgb(211, 211, 211); stroke-opacity: 1; stroke-width: 1px;\"/><path class=\"y3grid crisp\" transform=\"translate(0,1911.79)\" d=\"M106,0h1314\" style=\"stroke: rgb(211, 211, 211); stroke-opacity: 1; stroke-width: 1px;\"/><path class=\"y3grid crisp\" transform=\"translate(0,1835.27)\" d=\"M106,0h1314\" style=\"stroke: rgb(211, 211, 211); stroke-opacity: 1; stroke-width: 1px;\"/><path class=\"y3grid crisp\" transform=\"translate(0,1758.74)\" d=\"M106,0h1314\" style=\"stroke: rgb(211, 211, 211); stroke-opacity: 1; stroke-width: 1px;\"/></g></g><g class=\"zerolinelayer\"><path class=\"y3zl zl crisp\" transform=\"translate(0,2217.89)\" d=\"M106,0h1314\" style=\"stroke: rgb(255, 255, 255); stroke-opacity: 1; stroke-width: 2px;\"/></g><path class=\"xlines-below\"/><path class=\"ylines-below\"/><g class=\"overlines-below\"/><g class=\"xaxislayer-below\"/><g class=\"yaxislayer-below\"/><g class=\"overaxes-below\"/><g class=\"plot\" transform=\"translate(106,1706.06)\" clip-path=\"url(#clip487ab8x3y3plot)\"><g class=\"scatterlayer mlayer\"><g class=\"trace scatter trace869294\" style=\"stroke-miterlimit: 2; opacity: 1;\"><g class=\"fills\"/><g class=\"errorbars\"/><g class=\"lines\"><path class=\"js-line\" d=\"M-1444.03,511.83L-1156.59,507.23L-1149.75,496.52L-1136.06,467.44L-1129.22,427.65L-1122.37,406.22L-1115.53,426.12L-1108.69,420L-1101.84,401.63L-1088.16,360.31L-1081.31,384.8L-1074.47,274.6L-1067.62,311.33L-1060.78,395.51L-1053.94,332.76L-1047.09,285.32L-1040.25,311.33L-1033.41,317.46L-1026.56,302.15L-1019.72,323.58L-1012.87,299.09L-1006.03,279.19L-999.19,214.91L-992.34,165.94L-985.5,172.06L-978.66,155.23L-971.81,77.17L-964.97,54.22L-958.12,136.86L-944.44,276.13L-937.59,283.79L-923.91,387.86L-917.06,397.04L-903.37,446.02L-896.53,449.08L-876,447.55L-869.16,456.73L-848.62,490.4L-841.78,496.52L-828.09,511.83L-821.25,511.83L-506.44,510.3L-499.59,502.64L-479.06,479.69L-472.22,478.16L-458.53,450.61L-451.69,409.28L-431.16,291.44L-424.31,268.48L-417.47,271.54L-410.62,225.63L-396.94,173.59L-390.09,240.93L-383.25,233.28L-376.41,266.95L-369.56,204.2L-362.72,320.52L-355.87,326.64L-349.03,326.64L-342.19,357.25L-335.34,237.87L-328.5,214.91L-321.66,245.52L-314.81,100.13L-307.97,123.09L-301.12,123.09L-294.28,132.27L-287.44,126.15L-280.59,266.95L-273.75,190.43L-266.91,179.71L-253.22,205.73L-246.37,204.2L-239.53,438.36L-232.69,381.74L-225.84,352.66L-219,401.63L-212.16,459.79L-205.31,461.32L-198.47,447.55L-191.62,472.03L-184.78,502.64L-177.94,511.83L150.56,511.83L157.41,508.76L164.25,504.17L171.09,494.99L177.94,481.22L184.78,459.79L191.63,453.67L198.47,456.73L205.31,462.85L212.16,450.61L219,447.55L225.84,426.12L232.69,390.92L239.53,386.33L246.38,374.08L253.22,303.68L260.06,320.52L266.91,276.13L273.75,155.23L280.59,139.92L287.44,266.95L294.28,228.69L301.13,285.32L307.97,250.12L314.81,231.75L321.66,263.89L328.5,248.58L335.34,236.34L342.19,239.4L349.03,132.27L355.88,282.26L362.72,250.12L369.56,225.63L376.41,224.1L383.25,213.38L390.09,300.62L396.94,239.4L403.78,219.51L410.63,282.26L417.47,282.26L424.31,286.85L431.16,311.33L438,358.78L444.84,364.9L451.69,418.47L458.53,413.88L465.38,455.2L472.22,481.22L479.06,504.17L485.91,511.83L821.25,511.83L828.09,499.58L834.94,501.11L841.78,491.93L848.63,494.99L855.47,482.75L862.31,462.85L869.16,455.2L882.84,312.86L889.69,352.66L896.53,367.96L903.38,343.47L910.22,211.85L917.06,103.19L923.91,127.68L930.75,109.31L937.59,104.72L944.44,129.21L951.28,121.56L958.13,297.56L964.97,288.38L971.81,257.77L978.66,257.77L985.5,233.28L999.19,366.43L1006.03,363.37L1012.88,357.25L1019.72,346.54L1026.56,302.15L1033.41,309.8L1040.25,346.54L1047.09,250.12L1053.94,213.38L1060.78,340.41L1067.63,245.52L1074.47,236.34L1081.31,325.11L1088.16,302.15L1095,320.52L1101.84,349.6L1108.69,409.28L1115.53,459.79L1122.38,467.44L1129.22,490.4L1136.06,508.76L1142.91,511.83L1471.41,511.83L1478.25,504.17L1491.94,490.4L1498.78,487.34L1505.63,476.63L1512.47,461.32L1519.31,459.79L1526.16,452.14L1539.84,439.89L1546.69,398.57L1553.53,386.33L1560.38,348.07L1567.22,260.83L1574.06,191.96L1580.91,198.08L1587.75,132.27L1594.59,185.84L1601.44,112.37L1608.28,162.88L1615.13,110.84L1621.97,106.25L1628.81,228.69L1635.66,80.23L1642.5,303.68L1649.34,83.29L1656.19,120.03L1663.03,112.37L1669.88,80.23L1676.72,265.42L1683.56,311.33L1690.41,288.38L1697.25,397.04L1704.09,282.26L1710.94,217.98L1717.78,309.8L1724.63,208.79L1731.47,233.28L1738.31,247.05L1745.16,387.86L1752,364.9L1758.84,453.67L1765.69,475.09L1793.06,511.83L1799.91,511.83L2128.41,508.76L2135.25,505.7L2142.09,501.11L2148.94,488.87L2176.31,459.79L2183.16,438.36L2190,429.18L2196.84,393.98L2203.69,292.97L2210.53,338.88L2217.38,381.74L2224.22,335.82L2231.06,219.51L2237.91,367.96L2251.59,204.2L2258.44,216.44L2265.28,325.11L2272.13,247.05L2278.97,242.46L2285.81,318.99L2306.34,124.62L2313.19,175.12L2320.03,245.52L2326.88,150.63L2333.72,118.49L2340.56,126.15L2347.41,306.74L2354.25,164.41L2367.94,390.92L2374.78,343.47L2381.63,412.35L2388.47,270.01L2402.16,493.46L2409,485.81L2415.84,479.69L2422.69,493.46L2463.75,511.83L2470.59,511.83L2785.41,507.23L2792.25,498.05L2799.09,490.4L2805.94,467.44L2840.16,390.92L2847,397.04L2874.38,253.18L2881.22,245.52L2901.75,318.99L2908.59,289.91L2922.28,135.33L2929.13,270.01L2942.81,74.11L2949.66,97.07L2956.5,101.66L2963.34,172.06L2970.19,98.6L2977.03,138.39L2983.88,78.7L2997.56,366.43L3004.41,294.5L3024.94,360.31L3031.78,314.4L3038.63,253.18L3045.47,325.11L3052.31,280.72L3059.16,346.54L3066,334.29L3072.84,390.92L3079.69,397.04L3086.53,430.71L3113.91,511.83L3120.75,511.83L3449.25,499.58L3456.09,482.75L3490.31,436.83L3497.16,430.71L3510.84,435.3L3517.69,318.99L3538.22,369.49L3545.06,375.61L3558.75,254.71L3565.59,334.29L3572.44,348.07L3579.28,334.29L3586.13,332.76L3592.97,361.84L3599.81,331.23L3606.66,351.13L3613.5,358.78L3620.34,323.58L3627.19,262.36L3634.03,357.25L3647.72,185.84L3654.56,367.96L3668.25,406.22L3675.09,397.04L3681.94,225.63L3688.78,315.93L3695.63,210.32L3716.16,458.26L3723,360.31L3750.38,493.46L3757.22,496.52L3784.59,511.83L3791.44,511.83L4106.25,501.11L4113.09,490.4L4140.47,447.55L4147.31,475.09L4161,332.76L4167.84,259.3L4174.69,289.91L4181.53,202.67L4188.38,210.32L4195.22,329.7L4215.75,133.8L4222.59,253.18L4229.44,243.99L4236.28,263.89L4243.13,306.74L4249.97,320.52L4256.81,286.85L4277.34,83.29L4284.19,75.64L4297.88,142.98L4304.72,266.95L4318.41,420L4325.25,389.39L4332.09,355.72L4352.63,217.98L4359.47,253.18L4407.38,482.75L4414.22,501.11L4441.59,511.83L4448.44,511.83L4776.94,499.58L4783.78,490.4L4804.31,465.91L4811.16,375.61L4831.69,395.51L4838.53,430.71L4845.38,418.47L4852.22,236.34L4859.06,106.25L4865.91,277.66L4872.75,423.06L4900.13,118.49L4906.97,141.45L4913.81,146.04L4920.66,57.28L4927.5,233.28L4934.34,159.82L4941.19,28.2L4948.03,198.08L4954.88,107.78L4961.72,121.56L4989.09,245.52L4995.94,185.84L5009.63,201.14L5016.47,283.79L5037,470.5L5043.84,415.41L5050.69,420L5078.06,510.3L5084.91,511.83L5427.09,493.46L5433.94,484.28L5461.31,407.75L5468.16,371.02L5516.06,175.12L5522.91,161.35L5557.13,104.72L5563.97,124.62L5570.81,146.04L5584.5,84.82L5591.34,165.94L5605.03,123.09L5611.88,159.82L5618.72,237.87L5625.56,132.27L5646.09,170.53L5652.94,172.06L5687.16,288.38L5694,378.67L5748.75,511.83L5755.59,511.83L6084.09,488.87L6090.94,478.16L6145.69,305.21L6152.53,277.66L6179.91,179.71L6186.75,236.34L6193.59,286.85L6200.44,276.13L6207.28,176.65L6227.81,94.01L6248.34,354.19L6255.19,291.44L6262.03,80.23L6282.56,247.05L6289.41,199.61L6303.09,159.82L6309.94,421.53L6330.47,398.57L6385.22,510.3L6392.06,511.83L6741.09,487.34L6747.94,475.09L6768.47,412.35L6775.31,371.02L6782.16,389.39L6789,374.08L6795.84,280.72L6802.69,184.31L6816.38,320.52L6823.22,300.62L6830.06,276.13L6843.75,291.44L6850.59,198.08L6864.28,169L6871.13,300.62L6877.97,216.44L6884.81,142.98L6891.66,97.07L6898.5,159.82L6905.34,103.19L6912.19,182.77L6919.03,83.29L6925.88,202.67L6946.41,101.66L6953.25,149.1L6966.94,335.82L6994.31,297.56L7001.16,291.44L7008,294.5L7014.84,346.54L7021.69,355.72L7028.53,467.44L7096.97,511.83L7103.81,511.83L7398.09,490.4L7404.94,473.56L7473.38,349.6L7480.22,243.99L7521.28,176.65L7528.13,190.43L7534.97,193.49L7555.5,81.76L7569.19,195.02L7576.03,211.85L7617.09,369.49L7623.94,355.72L7630.78,225.63L7637.63,217.98L7644.47,283.79L7692.38,490.4L7699.22,501.11L7747.13,511.83L7753.97,511.83L8068.78,473.56L8075.63,456.73L8116.69,341.94L8123.53,283.79L8144.06,259.3L8157.75,312.86L8164.59,196.55L8178.28,288.38L8205.66,109.31L8212.5,150.63L8246.72,126.15L8260.41,374.08L8267.25,364.9L8294.63,441.42L8301.47,237.87L8308.31,262.36L8315.16,294.5L8328.84,384.8L8335.69,453.67L8390.44,511.83L8397.28,511.83L8718.94,476.63L8725.78,462.85L8766.84,416.94L8773.69,364.9L8821.59,245.52L8828.44,250.12L8835.28,257.77L8842.13,271.54L8862.66,231.75L8869.5,109.31L8890.03,285.32L8910.56,213.38L8917.41,133.8L8958.47,374.08L8972.16,341.94L8979,312.86L9054.28,511.83L9061.13,511.83L9177.47,511.83\" style=\"vector-effect: non-scaling-stroke; fill: none; stroke: rgb(0, 0, 255); stroke-opacity: 1; stroke-width: 2px; opacity: 1;\"/></g><g class=\"points\"/><g class=\"text\"/></g><g class=\"trace scatter trace6c4969\" style=\"stroke-miterlimit: 2; opacity: 1;\"><g class=\"fills\"/><g class=\"errorbars\"/><g class=\"lines\"><path class=\"js-line\" d=\"M-1444.03,511.84L-1156.59,505.32L-1149.75,488.31L-1136.06,471.68L-1129.22,460.07L-1108.69,383.04L-1101.84,280.18L-1095,317.83L-1088.16,298.11L-1067.62,256.07L-1060.78,277.42L-1047.09,215.53L-1040.25,233.91L-1026.56,241.61L-1019.72,188.8L-1006.03,171.36L-999.19,180.37L-992.34,216.3L-985.5,210.67L-978.66,269.09L-971.81,199.03L-964.97,220.49L-958.12,172.95L-951.28,218.36L-944.44,209.03L-937.59,239.82L-930.75,226.12L-917.06,266.55L-910.22,384.19L-903.37,389.07L-896.53,406.29L-889.69,453.98L-882.84,453.26L-869.16,484.09L-862.31,495.97L-841.78,512.01L-834.94,511.82L-561.19,511.64L-554.34,508.39L-540.66,511.7L-533.81,511.71L-520.12,510.28L-513.28,507.03L-506.44,489.18L-499.59,480.04L-492.75,487.31L-485.91,471.84L-465.37,418.51L-458.53,398.7L-444.84,351.37L-438,308.06L-431.16,284.53L-424.31,287.74L-417.47,231.2L-410.62,219.14L-403.78,215.8L-396.94,166.9L-390.09,172.91L-383.25,128.93L-376.41,146.21L-369.56,155.69L-362.72,142.15L-355.87,186.87L-349.03,174.15L-342.19,186.69L-335.34,265.93L-328.5,237.48L-321.66,253.44L-314.81,207.52L-307.97,254.01L-301.12,197.83L-280.59,247.08L-273.75,283.28L-266.91,281.58L-260.06,300.55L-253.22,284.36L-246.37,342.25L-239.53,346.35L-232.69,377.35L-225.84,362.15L-219,416.35L-212.16,429.71L-205.31,469.75L-198.47,492.93L-191.62,507.42L-184.78,510.79L-177.94,511.23L-171.09,510.57L-164.25,511.73L-130.03,511.75L-123.19,511.75L-27.37,511.84L-20.53,511.84L123.19,511.81L130.03,512.51L136.88,509.15L143.72,510.09L150.56,504.35L157.41,487.48L171.09,478.44L177.94,471.96L184.78,458.79L191.63,451.88L198.47,426.94L205.31,377.86L212.16,386.12L219,340.25L225.84,350.33L232.69,303.12L239.53,328.4L246.38,336.06L253.22,303.74L260.06,288.4L266.91,283.26L273.75,231.66L280.59,240.41L287.44,225.26L294.28,216.22L301.13,137.96L307.97,179.23L314.81,172.92L321.66,185.53L328.5,178.04L335.34,175.9L342.19,149.47L349.03,205.15L355.88,210.04L362.72,234.34L369.56,178.82L376.41,232.1L383.25,206.69L390.09,262.4L396.94,340.4L403.78,324.56L410.63,370.72L417.47,386.92L424.31,415.05L431.16,417.07L438,441.79L444.84,448.23L451.69,467.15L458.53,489.56L465.38,497.69L479.06,508.19L485.91,510.91L526.97,511.87L533.81,511.82L800.72,511.61L807.56,510.26L814.41,504.68L821.25,497.34L828.09,491.71L834.94,483.36L848.63,444.43L855.47,450.55L862.31,433.89L869.16,440.38L876,400.56L882.84,378.49L889.69,348.16L896.53,288.45L903.38,253.02L910.22,273.45L917.06,252.87L923.91,250.06L930.75,220.88L937.59,161.62L944.44,131.03L951.28,60.37L958.13,87.1L964.97,73.28L971.81,92.69L978.66,99.46L985.5,172.62L992.34,108.56L999.19,158.29L1006.03,187.76L1012.88,200.96L1019.72,184.25L1026.56,213.95L1033.41,290.28L1040.25,232.05L1047.09,211.09L1053.94,272.19L1060.78,261.42L1067.63,344.2L1074.47,341.84L1081.31,370.43L1088.16,364.26L1095,377.52L1101.84,378.99L1108.69,422.08L1115.53,452L1122.38,468.41L1129.22,495.29L1136.06,510.98L1142.91,515.41L1149.75,512.47L1156.59,512.56L1238.72,511.83L1245.56,511.83L1444.03,512.89L1450.88,504.25L1464.56,503.35L1471.41,506.41L1478.25,502.41L1485.09,494.69L1491.94,490.42L1498.78,474.89L1505.63,458.72L1512.47,429.39L1526.16,381.72L1533,382.93L1539.84,373.55L1546.69,329.05L1553.53,265.03L1560.38,276.78L1567.22,266.65L1574.06,283.03L1587.75,220.53L1594.59,203.09L1601.44,170.02L1608.28,100.69L1615.13,108.01L1621.97,89.18L1628.81,93.11L1635.66,128.46L1642.5,107.32L1649.34,109.98L1656.19,165.34L1663.03,195.38L1669.88,183.89L1676.72,190.8L1683.56,195.81L1690.41,181.38L1697.25,201.75L1704.09,254.17L1710.94,241.96L1717.78,332.15L1724.63,306.59L1731.47,349.58L1738.31,400.57L1745.16,347.81L1752,387.56L1758.84,397.95L1765.69,450.99L1772.53,468.77L1779.38,495.58L1786.22,506.17L1793.06,511.93L1799.91,512.35L1820.44,511.96L1827.28,511.72L1854.66,511.79L1861.5,504.38L1868.34,511.82L1875.19,511.84L2128.41,509.87L2135.25,505.43L2155.78,471.95L2162.63,475.38L2176.31,411.98L2183.16,405.73L2190,369.39L2196.84,374.72L2224.22,211.61L2231.06,236.07L2237.91,214.69L2244.75,246.33L2251.59,222.91L2258.44,175.86L2272.13,147.91L2278.97,164.44L2285.81,198.86L2292.66,150.43L2306.34,236.86L2313.19,168.01L2326.88,194.83L2333.72,172.3L2347.41,243.54L2354.25,234.65L2367.94,343.26L2374.78,270.23L2388.47,398.86L2395.31,398.37L2409,402.78L2415.84,446.39L2429.53,504.1L2436.38,509.08L2456.91,511.27L2463.75,511.84L2785.41,506.95L2792.25,495.47L2799.09,493.03L2805.94,473.47L2840.16,373.97L2847,318.2L2860.69,259.59L2867.53,268.08L2881.22,223.63L2888.06,190.13L2901.75,157.3L2908.59,162.19L2915.44,148.97L2922.28,196.46L2929.13,222.56L2935.97,189.15L2942.81,209.39L2949.66,185.24L2956.5,188.08L2963.34,229.34L2970.19,192.51L2977.03,225.79L2983.88,203.95L2990.72,235.55L2997.56,240.71L3004.41,269.06L3011.25,360.09L3018.09,296.26L3024.94,314.98L3031.78,368.14L3038.63,368.13L3045.47,412.61L3052.31,405.57L3059.16,433.47L3079.69,479.28L3086.53,477L3107.06,508.56L3113.91,511.73L3428.72,505.49L3435.56,494L3456.09,479.41L3462.94,477.22L3517.69,284.71L3524.53,364.92L3531.38,355.63L3538.22,226.07L3545.06,258.92L3551.91,182.44L3572.44,244.59L3579.28,213.12L3592.97,217.59L3599.81,239.4L3606.66,224.84L3613.5,306.24L3647.72,215.57L3654.56,310.17L3668.25,225.65L3675.09,243.74L3681.94,287.81L3688.78,345.25L3695.63,342.49L3702.47,319.75L3723,434.14L3729.84,414.43L3750.38,497.39L3757.22,515.31L3798.28,512.15L3805.13,511.84L4092.56,510.07L4099.41,494.57L4119.94,472.33L4126.78,440.02L4161,377.43L4167.84,367.12L4202.06,168.3L4208.91,191.97L4236.28,147.81L4243.13,144.31L4263.66,192.21L4270.5,125.44L4277.34,210.38L4291.03,172.39L4297.88,164.4L4318.41,253.74L4325.25,226.3L4352.63,358.25L4359.47,325.02L4414.22,509.33L4421.06,511.92L4756.41,501.27L4763.25,494.15L4770.09,495.01L4776.94,474.7L4783.78,487.62L4790.63,470.25L4797.47,447.66L4804.31,442.17L4811.16,409.23L4818,388.84L4824.84,402.85L4831.69,279.29L4838.53,288.03L4845.38,277.1L4852.22,260.15L4865.91,282.02L4872.75,204.3L4879.59,133.98L4886.44,212.97L4893.28,184.58L4900.13,215.04L4906.97,135.81L4920.66,156.52L4927.5,161.83L4961.72,162.14L4968.56,199.65L4975.41,110.35L4982.25,181.97L4989.09,232.71L4995.94,221.78L5002.78,284.75L5009.63,264.87L5016.47,330.47L5043.84,434.41L5050.69,485.15L5091.75,511.25L5098.59,511.79L5413.41,509.46L5420.25,492.08L5440.78,466.82L5447.63,421.42L5468.16,349.39L5475,330.14L5522.91,163.76L5529.75,166.02L5557.13,113.2L5563.97,129.77L5570.81,99.71L5584.5,110.99L5591.34,129.8L5605.03,97.42L5625.56,197.63L5632.41,220.38L5666.63,329.66L5673.47,346.88L5680.31,346.7L5687.16,426.97L5700.84,415.05L5707.69,457.94L5748.75,511.78L5755.59,511.82L6084.09,488.89L6090.94,471.5L6104.63,444.29L6111.47,404.76L6193.59,161.94L6200.44,155.68L6227.81,165.34L6234.66,183.48L6241.5,163.23L6248.34,188.32L6255.19,177.61L6262.03,225.51L6268.88,282.57L6282.56,220.87L6289.41,231.11L6296.25,243.71L6303.09,236.59L6309.94,276.56L6364.69,483.86L6371.53,500.07L6535.78,511.83L6542.63,511.84L6734.25,485.7L6741.09,472.64L6775.31,386.9L6782.16,317.45L6789,324.1L6795.84,260.44L6809.53,294.63L6823.22,223.58L6830.06,203.8L6843.75,211.7L6857.44,192.55L6864.28,185.46L6871.13,154.02L6877.97,198.85L6891.66,192.48L6898.5,200.42L6925.88,162.45L6932.72,227.07L6939.56,230.91L6946.41,275.16L6960.09,330.9L6966.94,274.36L7021.69,477.91L7028.53,457.76L7069.59,511.21L7076.44,511.77L7391.25,481.42L7398.09,477.27L7528.13,152.47L7534.97,152.94L7548.66,133.63L7562.34,171.2L7569.19,159.46L7576.03,189.55L7596.56,177.96L7603.41,235.56L7623.94,255.53L7630.78,342.87L7726.59,511.83L7733.44,511.9L7781.34,511.83L7788.19,511.83L8055.09,479.71L8061.94,461.07L8096.16,377.11L8103,305.86L8109.84,335.31L8130.38,278.59L8137.22,270.44L8185.13,174.7L8191.97,187.12L8198.81,201.56L8205.66,167.37L8233.03,175.9L8239.88,219.61L8315.16,466.59L8322,434.07L8383.59,511.67L8390.44,511.99L8534.16,511.84\" style=\"vector-effect: non-scaling-stroke; fill: none; stroke: rgb(255, 215, 0); stroke-opacity: 1; stroke-width: 2px; opacity: 1;\"/></g><g class=\"points\"/><g class=\"text\"/></g><g class=\"trace scatter trace615764\" style=\"stroke-miterlimit: 2; opacity: 1;\"><g class=\"fills\"/><g class=\"errorbars\"/><g class=\"lines\"><path class=\"js-line\" d=\"M-1444.03,519.56L-1409.81,517.27L-1402.97,516.16L-1225.03,520.16L-1218.19,516.16L-1183.97,517.18L-1177.12,509.49L-1129.22,454.57L-1122.37,425.62L-1108.69,374.04L-1101.84,326.29L-1095,328.29L-1088.16,312.33L-1067.62,243.81L-1060.78,272.79L-1053.94,207.31L-1047.09,220.02L-1040.25,265.02L-1033.41,251.4L-1026.56,224.22L-1019.72,229.83L-1012.87,247.73L-1006.03,240.45L-985.5,280.91L-978.66,254.06L-958.12,228.04L-951.28,193.88L-944.44,191.62L-937.59,221.92L-923.91,327.95L-917.06,331.13L-903.37,459.84L-896.53,467.08L-882.84,491.98L-876,496.96L-828.09,524.75L-821.25,523.17L-800.72,518.42L-793.87,518.46L-766.5,517.36L-759.66,517.22L-732.28,518.16L-725.44,517.94L-650.16,518.08L-643.31,519.18L-588.56,518.7L-581.72,517.22L-533.81,509.19L-526.97,505.08L-513.28,496.08L-506.44,491.31L-485.91,473.19L-479.06,463.52L-451.69,399.87L-444.84,388.47L-438,379.29L-431.16,341.31L-424.31,299.12L-417.47,249.19L-403.78,183.83L-396.94,171.19L-376.41,123.71L-369.56,135.86L-362.72,139.05L-355.87,160.31L-349.03,152.09L-342.19,207.72L-328.5,260.32L-321.66,296.87L-314.81,255.99L-307.97,273.44L-301.12,308.68L-294.28,251.14L-287.44,255.29L-280.59,237.48L-273.75,248.54L-266.91,255.45L-260.06,325.33L-253.22,317.77L-239.53,341.69L-232.69,367.42L-225.84,384.68L-219,476.16L-212.16,476.25L-205.31,486.49L-198.47,500.24L-191.62,508.36L-184.78,515.12L-177.94,512.54L-171.09,512.41L-164.25,519.45L-157.41,521.05L-150.56,519.72L-136.87,516.49L-130.03,515.66L-116.34,512.71L-109.5,510.79L-102.66,507.96L-95.81,509.06L-88.97,507.86L-82.12,509.52L-68.44,509.2L-61.59,510.61L-34.22,512.16L-27.37,511.86L-13.69,511.37L-6.84,511.59L6.84,512.38L13.69,512.55L34.22,513.34L41.06,514.22L54.75,514.93L61.59,514.79L82.13,515.12L88.97,515.35L95.81,515.82L102.66,514.71L109.5,514.38L116.34,512.97L130.03,507.65L136.88,505.71L157.41,486.06L164.25,481.11L171.09,469.73L177.94,463.24L184.78,452.97L191.63,434.74L198.47,415.87L205.31,387.59L212.16,366.34L219,351.2L225.84,349.7L232.69,349.93L239.53,358.3L246.38,348.13L253.22,323.77L260.06,321.21L266.91,302.92L273.75,246.78L280.59,245.97L287.44,215.18L294.28,156.5L301.13,138.66L307.97,165.49L314.81,169.33L321.66,187.68L328.5,180.56L335.34,189.07L342.19,195.55L349.03,186.56L355.88,196.87L362.72,214.67L369.56,190.83L376.41,273.9L383.25,268.87L390.09,267.66L396.94,283.45L403.78,306.49L410.63,391.08L417.47,368.59L424.31,359L431.16,389.87L438,399.11L451.69,436.28L458.53,473.17L465.38,493.06L472.22,506.61L479.06,513.34L485.91,528.29L492.75,529.51L499.59,532.04L506.44,524.54L513.28,527.23L520.13,530.74L526.97,528.49L533.81,530.74L540.66,526.99L547.5,526.73L554.34,527.25L561.19,525.63L568.03,525.8L581.72,523.07L588.56,523.83L602.25,523.54L609.09,524.52L629.63,525.5L636.47,526.08L677.53,528.99L684.38,528.88L698.06,528.51L704.91,529.21L718.59,531.27L725.44,532.06L732.28,532.53L739.13,532.11L745.97,533.04L752.81,533.17L759.66,535.21L766.5,535.31L773.34,535.74L780.19,533.34L787.03,528.69L793.88,527.3L800.72,523.01L807.56,520.85L814.41,518.77L821.25,512.37L828.09,506.67L834.94,498.44L848.63,474.2L855.47,461.22L862.31,450.12L869.16,444.66L876,426.66L882.84,402.63L889.69,380.88L896.53,316.03L903.38,243.64L910.22,254.14L917.06,251.15L923.91,237.47L930.75,172.75L937.59,118.59L944.44,99.95L951.28,78.61L958.13,73.71L964.97,80.76L971.81,80.34L978.66,129.87L985.5,150.09L992.34,155L1006.03,192.95L1012.88,250.35L1019.72,310.61L1026.56,333.8L1033.41,348.97L1040.25,350.63L1047.09,349.93L1053.94,385.91L1060.78,418.43L1067.63,393.26L1074.47,385.57L1081.31,428.42L1088.16,411.91L1095,420.33L1101.84,440.95L1108.69,439L1115.53,458.02L1122.38,471.75L1129.22,488.12L1136.06,500.71L1142.91,497.74L1149.75,499.21L1156.59,505.96L1163.44,506.77L1177.13,502.9L1183.97,504.48L1190.81,506.04L1197.66,504.67L1204.5,505.16L1211.34,502.89L1225.03,501.5L1231.88,500.1L1238.72,500.97L1245.56,499.86L1252.41,499.77L1259.25,501.17L1293.47,505.64L1300.31,505.74L1314,508.06L1320.84,507.92L1355.06,505.72L1361.91,506.98L1375.59,508.84L1382.44,508.5L1389.28,508.03L1396.13,508.97L1430.34,518.19L1437.19,514.34L1444.03,506.92L1450.88,502.36L1471.41,485.63L1478.25,479.87L1498.78,441.24L1505.63,433.17L1519.31,407.59L1526.16,390.03L1539.84,351.69L1546.69,335.45L1553.53,329.37L1560.38,331.66L1567.22,325.35L1574.06,326.05L1580.91,321.15L1587.75,270.7L1594.59,202.42L1601.44,184.02L1608.28,151.45L1615.13,141.82L1621.97,100.92L1628.81,109.58L1635.66,89.03L1642.5,86.93L1649.34,125.03L1656.19,102.44L1663.03,181.1L1669.88,121.27L1676.72,150.1L1683.56,134.77L1690.41,130.84L1697.25,204.19L1704.09,255.55L1710.94,291.99L1717.78,376.84L1724.63,354.18L1731.47,349.64L1738.31,394.67L1745.16,347L1752,377.2L1758.84,382.63L1765.69,440.75L1786.22,498.38L1793.06,492.41L1799.91,502.66L1806.75,500.68L1813.59,501.98L1820.44,508.26L1834.13,502.98L1840.97,507.28L1847.81,502.02L1854.66,502.95L1888.88,503.53L1895.72,503.25L2053.13,508.77L2059.97,511.35L2087.34,512.9L2094.19,508.84L2121.56,496.89L2128.41,489.6L2135.25,491.13L2142.09,481.16L2148.94,476.3L2155.78,462.14L2169.47,440.22L2176.31,424.57L2183.16,419.14L2190,403.34L2196.84,393.29L2203.69,368.31L2217.38,317.61L2224.22,248.15L2231.06,245.45L2237.91,273.27L2244.75,253.21L2251.59,207.79L2258.44,258.38L2265.28,242.41L2278.97,170.22L2285.81,232.53L2299.5,207.86L2306.34,249.05L2326.88,181.66L2333.72,209.21L2340.56,250L2347.41,221.43L2361.09,216.85L2367.94,318.54L2374.78,272.85L2381.63,339.56L2395.31,439.42L2402.16,472.58L2409,415.51L2415.84,478.82L2422.69,503.06L2429.53,498.67L2456.91,515.01L2463.75,513.29L2477.44,518.25L2484.28,514.6L2497.97,514.65L2504.81,515.73L2518.5,514.17L2525.34,516.8L2539.03,513.68L2545.88,514.38L2758.03,508.04L2764.88,504.93L2805.94,474.56L2812.78,456.64L2819.63,449.47L2826.47,421.76L2860.69,301.12L2867.53,299.04L2894.91,172.43L2901.75,149.77L2929.13,197.35L2935.97,192.9L2942.81,161.11L2949.66,210.14L2970.19,169.13L2977.03,163.7L2983.88,178.9L2990.72,161.18L3004.41,195.38L3011.25,302.7L3024.94,389.54L3031.78,411.11L3038.63,411.34L3045.47,439.66L3059.16,410.67L3066,452.18L3072.84,456.62L3079.69,486.44L3107.06,520.26L3113.91,519.66L3134.44,527.45L3141.28,523.48L3189.19,514.32L3196.03,514.29L3291.84,518.63L3298.69,519.23L3415.03,522.93L3421.88,518L3456.09,491.5L3462.94,480.72L3476.63,444.6L3483.47,423.16L3524.53,322.46L3531.38,329.59L3551.91,230.45L3558.75,252.6L3565.59,261.7L3572.44,255.44L3579.28,231.52L3613.5,326.2L3620.34,335.66L3640.88,353.67L3647.72,311.81L3654.56,375.18L3661.41,308.78L3668.25,296.37L3688.78,427.22L3695.63,422.66L3716.16,357.12L3723,445.19L3729.84,419.3L3736.69,493.68L3743.53,478.95L3750.38,502.68L3770.91,525.54L3777.75,527.24L3818.81,526.47L3825.66,523.84L3873.56,522.68L3880.41,521.52L4017.28,526.48L4024.13,526.07L4078.88,510.51L4085.72,502.41L4099.41,491.98L4106.25,483.65L4133.63,431.23L4140.47,411.27L4174.69,354.7L4181.53,289.75L4208.91,153.08L4215.75,165.65L4236.28,99.45L4243.13,154.97L4249.97,140.8L4256.81,165.39L4263.66,215.75L4277.34,247.71L4284.19,201.98L4291.03,177.59L4297.88,182.94L4304.72,203.12L4318.41,233.64L4325.25,276.91L4352.63,420.44L4359.47,374.03L4380,402.98L4386.84,440.07L4421.06,498.74L4427.91,504.02L4482.66,501.56L4489.5,500.73L4537.41,502.66L4544.25,503L4729.03,502.29L4735.88,495.31L4797.47,441.26L4804.31,425.27L4824.84,390.04L4831.69,333.58L4845.38,285.41L4859.06,296.26L4865.91,303.68L4879.59,158.8L4886.44,189.87L4893.28,258.96L4900.13,250.61L4906.97,197.71L4913.81,210.21L4920.66,188.89L4927.5,182.63L4941.19,149.14L4948.03,195.41L4968.56,207.15L4975.41,169.64L5057.53,481.12L5064.38,483.16L5098.59,510.86L5105.44,517.56L5146.5,507.16L5153.34,506.05L5413.41,497.5L5420.25,490.76L5454.47,442.35L5461.31,414.46L5550.28,79.24L5563.97,85.32L5570.81,88.56L5605.03,101.12L5611.88,135.38L5625.56,163.96L5632.41,194.88L5673.47,316.17L5680.31,340.64L5735.06,518.06L5741.91,520.36L6077.25,495.17L6084.09,489.33L6111.47,426.27L6118.31,393.63L6186.75,145.96L6193.59,137.69L6200.44,113.07L6214.13,145.63L6220.97,158.38L6234.66,162.89L6248.34,132.17L6255.19,154.91L6289.41,289.54L6296.25,255.71L6303.09,300.36L6316.78,294.32L6323.63,311.76L6330.47,421.18L6392.06,513.97L6398.91,511.44L6494.72,511.68L6501.56,512.5L6713.72,502.3L6720.56,496.49L6747.94,459.61L6754.78,447.28L6789,332.54L6795.84,291.3L6809.53,285.47L6816.38,237.71L6850.59,168.91L6857.44,176.65L6871.13,147.37L6891.66,227.61L6898.5,218.8L6905.34,203.77L6925.88,201.69L6932.72,249.36L6939.56,203.66L6946.41,268.48L6953.25,250.58L6960.09,293.55L6966.94,270.23L6980.63,324.4L6987.47,404.53L6994.31,397.27L7001.16,438.55L7083.28,524.93L7090.13,522.7L7240.69,518.12L7247.53,518.34L7391.25,494.64L7398.09,488.78L7418.63,446.87L7425.47,414.6L7514.44,136.46L7521.28,129.62L7562.34,119.49L7569.19,123.04L7603.41,193.85L7610.25,226.24L7719.75,519.09L7726.59,522.18L7972.97,527.32L7979.81,529.54L8055.09,498.74L8061.94,484.55L8191.97,145.33L8198.81,189.28L8212.5,198.95L8226.19,152.58L8233.03,161.38L8239.88,239.88L8246.72,179.01L8267.25,230.53L8274.09,360.96L8383.59,520.09L8390.44,520.75L8499.94,514.9L8506.78,514.43L8534.16,516.88\" style=\"vector-effect: non-scaling-stroke; fill: none; stroke: rgb(255, 0, 255); stroke-opacity: 1; stroke-width: 2px; opacity: 1;\"/></g><g class=\"points\"/><g class=\"text\"/></g><g class=\"trace scatter trace8dc84e\" style=\"stroke-miterlimit: 2; opacity: 1;\"><g class=\"fills\"/><g class=\"errorbars\"/><g class=\"lines\"><path class=\"js-line\" d=\"M-1444.03,511.78L-1156.59,504.81L-1149.75,496.72L-1136.06,475.85L-1129.22,455.66L-1108.69,352.71L-1101.84,282.74L-1095,322.73L-1088.16,298.36L-1067.62,240.52L-1060.78,257.53L-1047.09,227.56L-1040.25,253.65L-1026.56,183.53L-1019.72,222.49L-1006.03,204.41L-999.19,226.75L-978.66,178.4L-971.81,179.31L-964.97,174.26L-958.12,182.97L-951.28,185.86L-944.44,202.76L-930.75,242.53L-923.91,247.03L-903.37,381.82L-896.53,400.51L-882.84,456.71L-876,458.31L-869.16,462.41L-862.31,475.85L-841.78,511.65L-834.94,511.78L-513.28,511.59L-506.44,507.24L-492.75,489.55L-485.91,475.05L-458.53,417.99L-451.69,414.77L-438,365L-431.16,282.96L-417.47,238.13L-410.62,234.08L-403.78,222.47L-396.94,193.48L-390.09,176.09L-383.25,175.49L-376.41,168.95L-369.56,169.66L-349.03,169.29L-342.19,177.56L-335.34,223.14L-328.5,219.24L-321.66,219.44L-314.81,181.7L-301.12,181.67L-294.28,191.87L-287.44,193.9L-280.59,218.19L-273.75,245.26L-266.91,242.7L-260.06,245.17L-253.22,259.75L-246.37,289.63L-239.53,332.01L-232.69,378.59L-225.84,385.91L-219,455.56L-212.16,450.64L-191.62,499.63L-184.78,507.41L-171.09,511.78L-164.25,511.78L136.88,511.75L143.72,510.53L157.41,495.91L164.25,488.29L171.09,476.07L177.94,465.39L184.78,465.25L191.63,452.29L198.47,418.81L205.31,364.81L212.16,362.99L219,362.21L232.69,362.7L239.53,362.32L253.22,279.38L260.06,279.34L273.75,235.47L280.59,232L287.44,219.21L294.28,176.47L301.13,175.21L307.97,170.18L314.81,170.02L321.66,177.52L328.5,172.69L335.34,178.69L342.19,173.46L349.03,173.42L355.88,179.63L362.72,182.79L369.56,188.61L376.41,200.13L383.25,213.27L390.09,251.37L396.94,252.41L403.78,266.53L410.63,334.75L417.47,319.24L424.31,351.17L431.16,378.57L438,407.22L444.84,417.65L451.69,439.62L458.53,472.77L465.38,494.07L472.22,503.98L479.06,504.2L485.91,510L492.75,511.78L499.59,511.78L800.72,511.73L807.56,508.35L821.25,495.97L828.09,488.81L834.94,475.73L841.78,475.81L848.63,453.01L855.47,452.63L862.31,435.16L869.16,451.44L876,417.98L882.84,363.4L889.69,362.99L896.53,279.38L903.38,238.79L910.22,237.43L917.06,252.88L923.91,236.6L930.75,183.04L937.59,177.61L944.44,167.71L951.28,125.7L958.13,123.49L964.97,122.58L971.81,123.49L978.66,172.52L985.5,172.93L992.34,177.82L999.19,178.93L1006.03,173.75L1012.88,206.66L1019.72,230.4L1026.56,233L1033.41,238.98L1040.25,249.98L1047.09,275.17L1053.94,287.82L1060.78,304.12L1067.63,272.45L1074.47,302.24L1081.31,344.1L1088.16,353.15L1095,377.69L1101.84,397.33L1108.69,423.14L1115.53,453.62L1129.22,492.89L1136.06,508.9L1142.91,511.65L1149.75,511.78L1471.41,510.82L1478.25,503.29L1491.94,489.75L1498.78,467.1L1505.63,455.59L1512.47,437L1519.31,419.17L1526.16,414.88L1533,363.16L1539.84,363.09L1553.53,362.06L1560.38,323.91L1567.22,279.38L1574.06,279.33L1580.91,240.04L1587.75,230.08L1594.59,187.83L1601.44,174.01L1608.28,169.21L1615.13,169.21L1621.97,137.02L1628.81,169.02L1635.66,124.99L1642.5,125.72L1649.34,172.35L1656.19,137.98L1663.03,175.82L1669.88,144.79L1676.72,184.15L1683.56,148.17L1690.41,167L1697.25,197.37L1704.09,233.47L1710.94,235.62L1717.78,310.07L1724.63,330.08L1731.47,310.29L1738.31,353.14L1745.16,347.05L1752,373.1L1779.38,494.79L1786.22,507.25L1793.06,511.65L1799.91,511.78L2121.56,511.26L2128.41,504.82L2148.94,476.48L2155.78,466.72L2183.16,415.41L2190,385.02L2203.69,322.8L2210.53,322.18L2224.22,237.99L2231.06,236.14L2237.91,252.45L2244.75,231.92L2251.59,179.3L2258.44,226.79L2272.13,177.51L2278.97,176.33L2285.81,184.53L2292.66,170.78L2299.5,178.49L2306.34,204.51L2313.19,173.02L2320.03,179.35L2326.88,154.94L2333.72,178.61L2347.41,210.65L2354.25,236.38L2361.09,240.46L2367.94,299.61L2374.78,269.16L2381.63,294.73L2395.31,363.79L2402.16,387.66L2415.84,434.4L2422.69,493.21L2450.06,511.78L2456.91,511.78L2785.41,505.05L2792.25,497.39L2805.94,476.45L2812.78,455.89L2826.47,403.59L2833.31,369.27L2840.16,354.5L2847,317.01L2860.69,281.99L2867.53,278.73L2881.22,235.25L2888.06,222.76L2908.59,170.85L2915.44,169.73L2922.28,192.56L2929.13,178.22L2956.5,172.09L2963.34,143.62L2970.19,151.43L2977.03,196.39L2990.72,203.24L2997.56,225.99L3004.41,244.21L3011.25,238.54L3018.09,308.94L3031.78,336.52L3038.63,367.52L3079.69,478.74L3086.53,492.72L3113.91,511.78L3120.75,511.78L3442.41,500.82L3449.25,489.55L3476.63,420.41L3483.47,385.56L3497.16,384.58L3504,362.92L3524.53,322L3531.38,323.28L3551.91,231.71L3558.75,255.53L3565.59,253.4L3572.44,232.7L3579.28,183.95L3586.13,214.26L3592.97,224.61L3640.88,236.39L3647.72,189.5L3654.56,231.04L3661.41,203.08L3668.25,210.56L3688.78,334.66L3695.63,343.68L3702.47,335.24L3709.31,361.8L3716.16,369.12L3723,414.8L3729.84,425.39L3736.69,471.13L3743.53,472.4L3750.38,496.31L3770.91,511.78L3777.75,511.78L4099.41,502.67L4106.25,494.5L4161,366.89L4167.84,387.64L4174.69,323.51L4202.06,181.4L4208.91,180.78L4215.75,204.16L4222.59,169.89L4229.44,176.14L4256.81,170.33L4263.66,201.23L4270.5,206.32L4277.34,181L4291.03,178.84L4297.88,138.77L4352.63,352.05L4359.47,321.12L4380,394.46L4386.84,430.45L4421.06,509.23L4427.91,511.78L4763.25,496.02L4770.09,478.37L4797.47,454.58L4804.31,437.35L4824.84,384.65L4831.69,256.9L4838.53,256.63L4845.38,278.78L4852.22,278.73L4859.06,322.78L4879.59,178.79L4886.44,200.72L4893.28,281.8L4920.66,170.88L4927.5,169.67L4934.34,169.86L4941.19,125.02L4968.56,178.76L4975.41,185.74L5037,391.1L5043.84,424.68L5078.06,511.65L5084.91,511.66L5433.94,494.24L5440.78,465.4L5536.59,169.14L5543.44,168.63L5577.66,122.16L5584.5,123.05L5666.63,317.99L5673.47,347.41L5735.06,511.77L5741.91,511.78L6077.25,489.67L6084.09,476.49L6125.16,361.8L6132,316.51L6138.84,322L6145.69,255.09L6207.28,169.42L6214.13,171.84L6241.5,171.19L6248.34,125.03L6268.88,230.2L6289.41,208.57L6296.25,244.76L6303.09,235.73L6309.94,244.06L6316.78,268.78L6405.75,511.78L6412.59,511.78L6734.25,489.62L6741.09,476.46L6782.16,362.21L6789,283.1L6850.59,176.15L6857.44,178.96L6932.72,196.19L6939.56,211.31L7035.38,494.61L7042.22,495.84L7083.28,511.78L7090.13,511.78L7398.09,476.4L7404.94,465.26L7452.84,322.6L7459.69,282.26L7493.91,233.29L7500.75,206.91L7541.81,167.39L7548.66,168.86L7569.19,128.79L7582.88,156.82L7589.72,183.92L7623.94,241.33L7630.78,306.04L7699.22,506.97L7706.06,511.77L8055.09,476.52L8061.94,465.29L8109.84,361.94L8116.69,279.38L8185.13,175.56L8191.97,176.08L8226.19,143.1L8233.03,174.07L8239.88,184.33L8267.25,235.35L8274.09,289.02L8376.75,511.78L8383.59,511.78L8534.16,511.78\" style=\"vector-effect: non-scaling-stroke; fill: none; stroke: rgb(144, 238, 144); stroke-opacity: 1; stroke-width: 2px; opacity: 1;\"/></g><g class=\"points\"/><g class=\"text\"/></g></g></g><g class=\"overplot\"/><path class=\"xlines-above crisp\" d=\"M105,2270.5H1420\" style=\"fill: none; stroke-width: 1px; stroke: rgb(0, 0, 0); stroke-opacity: 1;\"/><path class=\"ylines-above crisp\" d=\"M105.5,1706.06V2270\" style=\"fill: none; stroke-width: 1px; stroke: rgb(0, 0, 0); stroke-opacity: 1;\"/><g class=\"overlines-above\"/><g class=\"xaxislayer-above\"><g class=\"x3tick\"><text text-anchor=\"middle\" x=\"0\" y=\"2304.6\" transform=\"translate(106,0)\" style=\"font-family: 'Fira Sans', Condensed; font-size: 28px; fill: rgb(0, 0, 0); fill-opacity: 1; white-space: pre; opacity: 1;\"><tspan class=\"line\" dy=\"0em\" x=\"0\" y=\"2304.6\">00:00</tspan><tspan class=\"line\" dy=\"1.3em\" x=\"0\" y=\"2304.6\">Jul 17, 2016</tspan></text></g><g class=\"x3tick\"><text text-anchor=\"middle\" x=\"0\" y=\"2304.6\" style=\"font-family: 'Fira Sans', Condensed; font-size: 28px; fill: rgb(0, 0, 0); fill-opacity: 1; white-space: pre; opacity: 1;\" transform=\"translate(270.25,0)\">06:00</text></g><g class=\"x3tick\"><text text-anchor=\"middle\" x=\"0\" y=\"2304.6\" style=\"font-family: 'Fira Sans', Condensed; font-size: 28px; fill: rgb(0, 0, 0); fill-opacity: 1; white-space: pre; opacity: 1;\" transform=\"translate(434.5,0)\">12:00</text></g><g class=\"x3tick\"><text text-anchor=\"middle\" x=\"0\" y=\"2304.6\" style=\"font-family: 'Fira Sans', Condensed; font-size: 28px; fill: rgb(0, 0, 0); fill-opacity: 1; white-space: pre; opacity: 1;\" transform=\"translate(598.75,0)\">18:00</text></g><g class=\"x3tick\"><text text-anchor=\"middle\" x=\"0\" y=\"2304.6\" style=\"font-family: 'Fira Sans', Condensed; font-size: 28px; fill: rgb(0, 0, 0); fill-opacity: 1; white-space: pre; opacity: 1;\" transform=\"translate(763,0)\"><tspan class=\"line\" dy=\"0em\" x=\"0\" y=\"2304.6\">00:00</tspan><tspan class=\"line\" dy=\"1.3em\" x=\"0\" y=\"2304.6\">Jul 18, 2016</tspan></text></g><g class=\"x3tick\"><text text-anchor=\"middle\" x=\"0\" y=\"2304.6\" style=\"font-family: 'Fira Sans', Condensed; font-size: 28px; fill: rgb(0, 0, 0); fill-opacity: 1; white-space: pre; opacity: 1;\" transform=\"translate(927.25,0)\">06:00</text></g><g class=\"x3tick\"><text text-anchor=\"middle\" x=\"0\" y=\"2304.6\" style=\"font-family: 'Fira Sans', Condensed; font-size: 28px; fill: rgb(0, 0, 0); fill-opacity: 1; white-space: pre; opacity: 1;\" transform=\"translate(1091.5,0)\">12:00</text></g><g class=\"x3tick\"><text text-anchor=\"middle\" x=\"0\" y=\"2304.6\" style=\"font-family: 'Fira Sans', Condensed; font-size: 28px; fill: rgb(0, 0, 0); fill-opacity: 1; white-space: pre; opacity: 1;\" transform=\"translate(1255.75,0)\">18:00</text></g><g class=\"x3tick\"><text text-anchor=\"middle\" x=\"0\" y=\"2304.6\" style=\"font-family: 'Fira Sans', Condensed; font-size: 28px; fill: rgb(0, 0, 0); fill-opacity: 1; white-space: pre; opacity: 1;\" transform=\"translate(1420,0)\"><tspan class=\"line\" dy=\"0em\" x=\"0\" y=\"2304.6\">00:00</tspan><tspan class=\"line\" dy=\"1.3em\" x=\"0\" y=\"2304.6\">Jul 19, 2016</tspan></text></g></g><g class=\"yaxislayer-above\"><g class=\"y3tick\"><text text-anchor=\"end\" x=\"99.4\" y=\"9.799999999999999\" transform=\"translate(0,2217.89)\" style=\"font-family: 'Fira Sans', Condensed; font-size: 28px; fill: rgb(0, 0, 0); fill-opacity: 1; white-space: pre; opacity: 1;\">0</text></g><g class=\"y3tick\"><text text-anchor=\"end\" x=\"99.4\" y=\"9.799999999999999\" style=\"font-family: 'Fira Sans', Condensed; font-size: 28px; fill: rgb(0, 0, 0); fill-opacity: 1; white-space: pre; opacity: 1;\" transform=\"translate(0,2141.36)\">0.05</text></g><g class=\"y3tick\"><text text-anchor=\"end\" x=\"99.4\" y=\"9.799999999999999\" style=\"font-family: 'Fira Sans', Condensed; font-size: 28px; fill: rgb(0, 0, 0); fill-opacity: 1; white-space: pre; opacity: 1;\" transform=\"translate(0,2064.84)\">0.1</text></g><g class=\"y3tick\"><text text-anchor=\"end\" x=\"99.4\" y=\"9.799999999999999\" style=\"font-family: 'Fira Sans', Condensed; font-size: 28px; fill: rgb(0, 0, 0); fill-opacity: 1; white-space: pre; opacity: 1;\" transform=\"translate(0,1988.32)\">0.15</text></g><g class=\"y3tick\"><text text-anchor=\"end\" x=\"99.4\" y=\"9.799999999999999\" style=\"font-family: 'Fira Sans', Condensed; font-size: 28px; fill: rgb(0, 0, 0); fill-opacity: 1; white-space: pre; opacity: 1;\" transform=\"translate(0,1911.79)\">0.2</text></g><g class=\"y3tick\"><text text-anchor=\"end\" x=\"99.4\" y=\"9.799999999999999\" style=\"font-family: 'Fira Sans', Condensed; font-size: 28px; fill: rgb(0, 0, 0); fill-opacity: 1; white-space: pre; opacity: 1;\" transform=\"translate(0,1835.27)\">0.25</text></g><g class=\"y3tick\"><text text-anchor=\"end\" x=\"99.4\" y=\"9.799999999999999\" style=\"font-family: 'Fira Sans', Condensed; font-size: 28px; fill: rgb(0, 0, 0); fill-opacity: 1; white-space: pre; opacity: 1;\" transform=\"translate(0,1758.74)\">0.3</text></g></g><g class=\"overaxes-above\"/></g></g><g class=\"polarlayer\"/><g class=\"smithlayer\"/><g class=\"ternarylayer\"/><g class=\"geolayer\"/><g class=\"funnelarealayer\"/><g class=\"pielayer\"/><g class=\"iciclelayer\"/><g class=\"treemaplayer\"/><g class=\"sunburstlayer\"/><g class=\"glimages\"/><defs id=\"topdefs-487ab8\"><g class=\"clips\"/><clipPath id=\"legend487ab8\"><rect width=\"378\" height=\"46\" x=\"0\" y=\"0\"/></clipPath></defs><g class=\"layer-above\"><g class=\"imagelayer\"/><g class=\"shapelayer\"/></g><g class=\"infolayer\"><g class=\"legend\" pointer-events=\"all\" transform=\"translate(1042,11.619999999999962)\"><rect class=\"bg\" shape-rendering=\"crispEdges\" style=\"stroke: rgb(68, 68, 68); stroke-opacity: 1; fill: rgb(0, 0, 0); fill-opacity: 0; stroke-width: 0px;\" width=\"378\" height=\"46\" x=\"0\" y=\"0\"/><g class=\"scrollbox\" transform=\"\" clip-path=\"url(#legend487ab8)\"><g class=\"groups\"><g class=\"traces\" transform=\"translate(0,22.75)\" style=\"opacity: 1;\"><text class=\"legendtext\" text-anchor=\"start\" x=\"40\" y=\"9.75\" style=\"font-family: 'Fira Sans', Condensed; font-size: 25px; fill: rgb(0, 0, 0); fill-opacity: 1; white-space: pre;\">Test data</text><g class=\"layers\" style=\"opacity: 1;\"><g class=\"legendfill\"/><g class=\"legendlines\"><path class=\"js-line\" d=\"M5,0h30\" style=\"fill: none; stroke: rgb(0, 0, 255); stroke-opacity: 1; stroke-width: 2px;\"/></g><g class=\"legendsymbols\"><g class=\"legendpoints\"/></g></g><rect class=\"legendtoggle\" x=\"0\" y=\"-17.75\" width=\"135.6875\" height=\"35.5\" style=\"fill: rgb(0, 0, 0); fill-opacity: 0;\"/></g><g class=\"traces\" transform=\"translate(138.1875,22.75)\" style=\"opacity: 1;\"><text class=\"legendtext\" text-anchor=\"start\" x=\"40\" y=\"9.75\" style=\"font-family: 'Fira Sans', Condensed; font-size: 25px; fill: rgb(0, 0, 0); fill-opacity: 1; white-space: pre;\">XGB</text><g class=\"layers\" style=\"opacity: 1;\"><g class=\"legendfill\"/><g class=\"legendlines\"><path class=\"js-line\" d=\"M5,0h30\" style=\"fill: none; stroke: rgb(255, 215, 0); stroke-opacity: 1; stroke-width: 2px;\"/></g><g class=\"legendsymbols\"><g class=\"legendpoints\"/></g></g><rect class=\"legendtoggle\" x=\"0\" y=\"-17.75\" width=\"83.359375\" height=\"35.5\" style=\"fill: rgb(0, 0, 0); fill-opacity: 0;\"/></g><g class=\"traces\" transform=\"translate(224.046875,22.75)\" style=\"opacity: 1;\"><text class=\"legendtext\" text-anchor=\"start\" x=\"40\" y=\"9.75\" style=\"font-family: 'Fira Sans', Condensed; font-size: 25px; fill: rgb(0, 0, 0); fill-opacity: 1; white-space: pre;\">SVR</text><g class=\"layers\" style=\"opacity: 1;\"><g class=\"legendfill\"/><g class=\"legendlines\"><path class=\"js-line\" d=\"M5,0h30\" style=\"fill: none; stroke: rgb(255, 0, 255); stroke-opacity: 1; stroke-width: 2px;\"/></g><g class=\"legendsymbols\"><g class=\"legendpoints\"/></g></g><rect class=\"legendtoggle\" x=\"0\" y=\"-17.75\" width=\"81.125\" height=\"35.5\" style=\"fill: rgb(0, 0, 0); fill-opacity: 0;\"/></g><g class=\"traces\" transform=\"translate(307.671875,22.75)\" style=\"opacity: 1;\"><text class=\"legendtext\" text-anchor=\"start\" x=\"40\" y=\"9.75\" style=\"font-family: 'Fira Sans', Condensed; font-size: 25px; fill: rgb(0, 0, 0); fill-opacity: 1; white-space: pre;\">RF</text><g class=\"layers\" style=\"opacity: 1;\"><g class=\"legendfill\"/><g class=\"legendlines\"><path class=\"js-line\" d=\"M5,0h30\" style=\"fill: none; stroke: rgb(144, 238, 144); stroke-opacity: 1; stroke-width: 2px;\"/></g><g class=\"legendsymbols\"><g class=\"legendpoints\"/></g></g><rect class=\"legendtoggle\" x=\"0\" y=\"-17.75\" width=\"67.125\" height=\"35.5\" style=\"fill: rgb(0, 0, 0); fill-opacity: 0;\"/></g></g></g><rect class=\"scrollbar\" rx=\"20\" ry=\"3\" width=\"0\" height=\"0\" style=\"fill: rgb(128, 139, 164); fill-opacity: 1;\" x=\"0\" y=\"0\"/></g><g class=\"g-gtitle\"/><g class=\"g-xtitle\"><text class=\"xtitle\" x=\"763\" y=\"782.453125\" text-anchor=\"middle\" style=\"font-family: 'Fira Sans', Condensed; font-size: 35px; fill: rgb(0, 0, 0); opacity: 1; font-weight: normal; white-space: pre;\"><tspan style=\"font-weight:bold\">Time (15 min)</tspan></text></g><g class=\"g-x2title\"><text class=\"x2title\" x=\"763\" y=\"1584.984375\" text-anchor=\"middle\" style=\"font-family: 'Fira Sans', Condensed; font-size: 35px; fill: rgb(0, 0, 0); opacity: 1; font-weight: normal; white-space: pre;\"><tspan style=\"font-weight:bold\">Time (15 min)</tspan></text></g><g class=\"g-x3title\"><text class=\"x3title\" x=\"763\" y=\"2387.5\" text-anchor=\"middle\" style=\"font-family: 'Fira Sans', Condensed; font-size: 35px; fill: rgb(0, 0, 0); opacity: 1; font-weight: normal; white-space: pre;\"><tspan style=\"font-weight:bold\">Time (15 min)</tspan></text></g><g class=\"g-ytitle\" transform=\"translate(20.7353515625,0)\"><text class=\"ytitle\" transform=\"rotate(-90,12.265625,382.97)\" x=\"12.265625\" y=\"382.97\" text-anchor=\"middle\" style=\"font-family: 'Fira Sans', Condensed; font-size: 35px; fill: rgb(0, 0, 0); opacity: 1; font-weight: normal; white-space: pre;\"><tspan style=\"font-weight:bold\">PV Power Output (kWh)</tspan></text></g><g class=\"g-y2title\" transform=\"translate(20.734375,0)\"><text class=\"y2title\" transform=\"rotate(-90,12.265625,1185.5)\" x=\"12.265625\" y=\"1185.5\" text-anchor=\"middle\" style=\"font-family: 'Fira Sans', Condensed; font-size: 35px; fill: rgb(0, 0, 0); opacity: 1; font-weight: normal; white-space: pre;\"><tspan style=\"font-weight:bold\">PV Power Output (kWh)</tspan></text></g><g class=\"g-y3title\" transform=\"translate(20.7490234375,0)\"><text class=\"y3title\" transform=\"rotate(-90,12.265625,1988.03)\" x=\"12.265625\" y=\"1988.03\" text-anchor=\"middle\" style=\"font-family: 'Fira Sans', Condensed; font-size: 35px; fill: rgb(0, 0, 0); opacity: 1; font-weight: normal; white-space: pre;\"><tspan style=\"font-weight:bold\">PV Power Output (kWh)</tspan></text></g><g class=\"annotation\" data-index=\"0\" style=\"opacity: 1;\"><g class=\"annotation-text-g\" transform=\"rotate(0,763,78)\"><g class=\"cursor-pointer\" transform=\"translate(742,55)\"><rect class=\"bg\" x=\"0.5\" y=\"0.5\" width=\"41\" height=\"45\" style=\"stroke-width: 1px; stroke: rgb(0, 0, 0); stroke-opacity: 0; fill: rgb(0, 0, 0); fill-opacity: 0;\"/><text class=\"annotation-text\" text-anchor=\"middle\" x=\"20.90625\" y=\"35\" style=\"font-family: 'Fira Sans', Condensed; font-size: 35px; fill: rgb(0, 0, 0); fill-opacity: 1; white-space: pre;\">(a)</text></g></g></g><g class=\"annotation\" data-index=\"1\" style=\"opacity: 1;\"><g class=\"annotation-text-g\" transform=\"rotate(0,763,880.53)\"><g class=\"cursor-pointer\" transform=\"translate(742,858)\"><rect class=\"bg\" x=\"0.5\" y=\"0.5\" width=\"42\" height=\"45\" style=\"stroke-width: 1px; stroke: rgb(0, 0, 0); stroke-opacity: 0; fill: rgb(0, 0, 0); fill-opacity: 0;\"/><text class=\"annotation-text\" text-anchor=\"middle\" x=\"21.640625\" y=\"35\" style=\"font-family: 'Fira Sans', Condensed; font-size: 35px; fill: rgb(0, 0, 0); fill-opacity: 1; white-space: pre;\">(b)</text></g></g></g><g class=\"annotation\" data-index=\"2\" style=\"opacity: 1;\"><g class=\"annotation-text-g\" transform=\"rotate(0,763,1683.06)\"><g class=\"cursor-pointer\" transform=\"translate(743,1660)\"><rect class=\"bg\" x=\"0.5\" y=\"0.5\" width=\"39\" height=\"45\" style=\"stroke-width: 1px; stroke: rgb(0, 0, 0); stroke-opacity: 0; fill: rgb(0, 0, 0); fill-opacity: 0;\"/><text class=\"annotation-text\" text-anchor=\"middle\" x=\"19.828125\" y=\"35\" style=\"font-family: 'Fira Sans', Condensed; font-size: 35px; fill: rgb(0, 0, 0); fill-opacity: 1; white-space: pre;\">(c)</text></g></g></g></g></svg>"
            ]
          },
          "metadata": {},
          "output_type": "display_data"
        }
      ],
      "source": [
        "figPVCom2 = make_subplots(rows=3, cols=1, vertical_spacing = 0.11, subplot_titles=['(a)','(b)','(c)'])\n",
        "\n",
        "\n",
        "figPVCom2.append_trace(go.Scatter(y=datosPV_test.KWHD[95:,], x=datosPV_test.index,\n",
        "                                 mode='lines', line=dict(width=2, color=\"blue\"),\n",
        "                                 name=\"Test data\"), row=1, col=1)\n",
        "figPVCom2.append_trace(go.Scatter(y=predictionsXGB[:,0], x=datosPV_test.index,\n",
        "                                 mode='lines', line=dict(width=2, color=\"gold\"),\n",
        "                                 name=\"XGB\"), row=1, col=1)\n",
        "figPVCom2.append_trace(go.Scatter(y=predictionsSVR[:,0], x=datosPV_test.index,\n",
        "                                 mode='lines', line=dict(width=2, color=\"fuchsia\"),\n",
        "                                 name=\"SVR\"), row=1, col=1)\n",
        "figPVCom2.append_trace(go.Scatter(y=predictionsRF[:,0], x=datosPV_test.index,\n",
        "                                 mode='lines', line=dict(width=2, color=\"lightgreen\"),\n",
        "                                 name=\"RF\"), row=1, col=1)\n",
        "\n",
        "\n",
        "figPVCom2.append_trace(go.Scatter(y=datosPV_test.KWHD[96:,], x=datosPV_test.index,\n",
        "                                 mode='lines', line=dict(width=2, color=\"blue\"),\n",
        "                                 name=\"Test data\", showlegend=False), row=2, col=1)\n",
        "figPVCom2.append_trace(go.Scatter(y=predictionsXGB2[:,1], x=datosPV_test.index,\n",
        "                                 mode='lines', line=dict(width=2, color=\"gold\"),\n",
        "                                 name=\"XGB\", showlegend=False), row=2, col=1)\n",
        "figPVCom2.append_trace(go.Scatter(y=predictionsSVR2[:,1], x=datosPV_test.index,\n",
        "                                 mode='lines', line=dict(width=2, color=\"fuchsia\"),\n",
        "                                 name=\"SVR\", showlegend=False), row=2, col=1)\n",
        "figPVCom2.append_trace(go.Scatter(y=predictionsRF2[:,1], x=datosPV_test.index,\n",
        "                                 mode='lines', line=dict(width=2, color=\"lightgreen\"),\n",
        "                                 name=\"RF\", showlegend=False), row=2, col=1)\n",
        "\n",
        "\n",
        "\n",
        "figPVCom2.append_trace(go.Scatter(y=datosPV_test.KWHD[98:,], x=datosPV_test.index,\n",
        "                                 mode='lines', line=dict(width=2, color=\"blue\"),\n",
        "                                 name=\"Test data\", showlegend=False), row=3, col=1)\n",
        "figPVCom2.append_trace(go.Scatter(y=predictionsXGB3[:,3], x=datosPV_test.index,\n",
        "                                 mode='lines', line=dict(width=2, color=\"gold\"),\n",
        "                                 name=\"XGB\", showlegend=False), row=3, col=1)\n",
        "figPVCom2.append_trace(go.Scatter(y=predictionsSVR3[:,3], x=datosPV_test.index,\n",
        "                                 mode='lines', line=dict(width=2, color=\"fuchsia\"),\n",
        "                                 name=\"SVR\", showlegend=False), row=3, col=1)\n",
        "figPVCom2.append_trace(go.Scatter(y=predictionsRF3[:,3], x=datosPV_test.index,\n",
        "                                 mode='lines', line=dict(width=2, color=\"lightgreen\"),\n",
        "                                 name=\"RF\", showlegend=False), row=3, col=1)\n",
        "\n",
        "\n",
        "\n",
        "figPVCom2.update_layout(title='',\n",
        "                      paper_bgcolor='rgba(0,0,0,0)',\n",
        "                      plot_bgcolor='rgba(0,0,0,0)',\n",
        "                      width=1500,height=2400,\n",
        "                      yaxis=dict(color=\"black\"),\n",
        "                      xaxis=dict(color=\"black\"),\n",
        "                      font=dict(family=\"Fira Sans, Condensed\", color='black'),\n",
        "                      legend=dict(orientation=\"h\",yanchor=\"bottom\",y=1.02,xanchor=\"right\",x=1, font_size=25, font_color='black'),\n",
        "                      showlegend=True)\n",
        "figPVCom2.update_xaxes(range=['2016-07-17 00:00:00','2016-07-19 00:00:00'])    \n",
        "figPVCom2.update_xaxes(showline=True, linewidth=1, linecolor='black', gridcolor='lightgray', mirror=False, title_text='<b>Time (15 min)</b>', titlefont_size=35, tickfont_size=28)\n",
        "figPVCom2.update_yaxes(showline=True, linewidth=1, gridcolor='lightgray', linecolor='black', mirror=False, title_text='<b>PV Power Output (kWh)</b>', titlefont_size=35, tickfont_size=28)\n",
        "figPVCom2.update_annotations(font=dict(size=35))\n",
        "figPVCom2.show(\"svg\")"
      ]
    }
  ],
  "metadata": {
    "accelerator": "GPU",
    "colab": {
      "provenance": []
    },
    "gpuClass": "standard",
    "kernelspec": {
      "display_name": "KerasGPU",
      "language": "python",
      "name": "python3"
    },
    "language_info": {
      "codemirror_mode": {
        "name": "ipython",
        "version": 3
      },
      "file_extension": ".py",
      "mimetype": "text/x-python",
      "name": "python",
      "nbconvert_exporter": "python",
      "pygments_lexer": "ipython3",
      "version": "3.10.11"
    },
    "vscode": {
      "interpreter": {
        "hash": "1cbe3a5237abfde10aad4a19bb4b7951214f0b3983db57ca0e3183b079bb51f8"
      }
    }
  },
  "nbformat": 4,
  "nbformat_minor": 0
}
